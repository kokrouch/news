{
 "cells": [
  {
   "cell_type": "code",
   "execution_count": 1,
   "id": "aaf83d1d",
   "metadata": {
    "execution": {
     "iopub.execute_input": "2022-07-22T15:31:52.565107Z",
     "iopub.status.busy": "2022-07-22T15:31:52.564387Z",
     "iopub.status.idle": "2022-07-22T15:32:01.410486Z",
     "shell.execute_reply": "2022-07-22T15:32:01.409217Z"
    },
    "papermill": {
     "duration": 8.863437,
     "end_time": "2022-07-22T15:32:01.413787",
     "exception": false,
     "start_time": "2022-07-22T15:31:52.550350",
     "status": "completed"
    },
    "tags": []
   },
   "outputs": [],
   "source": [
    "import transformers\n",
    "from transformers import BertModel, BertTokenizer, AdamW, get_linear_schedule_with_warmup\n",
    "\n",
    "import torch\n",
    "from torch import nn, optim\n",
    "from torch.utils.data import Dataset, DataLoader\n",
    "import torch.nn.functional as F\n",
    "\n",
    "import re\n",
    "\n",
    "import numpy as np\n",
    "import pandas as pd\n",
    "import seaborn as sns\n",
    "from pylab import rcParams\n",
    "import matplotlib.pyplot as plt\n",
    "from matplotlib import rc\n",
    "\n",
    "\n",
    "from sklearn.model_selection import train_test_split\n",
    "from sklearn.preprocessing import LabelEncoder\n",
    "from sklearn.metrics import accuracy_score, f1_score\n",
    "from sklearn.utils.class_weight import compute_class_weight\n",
    "from collections import defaultdict\n",
    "from textwrap import wrap\n",
    "\n",
    "from tqdm import tqdm\n",
    "\n",
    "\n",
    "%matplotlib inline\n",
    "%config InlineBackend.figure_format='retina'\n",
    "\n",
    "sns.set(style='whitegrid', palette='muted', font_scale=1.2)\n",
    "HAPPY_COLORS_PALETTE = [\"#01BEFE\", \"#FFDD00\", \"#FF7D00\", \"#FF006D\", \"#ADFF02\", \"#8F00FF\"]\n",
    "\n",
    "sns.set_palette(sns.color_palette(HAPPY_COLORS_PALETTE))\n",
    "rcParams['figure.figsize'] = 12, 8\n",
    "\n",
    "RANDOM_SEED = 2022\n",
    "np.random.seed(RANDOM_SEED)\n",
    "\n",
    "torch.manual_seed(RANDOM_SEED)\n",
    "device = torch.device(\"cuda:0\" if torch.cuda.is_available() else \"cpu\")"
   ]
  },
  {
   "cell_type": "code",
   "execution_count": 2,
   "id": "9b692beb",
   "metadata": {
    "execution": {
     "iopub.execute_input": "2022-07-22T15:32:01.436651Z",
     "iopub.status.busy": "2022-07-22T15:32:01.435551Z",
     "iopub.status.idle": "2022-07-22T15:32:02.786566Z",
     "shell.execute_reply": "2022-07-22T15:32:02.785045Z"
    },
    "papermill": {
     "duration": 1.365956,
     "end_time": "2022-07-22T15:32:02.790100",
     "exception": false,
     "start_time": "2022-07-22T15:32:01.424144",
     "status": "completed"
    },
    "tags": []
   },
   "outputs": [],
   "source": [
    "train_data = pd.read_csv('../input/sberbank/train_aug.csv', index_col=0)\n",
    "test_data = pd.read_csv('../input/sberbank/test_data.csv', index_col='id')"
   ]
  },
  {
   "cell_type": "code",
   "execution_count": 3,
   "id": "7f02d490",
   "metadata": {
    "execution": {
     "iopub.execute_input": "2022-07-22T15:32:02.812954Z",
     "iopub.status.busy": "2022-07-22T15:32:02.811910Z",
     "iopub.status.idle": "2022-07-22T15:32:02.863968Z",
     "shell.execute_reply": "2022-07-22T15:32:02.862654Z"
    },
    "papermill": {
     "duration": 0.066409,
     "end_time": "2022-07-22T15:32:02.866977",
     "exception": false,
     "start_time": "2022-07-22T15:32:02.800568",
     "status": "completed"
    },
    "tags": []
   },
   "outputs": [],
   "source": [
    "test_data.drop('Unnamed: 0', inplace=True, axis=1)\n",
    "test_data.fillna('', inplace=True)\n",
    "test_data['titletext'] = test_data['title'] + \". \" + test_data['text']"
   ]
  },
  {
   "cell_type": "code",
   "execution_count": 4,
   "id": "07531363",
   "metadata": {
    "execution": {
     "iopub.execute_input": "2022-07-22T15:32:02.889435Z",
     "iopub.status.busy": "2022-07-22T15:32:02.889081Z",
     "iopub.status.idle": "2022-07-22T15:33:14.554269Z",
     "shell.execute_reply": "2022-07-22T15:33:14.552928Z"
    },
    "papermill": {
     "duration": 71.67982,
     "end_time": "2022-07-22T15:33:14.557386",
     "exception": false,
     "start_time": "2022-07-22T15:32:02.877566",
     "status": "completed"
    },
    "tags": []
   },
   "outputs": [
    {
     "data": {
      "application/vnd.jupyter.widget-view+json": {
       "model_id": "e5548ba341b74ac988d37985203dbc3a",
       "version_major": 2,
       "version_minor": 0
      },
      "text/plain": [
       "Downloading:   0%|          | 0.00/1.57M [00:00<?, ?B/s]"
      ]
     },
     "metadata": {},
     "output_type": "display_data"
    },
    {
     "data": {
      "application/vnd.jupyter.widget-view+json": {
       "model_id": "3b65d5f69b3c4897bb4e9aa7bee05857",
       "version_major": 2,
       "version_minor": 0
      },
      "text/plain": [
       "Downloading:   0%|          | 0.00/112 [00:00<?, ?B/s]"
      ]
     },
     "metadata": {},
     "output_type": "display_data"
    },
    {
     "data": {
      "application/vnd.jupyter.widget-view+json": {
       "model_id": "0daf41b681fa4d4bb23329b60cc6ee09",
       "version_major": 2,
       "version_minor": 0
      },
      "text/plain": [
       "Downloading:   0%|          | 0.00/24.0 [00:00<?, ?B/s]"
      ]
     },
     "metadata": {},
     "output_type": "display_data"
    },
    {
     "data": {
      "application/vnd.jupyter.widget-view+json": {
       "model_id": "04fafc5616b643928000d13748058f9b",
       "version_major": 2,
       "version_minor": 0
      },
      "text/plain": [
       "Downloading:   0%|          | 0.00/642 [00:00<?, ?B/s]"
      ]
     },
     "metadata": {},
     "output_type": "display_data"
    },
    {
     "data": {
      "application/vnd.jupyter.widget-view+json": {
       "model_id": "fd2f0ae0498a4216b8d1d98581c448f9",
       "version_major": 2,
       "version_minor": 0
      },
      "text/plain": [
       "Downloading:   0%|          | 0.00/678M [00:00<?, ?B/s]"
      ]
     },
     "metadata": {},
     "output_type": "display_data"
    }
   ],
   "source": [
    "tokenizer = BertTokenizer.from_pretrained('DeepPavlov/rubert-base-cased-sentence')\n",
    "bert = BertModel.from_pretrained('DeepPavlov/rubert-base-cased-sentence')"
   ]
  },
  {
   "cell_type": "code",
   "execution_count": 5,
   "id": "7dce8f3f",
   "metadata": {
    "execution": {
     "iopub.execute_input": "2022-07-22T15:33:14.582481Z",
     "iopub.status.busy": "2022-07-22T15:33:14.582156Z",
     "iopub.status.idle": "2022-07-22T15:33:14.593820Z",
     "shell.execute_reply": "2022-07-22T15:33:14.592543Z"
    },
    "papermill": {
     "duration": 0.026408,
     "end_time": "2022-07-22T15:33:14.596385",
     "exception": false,
     "start_time": "2022-07-22T15:33:14.569977",
     "status": "completed"
    },
    "tags": []
   },
   "outputs": [],
   "source": [
    "train, val = train_test_split(train_data, test_size=0.2, random_state=2022, shuffle=True)\n",
    "train.reset_index(drop=True, inplace=True)\n",
    "val.reset_index(drop=True, inplace=True)"
   ]
  },
  {
   "cell_type": "code",
   "execution_count": 6,
   "id": "2c0f9d11",
   "metadata": {
    "execution": {
     "iopub.execute_input": "2022-07-22T15:33:14.620625Z",
     "iopub.status.busy": "2022-07-22T15:33:14.619565Z",
     "iopub.status.idle": "2022-07-22T15:33:14.633047Z",
     "shell.execute_reply": "2022-07-22T15:33:14.631518Z"
    },
    "papermill": {
     "duration": 0.02842,
     "end_time": "2022-07-22T15:33:14.635883",
     "exception": false,
     "start_time": "2022-07-22T15:33:14.607463",
     "status": "completed"
    },
    "tags": []
   },
   "outputs": [],
   "source": [
    "class Tokenisation(Dataset):\n",
    "    \n",
    "    \n",
    "    def __init__(self, data, targets, tokenizer, max_len):\n",
    "        self.data = data\n",
    "        self.targets = targets\n",
    "        self.tokenizer = tokenizer\n",
    "        self.max_len = max_len\n",
    "        self.pad_vid = self.tokenizer.vocab[\"[PAD]\"]\n",
    "        \n",
    "        \n",
    "    def __len__(self):\n",
    "        return len(self.data)\n",
    "    \n",
    "    def __getitem__(self, item):\n",
    "        data = str(self.data[item])\n",
    "        data = \" \".join(data.split())\n",
    "        target = self.targets\n",
    "        \n",
    "        encoding = self.tokenizer.encode_plus(\n",
    "          data,\n",
    "          add_special_tokens=True,\n",
    "          max_length=self.max_len,\n",
    "          return_token_type_ids=False,\n",
    "          pad_to_max_length=True,\n",
    "          return_attention_mask=True,\n",
    "          return_tensors='pt',\n",
    "          truncation=True\n",
    "        )\n",
    "        \n",
    "        ids = encoding['input_ids']\n",
    "        masks = encoding['attention_mask']\n",
    "        token_type_ids = encoding['input_ids']\n",
    "        \n",
    "        true_seq_length = len(encoding['input_ids'][0])\n",
    "        pad_size = self.max_len - true_seq_length\n",
    "        pad_ids = torch.Tensor([self.pad_vid] * pad_size).long()\n",
    "        ids = torch.cat((encoding['input_ids'][0], pad_ids))\n",
    "        \n",
    "        \n",
    "#         padding_len = self.max_len - len(ids)\n",
    "#         ids = ids + ([0] * padding_len)\n",
    "#         masks = ids + ([0] * padding_len)\n",
    "#         token_type_ids = token_type_ids + ([0] * padding_len)\n",
    "        \n",
    "        return {\n",
    "          'text': data,\n",
    "          'input_ids': ids.flatten(),\n",
    "          'attention_mask': encoding['attention_mask'].flatten(),\n",
    "          'targets': torch.tensor(target[item], dtype=torch.long)\n",
    "        }"
   ]
  },
  {
   "cell_type": "code",
   "execution_count": 7,
   "id": "6b7161c8",
   "metadata": {
    "execution": {
     "iopub.execute_input": "2022-07-22T15:33:14.660995Z",
     "iopub.status.busy": "2022-07-22T15:33:14.659029Z",
     "iopub.status.idle": "2022-07-22T15:33:14.667185Z",
     "shell.execute_reply": "2022-07-22T15:33:14.665916Z"
    },
    "papermill": {
     "duration": 0.022791,
     "end_time": "2022-07-22T15:33:14.669657",
     "exception": false,
     "start_time": "2022-07-22T15:33:14.646866",
     "status": "completed"
    },
    "tags": []
   },
   "outputs": [],
   "source": [
    "def CustomLoader(df, tokenizer, max_len, batch_size):\n",
    "    ds = Tokenisation(\n",
    "    data=df['sentence'].to_numpy(),\n",
    "    targets=df['label'].to_numpy(),\n",
    "    tokenizer=tokenizer,\n",
    "    max_len=max_len\n",
    "    )\n",
    "    return DataLoader(ds,batch_size=batch_size, num_workers=2)"
   ]
  },
  {
   "cell_type": "code",
   "execution_count": 8,
   "id": "b631811a",
   "metadata": {
    "execution": {
     "iopub.execute_input": "2022-07-22T15:33:14.695437Z",
     "iopub.status.busy": "2022-07-22T15:33:14.694390Z",
     "iopub.status.idle": "2022-07-22T15:33:14.702009Z",
     "shell.execute_reply": "2022-07-22T15:33:14.700612Z"
    },
    "papermill": {
     "duration": 0.023104,
     "end_time": "2022-07-22T15:33:14.704993",
     "exception": false,
     "start_time": "2022-07-22T15:33:14.681889",
     "status": "completed"
    },
    "tags": []
   },
   "outputs": [],
   "source": [
    "BATCH_SIZE = 32\n",
    "MAX_LEN = 115\n",
    "\n",
    "train_loader = CustomLoader(train, tokenizer, MAX_LEN, BATCH_SIZE)\n",
    "val_loader = CustomLoader(val, tokenizer, MAX_LEN, BATCH_SIZE)"
   ]
  },
  {
   "cell_type": "code",
   "execution_count": 9,
   "id": "af6eaffa",
   "metadata": {
    "execution": {
     "iopub.execute_input": "2022-07-22T15:33:14.728454Z",
     "iopub.status.busy": "2022-07-22T15:33:14.728130Z",
     "iopub.status.idle": "2022-07-22T15:33:14.767685Z",
     "shell.execute_reply": "2022-07-22T15:33:14.766355Z"
    },
    "papermill": {
     "duration": 0.054443,
     "end_time": "2022-07-22T15:33:14.770423",
     "exception": false,
     "start_time": "2022-07-22T15:33:14.715980",
     "status": "completed"
    },
    "tags": []
   },
   "outputs": [],
   "source": [
    "class TextClassifier(nn.Module):\n",
    "    \n",
    "    def __init__(self, n_classes):\n",
    "        super(TextClassifier, self).__init__()\n",
    "        self.bert = BertModel.from_pretrained('DeepPavlov/rubert-base-cased-sentence')\n",
    "        self.drop = nn.Dropout(p=0.3)\n",
    "        self.out = nn.Linear(self.bert.config.hidden_size, n_classes)\n",
    "            \n",
    "    \n",
    "    def forward(self, input_ids, attention_mask):\n",
    "        _, pooled_output = self.bert(\n",
    "          input_ids=input_ids,\n",
    "          attention_mask=attention_mask,\n",
    "          return_dict=False\n",
    "        )\n",
    "        output = self.drop(pooled_output)\n",
    "        return self.out(output)\n",
    "    \n",
    "    def unfreeze(self,start_layer,end_layer):\n",
    "        def children(m):\n",
    "            return m if isinstance(m, (list, tuple)) else list(m.children())\n",
    "        def set_trainable_attr(m, b):\n",
    "            m.trainable = b\n",
    "            for p in m.parameters():\n",
    "                p.requires_grad = b\n",
    "        def apply_leaf(m, f):\n",
    "            c = children(m)\n",
    "            if isinstance(m, nn.Module):\n",
    "                f(m)\n",
    "            if len(c) > 0:\n",
    "                for l in c:\n",
    "                    apply_leaf(l, f)\n",
    "        def set_trainable(l, b):\n",
    "            apply_leaf(l, lambda m: set_trainable_attr(m, b))\n",
    "\n",
    "        # You can unfreeze the last layer of bert by calling set_trainable(model.bert.encoder.layer[23], True)\n",
    "        set_trainable(self.bert, False)\n",
    "        for i in range(start_layer, end_layer+1):\n",
    "            set_trainable(self.bert.encoder.layer[i], True)"
   ]
  },
  {
   "cell_type": "code",
   "execution_count": 10,
   "id": "034b63b9",
   "metadata": {
    "execution": {
     "iopub.execute_input": "2022-07-22T15:33:14.793832Z",
     "iopub.status.busy": "2022-07-22T15:33:14.793455Z",
     "iopub.status.idle": "2022-07-22T15:33:24.452972Z",
     "shell.execute_reply": "2022-07-22T15:33:24.451574Z"
    },
    "papermill": {
     "duration": 9.674781,
     "end_time": "2022-07-22T15:33:24.456276",
     "exception": false,
     "start_time": "2022-07-22T15:33:14.781495",
     "status": "completed"
    },
    "tags": []
   },
   "outputs": [],
   "source": [
    "model = TextClassifier(len(train_data['label'].unique()))\n",
    "model = model.to(device)"
   ]
  },
  {
   "cell_type": "code",
   "execution_count": 11,
   "id": "508bc30c",
   "metadata": {
    "execution": {
     "iopub.execute_input": "2022-07-22T15:33:24.484124Z",
     "iopub.status.busy": "2022-07-22T15:33:24.483772Z",
     "iopub.status.idle": "2022-07-22T15:33:24.512399Z",
     "shell.execute_reply": "2022-07-22T15:33:24.509527Z"
    },
    "papermill": {
     "duration": 0.043878,
     "end_time": "2022-07-22T15:33:24.515214",
     "exception": false,
     "start_time": "2022-07-22T15:33:24.471336",
     "status": "completed"
    },
    "tags": []
   },
   "outputs": [
    {
     "name": "stderr",
     "output_type": "stream",
     "text": [
      "/opt/conda/lib/python3.7/site-packages/transformers/optimization.py:309: FutureWarning: This implementation of AdamW is deprecated and will be removed in a future version. Use the PyTorch implementation torch.optim.AdamW instead, or set `no_deprecation_warning=True` to disable this warning\n",
      "  FutureWarning,\n"
     ]
    }
   ],
   "source": [
    "EPOCHS = 20\n",
    "MAX_LENGTH = 115\n",
    "TRAIN_BATCH_SIZE = 32\n",
    "VALID_BATCH_SIZE = 8\n",
    "\n",
    "LearningRate = 3e-5\n",
    "\n",
    "BETAS = (0.9, 0.999)\n",
    "BERT_WEIGHT_DECAY = 0.01\n",
    "EPS = 1e-8\n",
    " \n",
    "bert_identifiers = ['embedding', 'encoder', 'pooler']\n",
    "no_weight_decay_identifiers = ['bias', 'LayerNorm.weight']\n",
    "grouped_model_parameters = [\n",
    "        {'params': [param for name, param in model.named_parameters()\n",
    "                    if any(identifier in name for identifier in bert_identifiers) and\n",
    "                    not any(identifier_ in name for identifier_ in no_weight_decay_identifiers)],\n",
    "        'lr': LearningRate,\n",
    "        'betas': BETAS,\n",
    "        'weight_decay': BERT_WEIGHT_DECAY,\n",
    "        'eps': EPS},\n",
    "        {'params': [param for name, param in model.named_parameters()\n",
    "                    if any(identifier in name for identifier in bert_identifiers) and\n",
    "                    any(identifier_ in name for identifier_ in no_weight_decay_identifiers)],\n",
    "        'lr': LearningRate,\n",
    "        'betas': BETAS,\n",
    "        'weight_decay': 0.0,\n",
    "        'eps': EPS},\n",
    "        {'params': [param for name, param in model.named_parameters()\n",
    "                    if not any(identifier in name for identifier in bert_identifiers)],\n",
    "        'lr': LearningRate,\n",
    "        'betas': BETAS,\n",
    "        'weight_decay': 0.0,\n",
    "        'eps': EPS}\n",
    "]\n",
    "\n",
    "\n",
    "optimizers = AdamW(grouped_model_parameters)\n",
    "\n",
    "optimizer = AdamW(model.parameters(), lr=4e-5, correct_bias=False)\n",
    "\n",
    "total_steps = len(train_loader) * EPOCHS\n",
    "\n",
    "scheduler = get_linear_schedule_with_warmup(\n",
    "  optimizer,\n",
    "  num_warmup_steps=0,\n",
    "  num_training_steps=total_steps\n",
    ")\n",
    "loss_fn = nn.CrossEntropyLoss().to(device)"
   ]
  },
  {
   "cell_type": "code",
   "execution_count": 12,
   "id": "ef62caaa",
   "metadata": {
    "execution": {
     "iopub.execute_input": "2022-07-22T15:33:24.539876Z",
     "iopub.status.busy": "2022-07-22T15:33:24.539513Z",
     "iopub.status.idle": "2022-07-22T15:33:24.549873Z",
     "shell.execute_reply": "2022-07-22T15:33:24.548515Z"
    },
    "papermill": {
     "duration": 0.026419,
     "end_time": "2022-07-22T15:33:24.552836",
     "exception": false,
     "start_time": "2022-07-22T15:33:24.526417",
     "status": "completed"
    },
    "tags": []
   },
   "outputs": [],
   "source": [
    "def train_epoch(model, data_loader, loss_fn, optimizer, device, scheduler, n_examples):\n",
    "    \n",
    "    \n",
    "    model = model.train()\n",
    "    losses = []\n",
    "    correct_predictions = 0\n",
    "    for d in tqdm(data_loader):\n",
    "        input_ids = d[\"input_ids\"].to(device)\n",
    "        attention_mask = d[\"attention_mask\"].to(device)\n",
    "        targets = d[\"targets\"].to(device)\n",
    "        outputs = model(\n",
    "          input_ids=input_ids,\n",
    "          attention_mask=attention_mask\n",
    "        )\n",
    "        _, preds = torch.max(outputs, dim=1)\n",
    "        loss = loss_fn(outputs, targets)\n",
    "        correct_predictions += torch.sum(preds == targets)\n",
    "        losses.append(loss.item())\n",
    "        loss.backward()\n",
    "        nn.utils.clip_grad_norm_(model.parameters(), max_norm=1.0)\n",
    "        optimizer.step()\n",
    "        scheduler.step()\n",
    "        optimizer.zero_grad()\n",
    "        \n",
    "    return correct_predictions.double() / n_examples, np.mean(losses)"
   ]
  },
  {
   "cell_type": "code",
   "execution_count": 13,
   "id": "d790a69d",
   "metadata": {
    "execution": {
     "iopub.execute_input": "2022-07-22T15:33:24.576042Z",
     "iopub.status.busy": "2022-07-22T15:33:24.575707Z",
     "iopub.status.idle": "2022-07-22T15:33:24.586202Z",
     "shell.execute_reply": "2022-07-22T15:33:24.584735Z"
    },
    "papermill": {
     "duration": 0.024856,
     "end_time": "2022-07-22T15:33:24.588764",
     "exception": false,
     "start_time": "2022-07-22T15:33:24.563908",
     "status": "completed"
    },
    "tags": []
   },
   "outputs": [],
   "source": [
    "def eval_model(model, data_loader, loss_fn, device, n_examples):\n",
    "    \n",
    "    model = model.eval()\n",
    "    \n",
    "    losses = []\n",
    "    \n",
    "    correct_predictions = 0\n",
    "    \n",
    "    with torch.no_grad():\n",
    "        for d in tqdm(data_loader):\n",
    "            input_ids = d[\"input_ids\"].to(device)\n",
    "            attention_mask = d[\"attention_mask\"].to(device)\n",
    "            targets = d[\"targets\"].to(device)\n",
    "            \n",
    "            outputs = model(\n",
    "            input_ids=input_ids,\n",
    "            attention_mask=attention_mask\n",
    "            )\n",
    "            \n",
    "            _, preds = torch.max(outputs, dim=1)\n",
    "            loss = loss_fn(outputs, targets)\n",
    "            correct_predictions += torch.sum(preds == targets)\n",
    "            losses.append(loss.item())\n",
    "            \n",
    "    return correct_predictions.double() / n_examples, np.mean(losses)"
   ]
  },
  {
   "cell_type": "code",
   "execution_count": 14,
   "id": "1668b016",
   "metadata": {
    "execution": {
     "iopub.execute_input": "2022-07-22T15:33:24.611978Z",
     "iopub.status.busy": "2022-07-22T15:33:24.611570Z",
     "iopub.status.idle": "2022-07-22T15:40:42.447507Z",
     "shell.execute_reply": "2022-07-22T15:40:42.444876Z"
    },
    "papermill": {
     "duration": 437.852956,
     "end_time": "2022-07-22T15:40:42.452933",
     "exception": false,
     "start_time": "2022-07-22T15:33:24.599977",
     "status": "completed"
    },
    "tags": []
   },
   "outputs": [
    {
     "name": "stdout",
     "output_type": "stream",
     "text": [
      "Epoch 1/20\n",
      "----------\n"
     ]
    },
    {
     "name": "stderr",
     "output_type": "stream",
     "text": [
      "  0%|          | 0/50 [00:00<?, ?it/s]/opt/conda/lib/python3.7/site-packages/transformers/tokenization_utils_base.py:2269: FutureWarning: The `pad_to_max_length` argument is deprecated and will be removed in a future version, use `padding=True` or `padding='longest'` to pad to the longest sequence in the batch, or use `padding='max_length'` to pad to a max length. In this case, you can give a specific length with `max_length` (e.g. `max_length=45`) or leave max_length to None to pad to the maximal input size of the model (e.g. 512 for Bert).\n",
      "  FutureWarning,\n",
      "/opt/conda/lib/python3.7/site-packages/transformers/tokenization_utils_base.py:2269: FutureWarning: The `pad_to_max_length` argument is deprecated and will be removed in a future version, use `padding=True` or `padding='longest'` to pad to the longest sequence in the batch, or use `padding='max_length'` to pad to a max length. In this case, you can give a specific length with `max_length` (e.g. `max_length=45`) or leave max_length to None to pad to the maximal input size of the model (e.g. 512 for Bert).\n",
      "  FutureWarning,\n",
      "100%|██████████| 50/50 [00:20<00:00,  2.46it/s]\n"
     ]
    },
    {
     "name": "stdout",
     "output_type": "stream",
     "text": [
      "Train loss 0.6081426858901977 accuracy 0.7121401752190238\n"
     ]
    },
    {
     "name": "stderr",
     "output_type": "stream",
     "text": [
      "  0%|          | 0/13 [00:00<?, ?it/s]/opt/conda/lib/python3.7/site-packages/transformers/tokenization_utils_base.py:2269: FutureWarning: The `pad_to_max_length` argument is deprecated and will be removed in a future version, use `padding=True` or `padding='longest'` to pad to the longest sequence in the batch, or use `padding='max_length'` to pad to a max length. In this case, you can give a specific length with `max_length` (e.g. `max_length=45`) or leave max_length to None to pad to the maximal input size of the model (e.g. 512 for Bert).\n",
      "  FutureWarning,\n",
      "/opt/conda/lib/python3.7/site-packages/transformers/tokenization_utils_base.py:2269: FutureWarning: The `pad_to_max_length` argument is deprecated and will be removed in a future version, use `padding=True` or `padding='longest'` to pad to the longest sequence in the batch, or use `padding='max_length'` to pad to a max length. In this case, you can give a specific length with `max_length` (e.g. `max_length=45`) or leave max_length to None to pad to the maximal input size of the model (e.g. 512 for Bert).\n",
      "  FutureWarning,\n",
      "100%|██████████| 13/13 [00:01<00:00,  7.28it/s]\n"
     ]
    },
    {
     "name": "stdout",
     "output_type": "stream",
     "text": [
      "Val   loss 0.5709456021969135 accuracy 0.7425\n",
      "\n",
      "Epoch 2/20\n",
      "----------\n"
     ]
    },
    {
     "name": "stderr",
     "output_type": "stream",
     "text": [
      "  0%|          | 0/50 [00:00<?, ?it/s]/opt/conda/lib/python3.7/site-packages/transformers/tokenization_utils_base.py:2269: FutureWarning: The `pad_to_max_length` argument is deprecated and will be removed in a future version, use `padding=True` or `padding='longest'` to pad to the longest sequence in the batch, or use `padding='max_length'` to pad to a max length. In this case, you can give a specific length with `max_length` (e.g. `max_length=45`) or leave max_length to None to pad to the maximal input size of the model (e.g. 512 for Bert).\n",
      "  FutureWarning,\n",
      "/opt/conda/lib/python3.7/site-packages/transformers/tokenization_utils_base.py:2269: FutureWarning: The `pad_to_max_length` argument is deprecated and will be removed in a future version, use `padding=True` or `padding='longest'` to pad to the longest sequence in the batch, or use `padding='max_length'` to pad to a max length. In this case, you can give a specific length with `max_length` (e.g. `max_length=45`) or leave max_length to None to pad to the maximal input size of the model (e.g. 512 for Bert).\n",
      "  FutureWarning,\n",
      "100%|██████████| 50/50 [00:19<00:00,  2.60it/s]\n"
     ]
    },
    {
     "name": "stdout",
     "output_type": "stream",
     "text": [
      "Train loss 0.5490449619293213 accuracy 0.7734668335419275\n"
     ]
    },
    {
     "name": "stderr",
     "output_type": "stream",
     "text": [
      "  0%|          | 0/13 [00:00<?, ?it/s]/opt/conda/lib/python3.7/site-packages/transformers/tokenization_utils_base.py:2269: FutureWarning: The `pad_to_max_length` argument is deprecated and will be removed in a future version, use `padding=True` or `padding='longest'` to pad to the longest sequence in the batch, or use `padding='max_length'` to pad to a max length. In this case, you can give a specific length with `max_length` (e.g. `max_length=45`) or leave max_length to None to pad to the maximal input size of the model (e.g. 512 for Bert).\n",
      "  FutureWarning,\n",
      "/opt/conda/lib/python3.7/site-packages/transformers/tokenization_utils_base.py:2269: FutureWarning: The `pad_to_max_length` argument is deprecated and will be removed in a future version, use `padding=True` or `padding='longest'` to pad to the longest sequence in the batch, or use `padding='max_length'` to pad to a max length. In this case, you can give a specific length with `max_length` (e.g. `max_length=45`) or leave max_length to None to pad to the maximal input size of the model (e.g. 512 for Bert).\n",
      "  FutureWarning,\n",
      "100%|██████████| 13/13 [00:01<00:00,  7.51it/s]\n"
     ]
    },
    {
     "name": "stdout",
     "output_type": "stream",
     "text": [
      "Val   loss 1.1309466453698964 accuracy 0.365\n",
      "\n",
      "Epoch 3/20\n",
      "----------\n"
     ]
    },
    {
     "name": "stderr",
     "output_type": "stream",
     "text": [
      "  0%|          | 0/50 [00:00<?, ?it/s]/opt/conda/lib/python3.7/site-packages/transformers/tokenization_utils_base.py:2269: FutureWarning: The `pad_to_max_length` argument is deprecated and will be removed in a future version, use `padding=True` or `padding='longest'` to pad to the longest sequence in the batch, or use `padding='max_length'` to pad to a max length. In this case, you can give a specific length with `max_length` (e.g. `max_length=45`) or leave max_length to None to pad to the maximal input size of the model (e.g. 512 for Bert).\n",
      "  FutureWarning,\n",
      "/opt/conda/lib/python3.7/site-packages/transformers/tokenization_utils_base.py:2269: FutureWarning: The `pad_to_max_length` argument is deprecated and will be removed in a future version, use `padding=True` or `padding='longest'` to pad to the longest sequence in the batch, or use `padding='max_length'` to pad to a max length. In this case, you can give a specific length with `max_length` (e.g. `max_length=45`) or leave max_length to None to pad to the maximal input size of the model (e.g. 512 for Bert).\n",
      "  FutureWarning,\n",
      "100%|██████████| 50/50 [00:19<00:00,  2.61it/s]\n"
     ]
    },
    {
     "name": "stdout",
     "output_type": "stream",
     "text": [
      "Train loss 0.7122025072574616 accuracy 0.5832290362953693\n"
     ]
    },
    {
     "name": "stderr",
     "output_type": "stream",
     "text": [
      "  0%|          | 0/13 [00:00<?, ?it/s]/opt/conda/lib/python3.7/site-packages/transformers/tokenization_utils_base.py:2269: FutureWarning: The `pad_to_max_length` argument is deprecated and will be removed in a future version, use `padding=True` or `padding='longest'` to pad to the longest sequence in the batch, or use `padding='max_length'` to pad to a max length. In this case, you can give a specific length with `max_length` (e.g. `max_length=45`) or leave max_length to None to pad to the maximal input size of the model (e.g. 512 for Bert).\n",
      "  FutureWarning,\n",
      "/opt/conda/lib/python3.7/site-packages/transformers/tokenization_utils_base.py:2269: FutureWarning: The `pad_to_max_length` argument is deprecated and will be removed in a future version, use `padding=True` or `padding='longest'` to pad to the longest sequence in the batch, or use `padding='max_length'` to pad to a max length. In this case, you can give a specific length with `max_length` (e.g. `max_length=45`) or leave max_length to None to pad to the maximal input size of the model (e.g. 512 for Bert).\n",
      "  FutureWarning,\n",
      "100%|██████████| 13/13 [00:01<00:00,  7.44it/s]\n"
     ]
    },
    {
     "name": "stdout",
     "output_type": "stream",
     "text": [
      "Val   loss 0.8145308769666232 accuracy 0.3875\n",
      "\n",
      "Epoch 4/20\n",
      "----------\n"
     ]
    },
    {
     "name": "stderr",
     "output_type": "stream",
     "text": [
      "  0%|          | 0/50 [00:00<?, ?it/s]/opt/conda/lib/python3.7/site-packages/transformers/tokenization_utils_base.py:2269: FutureWarning: The `pad_to_max_length` argument is deprecated and will be removed in a future version, use `padding=True` or `padding='longest'` to pad to the longest sequence in the batch, or use `padding='max_length'` to pad to a max length. In this case, you can give a specific length with `max_length` (e.g. `max_length=45`) or leave max_length to None to pad to the maximal input size of the model (e.g. 512 for Bert).\n",
      "  FutureWarning,\n",
      "/opt/conda/lib/python3.7/site-packages/transformers/tokenization_utils_base.py:2269: FutureWarning: The `pad_to_max_length` argument is deprecated and will be removed in a future version, use `padding=True` or `padding='longest'` to pad to the longest sequence in the batch, or use `padding='max_length'` to pad to a max length. In this case, you can give a specific length with `max_length` (e.g. `max_length=45`) or leave max_length to None to pad to the maximal input size of the model (e.g. 512 for Bert).\n",
      "  FutureWarning,\n",
      "100%|██████████| 50/50 [00:19<00:00,  2.62it/s]\n"
     ]
    },
    {
     "name": "stdout",
     "output_type": "stream",
     "text": [
      "Train loss 0.6488977122306824 accuracy 0.6195244055068836\n"
     ]
    },
    {
     "name": "stderr",
     "output_type": "stream",
     "text": [
      "  0%|          | 0/13 [00:00<?, ?it/s]/opt/conda/lib/python3.7/site-packages/transformers/tokenization_utils_base.py:2269: FutureWarning: The `pad_to_max_length` argument is deprecated and will be removed in a future version, use `padding=True` or `padding='longest'` to pad to the longest sequence in the batch, or use `padding='max_length'` to pad to a max length. In this case, you can give a specific length with `max_length` (e.g. `max_length=45`) or leave max_length to None to pad to the maximal input size of the model (e.g. 512 for Bert).\n",
      "  FutureWarning,\n",
      "/opt/conda/lib/python3.7/site-packages/transformers/tokenization_utils_base.py:2269: FutureWarning: The `pad_to_max_length` argument is deprecated and will be removed in a future version, use `padding=True` or `padding='longest'` to pad to the longest sequence in the batch, or use `padding='max_length'` to pad to a max length. In this case, you can give a specific length with `max_length` (e.g. `max_length=45`) or leave max_length to None to pad to the maximal input size of the model (e.g. 512 for Bert).\n",
      "  FutureWarning,\n",
      "100%|██████████| 13/13 [00:01<00:00,  7.10it/s]\n"
     ]
    },
    {
     "name": "stdout",
     "output_type": "stream",
     "text": [
      "Val   loss 0.6568187291805561 accuracy 0.73\n",
      "\n",
      "Epoch 5/20\n",
      "----------\n"
     ]
    },
    {
     "name": "stderr",
     "output_type": "stream",
     "text": [
      "  0%|          | 0/50 [00:00<?, ?it/s]/opt/conda/lib/python3.7/site-packages/transformers/tokenization_utils_base.py:2269: FutureWarning: The `pad_to_max_length` argument is deprecated and will be removed in a future version, use `padding=True` or `padding='longest'` to pad to the longest sequence in the batch, or use `padding='max_length'` to pad to a max length. In this case, you can give a specific length with `max_length` (e.g. `max_length=45`) or leave max_length to None to pad to the maximal input size of the model (e.g. 512 for Bert).\n",
      "  FutureWarning,\n",
      "/opt/conda/lib/python3.7/site-packages/transformers/tokenization_utils_base.py:2269: FutureWarning: The `pad_to_max_length` argument is deprecated and will be removed in a future version, use `padding=True` or `padding='longest'` to pad to the longest sequence in the batch, or use `padding='max_length'` to pad to a max length. In this case, you can give a specific length with `max_length` (e.g. `max_length=45`) or leave max_length to None to pad to the maximal input size of the model (e.g. 512 for Bert).\n",
      "  FutureWarning,\n",
      "100%|██████████| 50/50 [00:19<00:00,  2.61it/s]\n"
     ]
    },
    {
     "name": "stdout",
     "output_type": "stream",
     "text": [
      "Train loss 0.6024618548154831 accuracy 0.6620775969962454\n"
     ]
    },
    {
     "name": "stderr",
     "output_type": "stream",
     "text": [
      "  0%|          | 0/13 [00:00<?, ?it/s]/opt/conda/lib/python3.7/site-packages/transformers/tokenization_utils_base.py:2269: FutureWarning: The `pad_to_max_length` argument is deprecated and will be removed in a future version, use `padding=True` or `padding='longest'` to pad to the longest sequence in the batch, or use `padding='max_length'` to pad to a max length. In this case, you can give a specific length with `max_length` (e.g. `max_length=45`) or leave max_length to None to pad to the maximal input size of the model (e.g. 512 for Bert).\n",
      "  FutureWarning,\n",
      "/opt/conda/lib/python3.7/site-packages/transformers/tokenization_utils_base.py:2269: FutureWarning: The `pad_to_max_length` argument is deprecated and will be removed in a future version, use `padding=True` or `padding='longest'` to pad to the longest sequence in the batch, or use `padding='max_length'` to pad to a max length. In this case, you can give a specific length with `max_length` (e.g. `max_length=45`) or leave max_length to None to pad to the maximal input size of the model (e.g. 512 for Bert).\n",
      "  FutureWarning,\n",
      "100%|██████████| 13/13 [00:01<00:00,  7.17it/s]\n"
     ]
    },
    {
     "name": "stdout",
     "output_type": "stream",
     "text": [
      "Val   loss 0.6002114736116849 accuracy 0.5725\n",
      "\n",
      "Epoch 6/20\n",
      "----------\n"
     ]
    },
    {
     "name": "stderr",
     "output_type": "stream",
     "text": [
      "  0%|          | 0/50 [00:00<?, ?it/s]/opt/conda/lib/python3.7/site-packages/transformers/tokenization_utils_base.py:2269: FutureWarning: The `pad_to_max_length` argument is deprecated and will be removed in a future version, use `padding=True` or `padding='longest'` to pad to the longest sequence in the batch, or use `padding='max_length'` to pad to a max length. In this case, you can give a specific length with `max_length` (e.g. `max_length=45`) or leave max_length to None to pad to the maximal input size of the model (e.g. 512 for Bert).\n",
      "  FutureWarning,\n",
      "/opt/conda/lib/python3.7/site-packages/transformers/tokenization_utils_base.py:2269: FutureWarning: The `pad_to_max_length` argument is deprecated and will be removed in a future version, use `padding=True` or `padding='longest'` to pad to the longest sequence in the batch, or use `padding='max_length'` to pad to a max length. In this case, you can give a specific length with `max_length` (e.g. `max_length=45`) or leave max_length to None to pad to the maximal input size of the model (e.g. 512 for Bert).\n",
      "  FutureWarning,\n",
      "100%|██████████| 50/50 [00:19<00:00,  2.63it/s]\n"
     ]
    },
    {
     "name": "stdout",
     "output_type": "stream",
     "text": [
      "Train loss 0.5286343884468079 accuracy 0.7115143929912391\n"
     ]
    },
    {
     "name": "stderr",
     "output_type": "stream",
     "text": [
      "  0%|          | 0/13 [00:00<?, ?it/s]/opt/conda/lib/python3.7/site-packages/transformers/tokenization_utils_base.py:2269: FutureWarning: The `pad_to_max_length` argument is deprecated and will be removed in a future version, use `padding=True` or `padding='longest'` to pad to the longest sequence in the batch, or use `padding='max_length'` to pad to a max length. In this case, you can give a specific length with `max_length` (e.g. `max_length=45`) or leave max_length to None to pad to the maximal input size of the model (e.g. 512 for Bert).\n",
      "  FutureWarning,\n",
      "/opt/conda/lib/python3.7/site-packages/transformers/tokenization_utils_base.py:2269: FutureWarning: The `pad_to_max_length` argument is deprecated and will be removed in a future version, use `padding=True` or `padding='longest'` to pad to the longest sequence in the batch, or use `padding='max_length'` to pad to a max length. In this case, you can give a specific length with `max_length` (e.g. `max_length=45`) or leave max_length to None to pad to the maximal input size of the model (e.g. 512 for Bert).\n",
      "  FutureWarning,\n",
      "100%|██████████| 13/13 [00:01<00:00,  7.46it/s]\n"
     ]
    },
    {
     "name": "stdout",
     "output_type": "stream",
     "text": [
      "Val   loss 0.5284340633795812 accuracy 0.785\n",
      "\n",
      "Epoch 7/20\n",
      "----------\n"
     ]
    },
    {
     "name": "stderr",
     "output_type": "stream",
     "text": [
      "  0%|          | 0/50 [00:00<?, ?it/s]/opt/conda/lib/python3.7/site-packages/transformers/tokenization_utils_base.py:2269: FutureWarning: The `pad_to_max_length` argument is deprecated and will be removed in a future version, use `padding=True` or `padding='longest'` to pad to the longest sequence in the batch, or use `padding='max_length'` to pad to a max length. In this case, you can give a specific length with `max_length` (e.g. `max_length=45`) or leave max_length to None to pad to the maximal input size of the model (e.g. 512 for Bert).\n",
      "  FutureWarning,\n",
      "/opt/conda/lib/python3.7/site-packages/transformers/tokenization_utils_base.py:2269: FutureWarning: The `pad_to_max_length` argument is deprecated and will be removed in a future version, use `padding=True` or `padding='longest'` to pad to the longest sequence in the batch, or use `padding='max_length'` to pad to a max length. In this case, you can give a specific length with `max_length` (e.g. `max_length=45`) or leave max_length to None to pad to the maximal input size of the model (e.g. 512 for Bert).\n",
      "  FutureWarning,\n",
      "100%|██████████| 50/50 [00:19<00:00,  2.63it/s]\n"
     ]
    },
    {
     "name": "stdout",
     "output_type": "stream",
     "text": [
      "Train loss 0.44533310174942015 accuracy 0.8210262828535669\n"
     ]
    },
    {
     "name": "stderr",
     "output_type": "stream",
     "text": [
      "  0%|          | 0/13 [00:00<?, ?it/s]/opt/conda/lib/python3.7/site-packages/transformers/tokenization_utils_base.py:2269: FutureWarning: The `pad_to_max_length` argument is deprecated and will be removed in a future version, use `padding=True` or `padding='longest'` to pad to the longest sequence in the batch, or use `padding='max_length'` to pad to a max length. In this case, you can give a specific length with `max_length` (e.g. `max_length=45`) or leave max_length to None to pad to the maximal input size of the model (e.g. 512 for Bert).\n",
      "  FutureWarning,\n",
      "/opt/conda/lib/python3.7/site-packages/transformers/tokenization_utils_base.py:2269: FutureWarning: The `pad_to_max_length` argument is deprecated and will be removed in a future version, use `padding=True` or `padding='longest'` to pad to the longest sequence in the batch, or use `padding='max_length'` to pad to a max length. In this case, you can give a specific length with `max_length` (e.g. `max_length=45`) or leave max_length to None to pad to the maximal input size of the model (e.g. 512 for Bert).\n",
      "  FutureWarning,\n",
      "100%|██████████| 13/13 [00:01<00:00,  7.27it/s]\n"
     ]
    },
    {
     "name": "stdout",
     "output_type": "stream",
     "text": [
      "Val   loss 0.4712630281081566 accuracy 0.7775\n",
      "\n",
      "Epoch 8/20\n",
      "----------\n"
     ]
    },
    {
     "name": "stderr",
     "output_type": "stream",
     "text": [
      "  0%|          | 0/50 [00:00<?, ?it/s]/opt/conda/lib/python3.7/site-packages/transformers/tokenization_utils_base.py:2269: FutureWarning: The `pad_to_max_length` argument is deprecated and will be removed in a future version, use `padding=True` or `padding='longest'` to pad to the longest sequence in the batch, or use `padding='max_length'` to pad to a max length. In this case, you can give a specific length with `max_length` (e.g. `max_length=45`) or leave max_length to None to pad to the maximal input size of the model (e.g. 512 for Bert).\n",
      "  FutureWarning,\n",
      "/opt/conda/lib/python3.7/site-packages/transformers/tokenization_utils_base.py:2269: FutureWarning: The `pad_to_max_length` argument is deprecated and will be removed in a future version, use `padding=True` or `padding='longest'` to pad to the longest sequence in the batch, or use `padding='max_length'` to pad to a max length. In this case, you can give a specific length with `max_length` (e.g. `max_length=45`) or leave max_length to None to pad to the maximal input size of the model (e.g. 512 for Bert).\n",
      "  FutureWarning,\n",
      "100%|██████████| 50/50 [00:19<00:00,  2.62it/s]\n"
     ]
    },
    {
     "name": "stdout",
     "output_type": "stream",
     "text": [
      "Train loss 0.38249395668506625 accuracy 0.846683354192741\n"
     ]
    },
    {
     "name": "stderr",
     "output_type": "stream",
     "text": [
      "  0%|          | 0/13 [00:00<?, ?it/s]/opt/conda/lib/python3.7/site-packages/transformers/tokenization_utils_base.py:2269: FutureWarning: The `pad_to_max_length` argument is deprecated and will be removed in a future version, use `padding=True` or `padding='longest'` to pad to the longest sequence in the batch, or use `padding='max_length'` to pad to a max length. In this case, you can give a specific length with `max_length` (e.g. `max_length=45`) or leave max_length to None to pad to the maximal input size of the model (e.g. 512 for Bert).\n",
      "  FutureWarning,\n",
      "/opt/conda/lib/python3.7/site-packages/transformers/tokenization_utils_base.py:2269: FutureWarning: The `pad_to_max_length` argument is deprecated and will be removed in a future version, use `padding=True` or `padding='longest'` to pad to the longest sequence in the batch, or use `padding='max_length'` to pad to a max length. In this case, you can give a specific length with `max_length` (e.g. `max_length=45`) or leave max_length to None to pad to the maximal input size of the model (e.g. 512 for Bert).\n",
      "  FutureWarning,\n",
      "100%|██████████| 13/13 [00:01<00:00,  7.40it/s]\n"
     ]
    },
    {
     "name": "stdout",
     "output_type": "stream",
     "text": [
      "Val   loss 0.39821895498495835 accuracy 0.8200000000000001\n",
      "\n",
      "Epoch 9/20\n",
      "----------\n"
     ]
    },
    {
     "name": "stderr",
     "output_type": "stream",
     "text": [
      "  0%|          | 0/50 [00:00<?, ?it/s]/opt/conda/lib/python3.7/site-packages/transformers/tokenization_utils_base.py:2269: FutureWarning: The `pad_to_max_length` argument is deprecated and will be removed in a future version, use `padding=True` or `padding='longest'` to pad to the longest sequence in the batch, or use `padding='max_length'` to pad to a max length. In this case, you can give a specific length with `max_length` (e.g. `max_length=45`) or leave max_length to None to pad to the maximal input size of the model (e.g. 512 for Bert).\n",
      "  FutureWarning,\n",
      "/opt/conda/lib/python3.7/site-packages/transformers/tokenization_utils_base.py:2269: FutureWarning: The `pad_to_max_length` argument is deprecated and will be removed in a future version, use `padding=True` or `padding='longest'` to pad to the longest sequence in the batch, or use `padding='max_length'` to pad to a max length. In this case, you can give a specific length with `max_length` (e.g. `max_length=45`) or leave max_length to None to pad to the maximal input size of the model (e.g. 512 for Bert).\n",
      "  FutureWarning,\n",
      "100%|██████████| 50/50 [00:19<00:00,  2.60it/s]\n"
     ]
    },
    {
     "name": "stdout",
     "output_type": "stream",
     "text": [
      "Train loss 0.3276929335296154 accuracy 0.8773466833541927\n"
     ]
    },
    {
     "name": "stderr",
     "output_type": "stream",
     "text": [
      "  0%|          | 0/13 [00:00<?, ?it/s]/opt/conda/lib/python3.7/site-packages/transformers/tokenization_utils_base.py:2269: FutureWarning: The `pad_to_max_length` argument is deprecated and will be removed in a future version, use `padding=True` or `padding='longest'` to pad to the longest sequence in the batch, or use `padding='max_length'` to pad to a max length. In this case, you can give a specific length with `max_length` (e.g. `max_length=45`) or leave max_length to None to pad to the maximal input size of the model (e.g. 512 for Bert).\n",
      "  FutureWarning,\n",
      "/opt/conda/lib/python3.7/site-packages/transformers/tokenization_utils_base.py:2269: FutureWarning: The `pad_to_max_length` argument is deprecated and will be removed in a future version, use `padding=True` or `padding='longest'` to pad to the longest sequence in the batch, or use `padding='max_length'` to pad to a max length. In this case, you can give a specific length with `max_length` (e.g. `max_length=45`) or leave max_length to None to pad to the maximal input size of the model (e.g. 512 for Bert).\n",
      "  FutureWarning,\n",
      "100%|██████████| 13/13 [00:01<00:00,  7.03it/s]\n"
     ]
    },
    {
     "name": "stdout",
     "output_type": "stream",
     "text": [
      "Val   loss 0.3927734511402937 accuracy 0.8375\n",
      "\n",
      "Epoch 10/20\n",
      "----------\n"
     ]
    },
    {
     "name": "stderr",
     "output_type": "stream",
     "text": [
      "  0%|          | 0/50 [00:00<?, ?it/s]/opt/conda/lib/python3.7/site-packages/transformers/tokenization_utils_base.py:2269: FutureWarning: The `pad_to_max_length` argument is deprecated and will be removed in a future version, use `padding=True` or `padding='longest'` to pad to the longest sequence in the batch, or use `padding='max_length'` to pad to a max length. In this case, you can give a specific length with `max_length` (e.g. `max_length=45`) or leave max_length to None to pad to the maximal input size of the model (e.g. 512 for Bert).\n",
      "  FutureWarning,\n",
      "/opt/conda/lib/python3.7/site-packages/transformers/tokenization_utils_base.py:2269: FutureWarning: The `pad_to_max_length` argument is deprecated and will be removed in a future version, use `padding=True` or `padding='longest'` to pad to the longest sequence in the batch, or use `padding='max_length'` to pad to a max length. In this case, you can give a specific length with `max_length` (e.g. `max_length=45`) or leave max_length to None to pad to the maximal input size of the model (e.g. 512 for Bert).\n",
      "  FutureWarning,\n",
      "100%|██████████| 50/50 [00:19<00:00,  2.62it/s]\n"
     ]
    },
    {
     "name": "stdout",
     "output_type": "stream",
     "text": [
      "Train loss 0.2554395626485348 accuracy 0.9130162703379224\n"
     ]
    },
    {
     "name": "stderr",
     "output_type": "stream",
     "text": [
      "  0%|          | 0/13 [00:00<?, ?it/s]/opt/conda/lib/python3.7/site-packages/transformers/tokenization_utils_base.py:2269: FutureWarning: The `pad_to_max_length` argument is deprecated and will be removed in a future version, use `padding=True` or `padding='longest'` to pad to the longest sequence in the batch, or use `padding='max_length'` to pad to a max length. In this case, you can give a specific length with `max_length` (e.g. `max_length=45`) or leave max_length to None to pad to the maximal input size of the model (e.g. 512 for Bert).\n",
      "  FutureWarning,\n",
      "/opt/conda/lib/python3.7/site-packages/transformers/tokenization_utils_base.py:2269: FutureWarning: The `pad_to_max_length` argument is deprecated and will be removed in a future version, use `padding=True` or `padding='longest'` to pad to the longest sequence in the batch, or use `padding='max_length'` to pad to a max length. In this case, you can give a specific length with `max_length` (e.g. `max_length=45`) or leave max_length to None to pad to the maximal input size of the model (e.g. 512 for Bert).\n",
      "  FutureWarning,\n",
      "100%|██████████| 13/13 [00:01<00:00,  7.45it/s]\n"
     ]
    },
    {
     "name": "stdout",
     "output_type": "stream",
     "text": [
      "Val   loss 0.4341918235787979 accuracy 0.835\n",
      "\n",
      "Epoch 11/20\n",
      "----------\n"
     ]
    },
    {
     "name": "stderr",
     "output_type": "stream",
     "text": [
      "  0%|          | 0/50 [00:00<?, ?it/s]/opt/conda/lib/python3.7/site-packages/transformers/tokenization_utils_base.py:2269: FutureWarning: The `pad_to_max_length` argument is deprecated and will be removed in a future version, use `padding=True` or `padding='longest'` to pad to the longest sequence in the batch, or use `padding='max_length'` to pad to a max length. In this case, you can give a specific length with `max_length` (e.g. `max_length=45`) or leave max_length to None to pad to the maximal input size of the model (e.g. 512 for Bert).\n",
      "  FutureWarning,\n",
      "/opt/conda/lib/python3.7/site-packages/transformers/tokenization_utils_base.py:2269: FutureWarning: The `pad_to_max_length` argument is deprecated and will be removed in a future version, use `padding=True` or `padding='longest'` to pad to the longest sequence in the batch, or use `padding='max_length'` to pad to a max length. In this case, you can give a specific length with `max_length` (e.g. `max_length=45`) or leave max_length to None to pad to the maximal input size of the model (e.g. 512 for Bert).\n",
      "  FutureWarning,\n",
      "100%|██████████| 50/50 [00:19<00:00,  2.60it/s]\n"
     ]
    },
    {
     "name": "stdout",
     "output_type": "stream",
     "text": [
      "Train loss 0.2150508227944374 accuracy 0.9286608260325407\n"
     ]
    },
    {
     "name": "stderr",
     "output_type": "stream",
     "text": [
      "  0%|          | 0/13 [00:00<?, ?it/s]/opt/conda/lib/python3.7/site-packages/transformers/tokenization_utils_base.py:2269: FutureWarning: The `pad_to_max_length` argument is deprecated and will be removed in a future version, use `padding=True` or `padding='longest'` to pad to the longest sequence in the batch, or use `padding='max_length'` to pad to a max length. In this case, you can give a specific length with `max_length` (e.g. `max_length=45`) or leave max_length to None to pad to the maximal input size of the model (e.g. 512 for Bert).\n",
      "  FutureWarning,\n",
      "/opt/conda/lib/python3.7/site-packages/transformers/tokenization_utils_base.py:2269: FutureWarning: The `pad_to_max_length` argument is deprecated and will be removed in a future version, use `padding=True` or `padding='longest'` to pad to the longest sequence in the batch, or use `padding='max_length'` to pad to a max length. In this case, you can give a specific length with `max_length` (e.g. `max_length=45`) or leave max_length to None to pad to the maximal input size of the model (e.g. 512 for Bert).\n",
      "  FutureWarning,\n",
      "100%|██████████| 13/13 [00:01<00:00,  7.17it/s]\n"
     ]
    },
    {
     "name": "stdout",
     "output_type": "stream",
     "text": [
      "Val   loss 0.4476203597508944 accuracy 0.8375\n",
      "\n",
      "Epoch 12/20\n",
      "----------\n"
     ]
    },
    {
     "name": "stderr",
     "output_type": "stream",
     "text": [
      "  0%|          | 0/50 [00:00<?, ?it/s]/opt/conda/lib/python3.7/site-packages/transformers/tokenization_utils_base.py:2269: FutureWarning: The `pad_to_max_length` argument is deprecated and will be removed in a future version, use `padding=True` or `padding='longest'` to pad to the longest sequence in the batch, or use `padding='max_length'` to pad to a max length. In this case, you can give a specific length with `max_length` (e.g. `max_length=45`) or leave max_length to None to pad to the maximal input size of the model (e.g. 512 for Bert).\n",
      "  FutureWarning,\n",
      "/opt/conda/lib/python3.7/site-packages/transformers/tokenization_utils_base.py:2269: FutureWarning: The `pad_to_max_length` argument is deprecated and will be removed in a future version, use `padding=True` or `padding='longest'` to pad to the longest sequence in the batch, or use `padding='max_length'` to pad to a max length. In this case, you can give a specific length with `max_length` (e.g. `max_length=45`) or leave max_length to None to pad to the maximal input size of the model (e.g. 512 for Bert).\n",
      "  FutureWarning,\n",
      "100%|██████████| 50/50 [00:19<00:00,  2.62it/s]\n"
     ]
    },
    {
     "name": "stdout",
     "output_type": "stream",
     "text": [
      "Train loss 0.20221089031547307 accuracy 0.9443053817271589\n"
     ]
    },
    {
     "name": "stderr",
     "output_type": "stream",
     "text": [
      "  0%|          | 0/13 [00:00<?, ?it/s]/opt/conda/lib/python3.7/site-packages/transformers/tokenization_utils_base.py:2269: FutureWarning: The `pad_to_max_length` argument is deprecated and will be removed in a future version, use `padding=True` or `padding='longest'` to pad to the longest sequence in the batch, or use `padding='max_length'` to pad to a max length. In this case, you can give a specific length with `max_length` (e.g. `max_length=45`) or leave max_length to None to pad to the maximal input size of the model (e.g. 512 for Bert).\n",
      "  FutureWarning,\n",
      "/opt/conda/lib/python3.7/site-packages/transformers/tokenization_utils_base.py:2269: FutureWarning: The `pad_to_max_length` argument is deprecated and will be removed in a future version, use `padding=True` or `padding='longest'` to pad to the longest sequence in the batch, or use `padding='max_length'` to pad to a max length. In this case, you can give a specific length with `max_length` (e.g. `max_length=45`) or leave max_length to None to pad to the maximal input size of the model (e.g. 512 for Bert).\n",
      "  FutureWarning,\n",
      "100%|██████████| 13/13 [00:01<00:00,  7.28it/s]\n"
     ]
    },
    {
     "name": "stdout",
     "output_type": "stream",
     "text": [
      "Val   loss 0.4694605309229631 accuracy 0.8250000000000001\n",
      "\n",
      "Epoch 13/20\n",
      "----------\n"
     ]
    },
    {
     "name": "stderr",
     "output_type": "stream",
     "text": [
      "  0%|          | 0/50 [00:00<?, ?it/s]/opt/conda/lib/python3.7/site-packages/transformers/tokenization_utils_base.py:2269: FutureWarning: The `pad_to_max_length` argument is deprecated and will be removed in a future version, use `padding=True` or `padding='longest'` to pad to the longest sequence in the batch, or use `padding='max_length'` to pad to a max length. In this case, you can give a specific length with `max_length` (e.g. `max_length=45`) or leave max_length to None to pad to the maximal input size of the model (e.g. 512 for Bert).\n",
      "  FutureWarning,\n",
      "/opt/conda/lib/python3.7/site-packages/transformers/tokenization_utils_base.py:2269: FutureWarning: The `pad_to_max_length` argument is deprecated and will be removed in a future version, use `padding=True` or `padding='longest'` to pad to the longest sequence in the batch, or use `padding='max_length'` to pad to a max length. In this case, you can give a specific length with `max_length` (e.g. `max_length=45`) or leave max_length to None to pad to the maximal input size of the model (e.g. 512 for Bert).\n",
      "  FutureWarning,\n",
      "100%|██████████| 50/50 [00:19<00:00,  2.62it/s]\n"
     ]
    },
    {
     "name": "stdout",
     "output_type": "stream",
     "text": [
      "Train loss 0.19130716063082218 accuracy 0.9505632040050063\n"
     ]
    },
    {
     "name": "stderr",
     "output_type": "stream",
     "text": [
      "  0%|          | 0/13 [00:00<?, ?it/s]/opt/conda/lib/python3.7/site-packages/transformers/tokenization_utils_base.py:2269: FutureWarning: The `pad_to_max_length` argument is deprecated and will be removed in a future version, use `padding=True` or `padding='longest'` to pad to the longest sequence in the batch, or use `padding='max_length'` to pad to a max length. In this case, you can give a specific length with `max_length` (e.g. `max_length=45`) or leave max_length to None to pad to the maximal input size of the model (e.g. 512 for Bert).\n",
      "  FutureWarning,\n",
      "/opt/conda/lib/python3.7/site-packages/transformers/tokenization_utils_base.py:2269: FutureWarning: The `pad_to_max_length` argument is deprecated and will be removed in a future version, use `padding=True` or `padding='longest'` to pad to the longest sequence in the batch, or use `padding='max_length'` to pad to a max length. In this case, you can give a specific length with `max_length` (e.g. `max_length=45`) or leave max_length to None to pad to the maximal input size of the model (e.g. 512 for Bert).\n",
      "  FutureWarning,\n",
      "100%|██████████| 13/13 [00:01<00:00,  7.45it/s]\n"
     ]
    },
    {
     "name": "stdout",
     "output_type": "stream",
     "text": [
      "Val   loss 0.4206249415874481 accuracy 0.8575\n",
      "\n",
      "Epoch 14/20\n",
      "----------\n"
     ]
    },
    {
     "name": "stderr",
     "output_type": "stream",
     "text": [
      "  0%|          | 0/50 [00:00<?, ?it/s]/opt/conda/lib/python3.7/site-packages/transformers/tokenization_utils_base.py:2269: FutureWarning: The `pad_to_max_length` argument is deprecated and will be removed in a future version, use `padding=True` or `padding='longest'` to pad to the longest sequence in the batch, or use `padding='max_length'` to pad to a max length. In this case, you can give a specific length with `max_length` (e.g. `max_length=45`) or leave max_length to None to pad to the maximal input size of the model (e.g. 512 for Bert).\n",
      "  FutureWarning,\n",
      "/opt/conda/lib/python3.7/site-packages/transformers/tokenization_utils_base.py:2269: FutureWarning: The `pad_to_max_length` argument is deprecated and will be removed in a future version, use `padding=True` or `padding='longest'` to pad to the longest sequence in the batch, or use `padding='max_length'` to pad to a max length. In this case, you can give a specific length with `max_length` (e.g. `max_length=45`) or leave max_length to None to pad to the maximal input size of the model (e.g. 512 for Bert).\n",
      "  FutureWarning,\n",
      "100%|██████████| 50/50 [00:19<00:00,  2.60it/s]\n"
     ]
    },
    {
     "name": "stdout",
     "output_type": "stream",
     "text": [
      "Train loss 0.15861010000109674 accuracy 0.9580725907384231\n"
     ]
    },
    {
     "name": "stderr",
     "output_type": "stream",
     "text": [
      "  0%|          | 0/13 [00:00<?, ?it/s]/opt/conda/lib/python3.7/site-packages/transformers/tokenization_utils_base.py:2269: FutureWarning: The `pad_to_max_length` argument is deprecated and will be removed in a future version, use `padding=True` or `padding='longest'` to pad to the longest sequence in the batch, or use `padding='max_length'` to pad to a max length. In this case, you can give a specific length with `max_length` (e.g. `max_length=45`) or leave max_length to None to pad to the maximal input size of the model (e.g. 512 for Bert).\n",
      "  FutureWarning,\n",
      "/opt/conda/lib/python3.7/site-packages/transformers/tokenization_utils_base.py:2269: FutureWarning: The `pad_to_max_length` argument is deprecated and will be removed in a future version, use `padding=True` or `padding='longest'` to pad to the longest sequence in the batch, or use `padding='max_length'` to pad to a max length. In this case, you can give a specific length with `max_length` (e.g. `max_length=45`) or leave max_length to None to pad to the maximal input size of the model (e.g. 512 for Bert).\n",
      "  FutureWarning,\n",
      "100%|██████████| 13/13 [00:01<00:00,  7.18it/s]\n"
     ]
    },
    {
     "name": "stdout",
     "output_type": "stream",
     "text": [
      "Val   loss 0.4314488126681401 accuracy 0.8475\n",
      "\n",
      "Epoch 15/20\n",
      "----------\n"
     ]
    },
    {
     "name": "stderr",
     "output_type": "stream",
     "text": [
      "  0%|          | 0/50 [00:00<?, ?it/s]/opt/conda/lib/python3.7/site-packages/transformers/tokenization_utils_base.py:2269: FutureWarning: The `pad_to_max_length` argument is deprecated and will be removed in a future version, use `padding=True` or `padding='longest'` to pad to the longest sequence in the batch, or use `padding='max_length'` to pad to a max length. In this case, you can give a specific length with `max_length` (e.g. `max_length=45`) or leave max_length to None to pad to the maximal input size of the model (e.g. 512 for Bert).\n",
      "  FutureWarning,\n",
      "/opt/conda/lib/python3.7/site-packages/transformers/tokenization_utils_base.py:2269: FutureWarning: The `pad_to_max_length` argument is deprecated and will be removed in a future version, use `padding=True` or `padding='longest'` to pad to the longest sequence in the batch, or use `padding='max_length'` to pad to a max length. In this case, you can give a specific length with `max_length` (e.g. `max_length=45`) or leave max_length to None to pad to the maximal input size of the model (e.g. 512 for Bert).\n",
      "  FutureWarning,\n",
      "100%|██████████| 50/50 [00:19<00:00,  2.60it/s]\n"
     ]
    },
    {
     "name": "stdout",
     "output_type": "stream",
     "text": [
      "Train loss 0.14163867097347974 accuracy 0.9618272841051314\n"
     ]
    },
    {
     "name": "stderr",
     "output_type": "stream",
     "text": [
      "  0%|          | 0/13 [00:00<?, ?it/s]/opt/conda/lib/python3.7/site-packages/transformers/tokenization_utils_base.py:2269: FutureWarning: The `pad_to_max_length` argument is deprecated and will be removed in a future version, use `padding=True` or `padding='longest'` to pad to the longest sequence in the batch, or use `padding='max_length'` to pad to a max length. In this case, you can give a specific length with `max_length` (e.g. `max_length=45`) or leave max_length to None to pad to the maximal input size of the model (e.g. 512 for Bert).\n",
      "  FutureWarning,\n",
      "/opt/conda/lib/python3.7/site-packages/transformers/tokenization_utils_base.py:2269: FutureWarning: The `pad_to_max_length` argument is deprecated and will be removed in a future version, use `padding=True` or `padding='longest'` to pad to the longest sequence in the batch, or use `padding='max_length'` to pad to a max length. In this case, you can give a specific length with `max_length` (e.g. `max_length=45`) or leave max_length to None to pad to the maximal input size of the model (e.g. 512 for Bert).\n",
      "  FutureWarning,\n",
      "100%|██████████| 13/13 [00:01<00:00,  7.10it/s]\n"
     ]
    },
    {
     "name": "stdout",
     "output_type": "stream",
     "text": [
      "Val   loss 0.46305932906957775 accuracy 0.8475\n",
      "\n",
      "Epoch 16/20\n",
      "----------\n"
     ]
    },
    {
     "name": "stderr",
     "output_type": "stream",
     "text": [
      "  0%|          | 0/50 [00:00<?, ?it/s]/opt/conda/lib/python3.7/site-packages/transformers/tokenization_utils_base.py:2269: FutureWarning: The `pad_to_max_length` argument is deprecated and will be removed in a future version, use `padding=True` or `padding='longest'` to pad to the longest sequence in the batch, or use `padding='max_length'` to pad to a max length. In this case, you can give a specific length with `max_length` (e.g. `max_length=45`) or leave max_length to None to pad to the maximal input size of the model (e.g. 512 for Bert).\n",
      "  FutureWarning,\n",
      "/opt/conda/lib/python3.7/site-packages/transformers/tokenization_utils_base.py:2269: FutureWarning: The `pad_to_max_length` argument is deprecated and will be removed in a future version, use `padding=True` or `padding='longest'` to pad to the longest sequence in the batch, or use `padding='max_length'` to pad to a max length. In this case, you can give a specific length with `max_length` (e.g. `max_length=45`) or leave max_length to None to pad to the maximal input size of the model (e.g. 512 for Bert).\n",
      "  FutureWarning,\n",
      "100%|██████████| 50/50 [00:19<00:00,  2.62it/s]\n"
     ]
    },
    {
     "name": "stdout",
     "output_type": "stream",
     "text": [
      "Train loss 0.12456195037811994 accuracy 0.9668335419274093\n"
     ]
    },
    {
     "name": "stderr",
     "output_type": "stream",
     "text": [
      "  0%|          | 0/13 [00:00<?, ?it/s]/opt/conda/lib/python3.7/site-packages/transformers/tokenization_utils_base.py:2269: FutureWarning: The `pad_to_max_length` argument is deprecated and will be removed in a future version, use `padding=True` or `padding='longest'` to pad to the longest sequence in the batch, or use `padding='max_length'` to pad to a max length. In this case, you can give a specific length with `max_length` (e.g. `max_length=45`) or leave max_length to None to pad to the maximal input size of the model (e.g. 512 for Bert).\n",
      "  FutureWarning,\n",
      "/opt/conda/lib/python3.7/site-packages/transformers/tokenization_utils_base.py:2269: FutureWarning: The `pad_to_max_length` argument is deprecated and will be removed in a future version, use `padding=True` or `padding='longest'` to pad to the longest sequence in the batch, or use `padding='max_length'` to pad to a max length. In this case, you can give a specific length with `max_length` (e.g. `max_length=45`) or leave max_length to None to pad to the maximal input size of the model (e.g. 512 for Bert).\n",
      "  FutureWarning,\n",
      "100%|██████████| 13/13 [00:01<00:00,  7.29it/s]\n"
     ]
    },
    {
     "name": "stdout",
     "output_type": "stream",
     "text": [
      "Val   loss 0.4148140228711642 accuracy 0.8625\n",
      "\n",
      "Epoch 17/20\n",
      "----------\n"
     ]
    },
    {
     "name": "stderr",
     "output_type": "stream",
     "text": [
      "  0%|          | 0/50 [00:00<?, ?it/s]/opt/conda/lib/python3.7/site-packages/transformers/tokenization_utils_base.py:2269: FutureWarning: The `pad_to_max_length` argument is deprecated and will be removed in a future version, use `padding=True` or `padding='longest'` to pad to the longest sequence in the batch, or use `padding='max_length'` to pad to a max length. In this case, you can give a specific length with `max_length` (e.g. `max_length=45`) or leave max_length to None to pad to the maximal input size of the model (e.g. 512 for Bert).\n",
      "  FutureWarning,\n",
      "/opt/conda/lib/python3.7/site-packages/transformers/tokenization_utils_base.py:2269: FutureWarning: The `pad_to_max_length` argument is deprecated and will be removed in a future version, use `padding=True` or `padding='longest'` to pad to the longest sequence in the batch, or use `padding='max_length'` to pad to a max length. In this case, you can give a specific length with `max_length` (e.g. `max_length=45`) or leave max_length to None to pad to the maximal input size of the model (e.g. 512 for Bert).\n",
      "  FutureWarning,\n",
      "100%|██████████| 50/50 [00:19<00:00,  2.59it/s]\n"
     ]
    },
    {
     "name": "stdout",
     "output_type": "stream",
     "text": [
      "Train loss 0.10903732283040882 accuracy 0.9718397997496871\n"
     ]
    },
    {
     "name": "stderr",
     "output_type": "stream",
     "text": [
      "  0%|          | 0/13 [00:00<?, ?it/s]/opt/conda/lib/python3.7/site-packages/transformers/tokenization_utils_base.py:2269: FutureWarning: The `pad_to_max_length` argument is deprecated and will be removed in a future version, use `padding=True` or `padding='longest'` to pad to the longest sequence in the batch, or use `padding='max_length'` to pad to a max length. In this case, you can give a specific length with `max_length` (e.g. `max_length=45`) or leave max_length to None to pad to the maximal input size of the model (e.g. 512 for Bert).\n",
      "  FutureWarning,\n",
      "/opt/conda/lib/python3.7/site-packages/transformers/tokenization_utils_base.py:2269: FutureWarning: The `pad_to_max_length` argument is deprecated and will be removed in a future version, use `padding=True` or `padding='longest'` to pad to the longest sequence in the batch, or use `padding='max_length'` to pad to a max length. In this case, you can give a specific length with `max_length` (e.g. `max_length=45`) or leave max_length to None to pad to the maximal input size of the model (e.g. 512 for Bert).\n",
      "  FutureWarning,\n",
      "100%|██████████| 13/13 [00:01<00:00,  7.17it/s]\n"
     ]
    },
    {
     "name": "stdout",
     "output_type": "stream",
     "text": [
      "Val   loss 0.4469987681278816 accuracy 0.85\n",
      "\n",
      "Epoch 18/20\n",
      "----------\n"
     ]
    },
    {
     "name": "stderr",
     "output_type": "stream",
     "text": [
      "  0%|          | 0/50 [00:00<?, ?it/s]/opt/conda/lib/python3.7/site-packages/transformers/tokenization_utils_base.py:2269: FutureWarning: The `pad_to_max_length` argument is deprecated and will be removed in a future version, use `padding=True` or `padding='longest'` to pad to the longest sequence in the batch, or use `padding='max_length'` to pad to a max length. In this case, you can give a specific length with `max_length` (e.g. `max_length=45`) or leave max_length to None to pad to the maximal input size of the model (e.g. 512 for Bert).\n",
      "  FutureWarning,\n",
      "/opt/conda/lib/python3.7/site-packages/transformers/tokenization_utils_base.py:2269: FutureWarning: The `pad_to_max_length` argument is deprecated and will be removed in a future version, use `padding=True` or `padding='longest'` to pad to the longest sequence in the batch, or use `padding='max_length'` to pad to a max length. In this case, you can give a specific length with `max_length` (e.g. `max_length=45`) or leave max_length to None to pad to the maximal input size of the model (e.g. 512 for Bert).\n",
      "  FutureWarning,\n",
      "100%|██████████| 50/50 [00:19<00:00,  2.61it/s]\n"
     ]
    },
    {
     "name": "stdout",
     "output_type": "stream",
     "text": [
      "Train loss 0.09932755487039685 accuracy 0.9762202753441802\n"
     ]
    },
    {
     "name": "stderr",
     "output_type": "stream",
     "text": [
      "  0%|          | 0/13 [00:00<?, ?it/s]/opt/conda/lib/python3.7/site-packages/transformers/tokenization_utils_base.py:2269: FutureWarning: The `pad_to_max_length` argument is deprecated and will be removed in a future version, use `padding=True` or `padding='longest'` to pad to the longest sequence in the batch, or use `padding='max_length'` to pad to a max length. In this case, you can give a specific length with `max_length` (e.g. `max_length=45`) or leave max_length to None to pad to the maximal input size of the model (e.g. 512 for Bert).\n",
      "  FutureWarning,\n",
      "/opt/conda/lib/python3.7/site-packages/transformers/tokenization_utils_base.py:2269: FutureWarning: The `pad_to_max_length` argument is deprecated and will be removed in a future version, use `padding=True` or `padding='longest'` to pad to the longest sequence in the batch, or use `padding='max_length'` to pad to a max length. In this case, you can give a specific length with `max_length` (e.g. `max_length=45`) or leave max_length to None to pad to the maximal input size of the model (e.g. 512 for Bert).\n",
      "  FutureWarning,\n",
      "100%|██████████| 13/13 [00:01<00:00,  7.38it/s]\n"
     ]
    },
    {
     "name": "stdout",
     "output_type": "stream",
     "text": [
      "Val   loss 0.4597766204522206 accuracy 0.85\n",
      "\n",
      "Epoch 19/20\n",
      "----------\n"
     ]
    },
    {
     "name": "stderr",
     "output_type": "stream",
     "text": [
      "  0%|          | 0/50 [00:00<?, ?it/s]/opt/conda/lib/python3.7/site-packages/transformers/tokenization_utils_base.py:2269: FutureWarning: The `pad_to_max_length` argument is deprecated and will be removed in a future version, use `padding=True` or `padding='longest'` to pad to the longest sequence in the batch, or use `padding='max_length'` to pad to a max length. In this case, you can give a specific length with `max_length` (e.g. `max_length=45`) or leave max_length to None to pad to the maximal input size of the model (e.g. 512 for Bert).\n",
      "  FutureWarning,\n",
      "/opt/conda/lib/python3.7/site-packages/transformers/tokenization_utils_base.py:2269: FutureWarning: The `pad_to_max_length` argument is deprecated and will be removed in a future version, use `padding=True` or `padding='longest'` to pad to the longest sequence in the batch, or use `padding='max_length'` to pad to a max length. In this case, you can give a specific length with `max_length` (e.g. `max_length=45`) or leave max_length to None to pad to the maximal input size of the model (e.g. 512 for Bert).\n",
      "  FutureWarning,\n",
      "100%|██████████| 50/50 [00:19<00:00,  2.62it/s]\n"
     ]
    },
    {
     "name": "stdout",
     "output_type": "stream",
     "text": [
      "Train loss 0.09667116155847907 accuracy 0.9780976220275345\n"
     ]
    },
    {
     "name": "stderr",
     "output_type": "stream",
     "text": [
      "  0%|          | 0/13 [00:00<?, ?it/s]/opt/conda/lib/python3.7/site-packages/transformers/tokenization_utils_base.py:2269: FutureWarning: The `pad_to_max_length` argument is deprecated and will be removed in a future version, use `padding=True` or `padding='longest'` to pad to the longest sequence in the batch, or use `padding='max_length'` to pad to a max length. In this case, you can give a specific length with `max_length` (e.g. `max_length=45`) or leave max_length to None to pad to the maximal input size of the model (e.g. 512 for Bert).\n",
      "  FutureWarning,\n",
      "/opt/conda/lib/python3.7/site-packages/transformers/tokenization_utils_base.py:2269: FutureWarning: The `pad_to_max_length` argument is deprecated and will be removed in a future version, use `padding=True` or `padding='longest'` to pad to the longest sequence in the batch, or use `padding='max_length'` to pad to a max length. In this case, you can give a specific length with `max_length` (e.g. `max_length=45`) or leave max_length to None to pad to the maximal input size of the model (e.g. 512 for Bert).\n",
      "  FutureWarning,\n",
      "100%|██████████| 13/13 [00:01<00:00,  7.52it/s]\n"
     ]
    },
    {
     "name": "stdout",
     "output_type": "stream",
     "text": [
      "Val   loss 0.4693331363109442 accuracy 0.865\n",
      "\n",
      "Epoch 20/20\n",
      "----------\n"
     ]
    },
    {
     "name": "stderr",
     "output_type": "stream",
     "text": [
      "  0%|          | 0/50 [00:00<?, ?it/s]/opt/conda/lib/python3.7/site-packages/transformers/tokenization_utils_base.py:2269: FutureWarning: The `pad_to_max_length` argument is deprecated and will be removed in a future version, use `padding=True` or `padding='longest'` to pad to the longest sequence in the batch, or use `padding='max_length'` to pad to a max length. In this case, you can give a specific length with `max_length` (e.g. `max_length=45`) or leave max_length to None to pad to the maximal input size of the model (e.g. 512 for Bert).\n",
      "  FutureWarning,\n",
      "/opt/conda/lib/python3.7/site-packages/transformers/tokenization_utils_base.py:2269: FutureWarning: The `pad_to_max_length` argument is deprecated and will be removed in a future version, use `padding=True` or `padding='longest'` to pad to the longest sequence in the batch, or use `padding='max_length'` to pad to a max length. In this case, you can give a specific length with `max_length` (e.g. `max_length=45`) or leave max_length to None to pad to the maximal input size of the model (e.g. 512 for Bert).\n",
      "  FutureWarning,\n",
      "100%|██████████| 50/50 [00:19<00:00,  2.60it/s]\n"
     ]
    },
    {
     "name": "stdout",
     "output_type": "stream",
     "text": [
      "Train loss 0.08342228693887592 accuracy 0.9806007509386734\n"
     ]
    },
    {
     "name": "stderr",
     "output_type": "stream",
     "text": [
      "  0%|          | 0/13 [00:00<?, ?it/s]/opt/conda/lib/python3.7/site-packages/transformers/tokenization_utils_base.py:2269: FutureWarning: The `pad_to_max_length` argument is deprecated and will be removed in a future version, use `padding=True` or `padding='longest'` to pad to the longest sequence in the batch, or use `padding='max_length'` to pad to a max length. In this case, you can give a specific length with `max_length` (e.g. `max_length=45`) or leave max_length to None to pad to the maximal input size of the model (e.g. 512 for Bert).\n",
      "  FutureWarning,\n",
      "/opt/conda/lib/python3.7/site-packages/transformers/tokenization_utils_base.py:2269: FutureWarning: The `pad_to_max_length` argument is deprecated and will be removed in a future version, use `padding=True` or `padding='longest'` to pad to the longest sequence in the batch, or use `padding='max_length'` to pad to a max length. In this case, you can give a specific length with `max_length` (e.g. `max_length=45`) or leave max_length to None to pad to the maximal input size of the model (e.g. 512 for Bert).\n",
      "  FutureWarning,\n",
      "100%|██████████| 13/13 [00:01<00:00,  7.02it/s]"
     ]
    },
    {
     "name": "stdout",
     "output_type": "stream",
     "text": [
      "Val   loss 0.4560474959703592 accuracy 0.86\n",
      "\n",
      "CPU times: user 6min 39s, sys: 15.9 s, total: 6min 55s\n",
      "Wall time: 7min 17s\n"
     ]
    },
    {
     "name": "stderr",
     "output_type": "stream",
     "text": [
      "\n"
     ]
    }
   ],
   "source": [
    "%%time\n",
    "\n",
    "history = defaultdict(list)\n",
    "best_accuracy = 0\n",
    "\n",
    "for epoch in range(EPOCHS):\n",
    "    print(f'Epoch {epoch + 1}/{EPOCHS}')\n",
    "    print('-' * 10)\n",
    "    train_acc, train_loss = train_epoch(\n",
    "                                        model,\n",
    "                                        train_loader,\n",
    "                                        loss_fn,\n",
    "                                        optimizer,\n",
    "                                        device,\n",
    "                                        scheduler,\n",
    "                                        len(train)\n",
    "    )\n",
    "    print(f'Train loss {train_loss} accuracy {train_acc}')\n",
    "    val_acc, val_loss = eval_model(\n",
    "                                    model,\n",
    "                                    val_loader,\n",
    "                                    loss_fn,\n",
    "                                    device,\n",
    "                                    len(val)\n",
    "  )\n",
    "    print(f'Val   loss {val_loss} accuracy {val_acc}')\n",
    "    print()\n",
    "    history['train_acc'].append(train_acc)\n",
    "    history['train_loss'].append(train_loss)\n",
    "    history['val_acc'].append(val_acc)\n",
    "    history['val_loss'].append(val_loss)   \n",
    "    if val_acc > best_accuracy:\n",
    "        torch.save(model.state_dict(), 'best_model_state.pt')\n",
    "        best_accuracy = val_acc"
   ]
  },
  {
   "cell_type": "code",
   "execution_count": 15,
   "id": "30c92902",
   "metadata": {
    "execution": {
     "iopub.execute_input": "2022-07-22T15:40:42.700315Z",
     "iopub.status.busy": "2022-07-22T15:40:42.699835Z",
     "iopub.status.idle": "2022-07-22T15:40:42.708780Z",
     "shell.execute_reply": "2022-07-22T15:40:42.707209Z"
    },
    "papermill": {
     "duration": 0.128362,
     "end_time": "2022-07-22T15:40:42.711560",
     "exception": false,
     "start_time": "2022-07-22T15:40:42.583198",
     "status": "completed"
    },
    "tags": []
   },
   "outputs": [],
   "source": [
    "train_acc, val_acc = [], []\n",
    "for i in range(10):\n",
    "  train_acc.append(history['train_acc'][i].cpu().item())\n",
    "  val_acc.append(history['val_acc'][i].cpu().item())"
   ]
  },
  {
   "cell_type": "code",
   "execution_count": 16,
   "id": "24f0ff40",
   "metadata": {
    "execution": {
     "iopub.execute_input": "2022-07-22T15:40:42.943434Z",
     "iopub.status.busy": "2022-07-22T15:40:42.943061Z",
     "iopub.status.idle": "2022-07-22T15:40:43.391656Z",
     "shell.execute_reply": "2022-07-22T15:40:43.390219Z"
    },
    "papermill": {
     "duration": 0.569744,
     "end_time": "2022-07-22T15:40:43.394916",
     "exception": false,
     "start_time": "2022-07-22T15:40:42.825172",
     "status": "completed"
    },
    "tags": []
   },
   "outputs": [
    {
     "data": {
      "text/plain": [
       "<matplotlib.legend.Legend at 0x7fa25ecc9c10>"
      ]
     },
     "execution_count": 16,
     "metadata": {},
     "output_type": "execute_result"
    },
    {
     "data": {
      "image/png": "[encoded data removed]",
      "text/plain": [
       "<Figure size 864x576 with 1 Axes>"
      ]
     },
     "metadata": {
      "image/png": {
       "height": 506,
       "width": 732
      }
     },
     "output_type": "display_data"
    }
   ],
   "source": [
    "plt.plot(train_acc, label='train accuracy')\n",
    "plt.plot(val_acc, label='validation accuracy')\n",
    "plt.title('Training history')\n",
    "plt.ylabel('Accuracy')\n",
    "plt.xlabel('Epoch')\n",
    "plt.legend()"
   ]
  },
  {
   "cell_type": "markdown",
   "id": "7e0cd69c",
   "metadata": {
    "papermill": {
     "duration": 0.117713,
     "end_time": "2022-07-22T15:40:43.633828",
     "exception": false,
     "start_time": "2022-07-22T15:40:43.516115",
     "status": "completed"
    },
    "tags": []
   },
   "source": [
    "Сделаем два предсказания: только для текста новостей и для текста+названия."
   ]
  },
  {
   "cell_type": "markdown",
   "id": "04441785",
   "metadata": {
    "papermill": {
     "duration": 0.158317,
     "end_time": "2022-07-22T15:40:43.907420",
     "exception": false,
     "start_time": "2022-07-22T15:40:43.749103",
     "status": "completed"
    },
    "tags": []
   },
   "source": [
    "Некоторые предложения в тестовой части имеют длину большую чем 512 слов (именно такой максимум токенов может принимать на вход берт), поэтому используем вспомогательные функции для токенизации тестовой части. Суть заключается в том, чтобы разбить длинное предложение на несколько минибатчей по 512 токенов каждый. Во время предсказания за финальнальный результат этих минибатчей принимаем наибольшую вероятность."
   ]
  },
  {
   "cell_type": "code",
   "execution_count": 17,
   "id": "92d11647",
   "metadata": {
    "execution": {
     "iopub.execute_input": "2022-07-22T15:40:44.140327Z",
     "iopub.status.busy": "2022-07-22T15:40:44.139874Z",
     "iopub.status.idle": "2022-07-22T15:40:44.158838Z",
     "shell.execute_reply": "2022-07-22T15:40:44.157610Z"
    },
    "papermill": {
     "duration": 0.138491,
     "end_time": "2022-07-22T15:40:44.161308",
     "exception": false,
     "start_time": "2022-07-22T15:40:44.022817",
     "status": "completed"
    },
    "tags": []
   },
   "outputs": [],
   "source": [
    "def tokenize_all_text(text, tokenizer):\n",
    "    tokens = tokenizer.encode_plus(text, add_special_tokens=False,\n",
    "                                   return_tensors='pt')\n",
    "    return tokens\n",
    "\n",
    "\n",
    "def split_overlapping(array, size, step, minimal_length):\n",
    "    result = [array[i:i + size] for i in range(0, len(array), step)]\n",
    "    if len(result) > 1:\n",
    "        result = [x for x in result if len(x) >= minimal_length]\n",
    "    return result\n",
    "\n",
    "\n",
    "def split_tokens_into_smaller_chunks(tokens, size, step, minimal_length):\n",
    "    assert size <= 510\n",
    "    input_id_chunks = split_overlapping(\n",
    "        tokens['input_ids'][0], size, step, minimal_length)\n",
    "    mask_chunks = split_overlapping(\n",
    "        tokens['attention_mask'][0], size, step, minimal_length)\n",
    "    return input_id_chunks, mask_chunks\n",
    "\n",
    "\n",
    "def add_special_tokens_at_beginning_and_end(input_id_chunks, mask_chunks):\n",
    "    for i in range(len(input_id_chunks)):\n",
    "        input_id_chunks[i] = torch.cat(\n",
    "            [torch.Tensor([101]), input_id_chunks[i], torch.Tensor([102])])\n",
    "        mask_chunks[i] = torch.cat(\n",
    "            [torch.Tensor([1]), mask_chunks[i], torch.Tensor([1])])\n",
    "\n",
    "\n",
    "def add_padding_tokens(input_id_chunks, mask_chunks):\n",
    "    for i in range(len(input_id_chunks)):\n",
    "        pad_len = 512 - input_id_chunks[i].shape[0]\n",
    "        if pad_len > 0:\n",
    "            input_id_chunks[i] = torch.cat([\n",
    "                input_id_chunks[i], torch.Tensor([0] * pad_len)\n",
    "            ])\n",
    "            mask_chunks[i] = torch.cat([\n",
    "                mask_chunks[i], torch.Tensor([0] * pad_len)\n",
    "            ])\n",
    "\n",
    "\n",
    "def stack_tokens_from_all_chunks(input_id_chunks, mask_chunks):\n",
    "    input_ids = torch.stack(input_id_chunks)\n",
    "    attention_mask = torch.stack(mask_chunks)\n",
    "    return input_ids.long(), attention_mask.int()\n",
    "\n",
    "\n",
    "def transform_text_to_model_input(\n",
    "        text,\n",
    "        tokenizer,\n",
    "        size=510,\n",
    "        step=510,\n",
    "        minimal_length=100):\n",
    "    tokens = tokenize_all_text(text, tokenizer)\n",
    "    input_id_chunks, mask_chunks = split_tokens_into_smaller_chunks(\n",
    "        tokens, size, step, minimal_length)\n",
    "    add_special_tokens_at_beginning_and_end(input_id_chunks, mask_chunks)\n",
    "    add_padding_tokens(input_id_chunks, mask_chunks)\n",
    "    input_ids, attention_mask = stack_tokens_from_all_chunks(\n",
    "        input_id_chunks, mask_chunks)\n",
    "    return [input_ids, attention_mask]"
   ]
  },
  {
   "cell_type": "code",
   "execution_count": 18,
   "id": "f1e4a0d3",
   "metadata": {
    "execution": {
     "iopub.execute_input": "2022-07-22T15:40:44.401477Z",
     "iopub.status.busy": "2022-07-22T15:40:44.400320Z",
     "iopub.status.idle": "2022-07-22T15:43:00.101994Z",
     "shell.execute_reply": "2022-07-22T15:43:00.100617Z"
    },
    "papermill": {
     "duration": 135.827387,
     "end_time": "2022-07-22T15:43:00.105519",
     "exception": false,
     "start_time": "2022-07-22T15:40:44.278132",
     "status": "completed"
    },
    "tags": []
   },
   "outputs": [],
   "source": [
    "test_data_tokenized = []\n",
    "for row in test_data['titletext']:\n",
    "    test_data_tokenized.append(transform_text_to_model_input(row, tokenizer))"
   ]
  },
  {
   "cell_type": "code",
   "execution_count": 19,
   "id": "00eaa40b",
   "metadata": {
    "execution": {
     "iopub.execute_input": "2022-07-22T15:43:00.344734Z",
     "iopub.status.busy": "2022-07-22T15:43:00.344284Z",
     "iopub.status.idle": "2022-07-22T15:47:33.591330Z",
     "shell.execute_reply": "2022-07-22T15:47:33.589756Z"
    },
    "papermill": {
     "duration": 273.373367,
     "end_time": "2022-07-22T15:47:33.597875",
     "exception": false,
     "start_time": "2022-07-22T15:43:00.224508",
     "status": "completed"
    },
    "tags": []
   },
   "outputs": [
    {
     "name": "stderr",
     "output_type": "stream",
     "text": [
      "100%|██████████| 10571/10571 [04:33<00:00, 38.69it/s]\n"
     ]
    }
   ],
   "source": [
    "pred_batch_size = 341\n",
    "preds_total = []\n",
    "\n",
    "for i in tqdm(range(len(test_data_tokenized))):\n",
    "    seq = test_data_tokenized[i][0].to(device)\n",
    "    mask = test_data_tokenized[i][1].to(device)\n",
    "\n",
    "    with torch.no_grad():\n",
    "        preds = F.softmax(model(seq, mask), dim=1)\n",
    "        prob = preds[0][1]\n",
    "    prob = prob.cpu().numpy()\n",
    "    preds_total.append(prob)\n",
    "    \n",
    "    del preds\n",
    "    torch.cuda.empty_cache()"
   ]
  },
  {
   "cell_type": "code",
   "execution_count": 20,
   "id": "300b67c3",
   "metadata": {
    "execution": {
     "iopub.execute_input": "2022-07-22T15:47:34.206307Z",
     "iopub.status.busy": "2022-07-22T15:47:34.205793Z",
     "iopub.status.idle": "2022-07-22T15:47:34.218694Z",
     "shell.execute_reply": "2022-07-22T15:47:34.217425Z"
    },
    "papermill": {
     "duration": 0.298315,
     "end_time": "2022-07-22T15:47:34.221712",
     "exception": false,
     "start_time": "2022-07-22T15:47:33.923397",
     "status": "completed"
    },
    "tags": []
   },
   "outputs": [],
   "source": [
    "predicts = []\n",
    "for i in range(len(preds_total)):\n",
    "    predicts.append(preds_total[i].item())"
   ]
  },
  {
   "cell_type": "code",
   "execution_count": 21,
   "id": "180a5bd8",
   "metadata": {
    "execution": {
     "iopub.execute_input": "2022-07-22T15:47:34.789450Z",
     "iopub.status.busy": "2022-07-22T15:47:34.789059Z",
     "iopub.status.idle": "2022-07-22T15:47:34.816074Z",
     "shell.execute_reply": "2022-07-22T15:47:34.814747Z"
    },
    "papermill": {
     "duration": 0.315406,
     "end_time": "2022-07-22T15:47:34.818639",
     "exception": false,
     "start_time": "2022-07-22T15:47:34.503233",
     "status": "completed"
    },
    "tags": []
   },
   "outputs": [
    {
     "data": {
      "text/html": [
       "<div>\n",
       "<style scoped>\n",
       "    .dataframe tbody tr th:only-of-type {\n",
       "        vertical-align: middle;\n",
       "    }\n",
       "\n",
       "    .dataframe tbody tr th {\n",
       "        vertical-align: top;\n",
       "    }\n",
       "\n",
       "    .dataframe thead th {\n",
       "        text-align: right;\n",
       "    }\n",
       "</style>\n",
       "<table border=\"1\" class=\"dataframe\">\n",
       "  <thead>\n",
       "    <tr style=\"text-align: right;\">\n",
       "      <th></th>\n",
       "      <th>title</th>\n",
       "      <th>text</th>\n",
       "      <th>titletext</th>\n",
       "      <th>preds_titletext</th>\n",
       "    </tr>\n",
       "    <tr>\n",
       "      <th>id</th>\n",
       "      <th></th>\n",
       "      <th></th>\n",
       "      <th></th>\n",
       "      <th></th>\n",
       "    </tr>\n",
       "  </thead>\n",
       "  <tbody>\n",
       "    <tr>\n",
       "      <th>0</th>\n",
       "      <td>Графики обслуживания внутриквартирного и внутр...</td>\n",
       "      <td>В соответствии с п.42 Постановления Правительс...</td>\n",
       "      <td>Графики обслуживания внутриквартирного и внутр...</td>\n",
       "      <td>0.959895</td>\n",
       "    </tr>\n",
       "    <tr>\n",
       "      <th>1</th>\n",
       "      <td>На МЦД улучшили поезда</td>\n",
       "      <td>В Москве, на Белорусско-Савеловском центрально...</td>\n",
       "      <td>На МЦД улучшили поезда. В Москве, на Белорусск...</td>\n",
       "      <td>0.003170</td>\n",
       "    </tr>\n",
       "    <tr>\n",
       "      <th>2</th>\n",
       "      <td>Катастрофа SSJ 100: вина за гибель 41 человека...</td>\n",
       "      <td>Завершено расследование дела о крушении самоле...</td>\n",
       "      <td>Катастрофа SSJ 100: вина за гибель 41 человека...</td>\n",
       "      <td>0.006249</td>\n",
       "    </tr>\n",
       "    <tr>\n",
       "      <th>3</th>\n",
       "      <td>С Днем юриста!</td>\n",
       "      <td>От души поздравляем сотрудников и преподавател...</td>\n",
       "      <td>С Днем юриста!. От души поздравляем сотруднико...</td>\n",
       "      <td>0.003104</td>\n",
       "    </tr>\n",
       "    <tr>\n",
       "      <th>4</th>\n",
       "      <td>Охота на \"черного\" лесоруба</td>\n",
       "      <td>В Костроме прошел межрегиональный форум, посвя...</td>\n",
       "      <td>Охота на \"черного\" лесоруба. В Костроме прошел...</td>\n",
       "      <td>0.003167</td>\n",
       "    </tr>\n",
       "    <tr>\n",
       "      <th>...</th>\n",
       "      <td>...</td>\n",
       "      <td>...</td>\n",
       "      <td>...</td>\n",
       "      <td>...</td>\n",
       "    </tr>\n",
       "    <tr>\n",
       "      <th>10565</th>\n",
       "      <td>Российские гандболистки разгромили ДР Конго на...</td>\n",
       "      <td>Сборная России по гандболу одержала третью поб...</td>\n",
       "      <td>Российские гандболистки разгромили ДР Конго на...</td>\n",
       "      <td>0.003125</td>\n",
       "    </tr>\n",
       "    <tr>\n",
       "      <th>10566</th>\n",
       "      <td>Опоздать на смерть</td>\n",
       "      <td>Барышня, очаровательная, подходит ко мне после...</td>\n",
       "      <td>Опоздать на смерть. Барышня, очаровательная, п...</td>\n",
       "      <td>0.003108</td>\n",
       "    </tr>\n",
       "    <tr>\n",
       "      <th>10567</th>\n",
       "      <td>Футбольный клуб «Ростов» оскорбил спонсора</td>\n",
       "      <td>История с многомиллионным займом, который «Гру...</td>\n",
       "      <td>Футбольный клуб «Ростов» оскорбил спонсора. Ис...</td>\n",
       "      <td>0.003131</td>\n",
       "    </tr>\n",
       "    <tr>\n",
       "      <th>10568</th>\n",
       "      <td>О состоянии пострадавших в ДТП в Кызылординско...</td>\n",
       "      <td>НУР-СУЛТАН. КАЗИНФОРМ – Министр здравоохранени...</td>\n",
       "      <td>О состоянии пострадавших в ДТП в Кызылординско...</td>\n",
       "      <td>0.003155</td>\n",
       "    </tr>\n",
       "    <tr>\n",
       "      <th>10569</th>\n",
       "      <td>Палату городов центров-субъектов России возгла...</td>\n",
       "      <td>Новым председателем Палаты городов центров-суб...</td>\n",
       "      <td>Палату городов центров-субъектов России возгла...</td>\n",
       "      <td>0.003171</td>\n",
       "    </tr>\n",
       "  </tbody>\n",
       "</table>\n",
       "<p>10571 rows × 4 columns</p>\n",
       "</div>"
      ],
      "text/plain": [
       "                                                   title  \\\n",
       "id                                                         \n",
       "0      Графики обслуживания внутриквартирного и внутр...   \n",
       "1                                 На МЦД улучшили поезда   \n",
       "2      Катастрофа SSJ 100: вина за гибель 41 человека...   \n",
       "3                                         С Днем юриста!   \n",
       "4                            Охота на \"черного\" лесоруба   \n",
       "...                                                  ...   \n",
       "10565  Российские гандболистки разгромили ДР Конго на...   \n",
       "10566                                 Опоздать на смерть   \n",
       "10567         Футбольный клуб «Ростов» оскорбил спонсора   \n",
       "10568  О состоянии пострадавших в ДТП в Кызылординско...   \n",
       "10569  Палату городов центров-субъектов России возгла...   \n",
       "\n",
       "                                                    text  \\\n",
       "id                                                         \n",
       "0      В соответствии с п.42 Постановления Правительс...   \n",
       "1      В Москве, на Белорусско-Савеловском центрально...   \n",
       "2      Завершено расследование дела о крушении самоле...   \n",
       "3      От души поздравляем сотрудников и преподавател...   \n",
       "4      В Костроме прошел межрегиональный форум, посвя...   \n",
       "...                                                  ...   \n",
       "10565  Сборная России по гандболу одержала третью поб...   \n",
       "10566  Барышня, очаровательная, подходит ко мне после...   \n",
       "10567  История с многомиллионным займом, который «Гру...   \n",
       "10568  НУР-СУЛТАН. КАЗИНФОРМ – Министр здравоохранени...   \n",
       "10569  Новым председателем Палаты городов центров-суб...   \n",
       "\n",
       "                                               titletext  preds_titletext  \n",
       "id                                                                         \n",
       "0      Графики обслуживания внутриквартирного и внутр...         0.959895  \n",
       "1      На МЦД улучшили поезда. В Москве, на Белорусск...         0.003170  \n",
       "2      Катастрофа SSJ 100: вина за гибель 41 человека...         0.006249  \n",
       "3      С Днем юриста!. От души поздравляем сотруднико...         0.003104  \n",
       "4      Охота на \"черного\" лесоруба. В Костроме прошел...         0.003167  \n",
       "...                                                  ...              ...  \n",
       "10565  Российские гандболистки разгромили ДР Конго на...         0.003125  \n",
       "10566  Опоздать на смерть. Барышня, очаровательная, п...         0.003108  \n",
       "10567  Футбольный клуб «Ростов» оскорбил спонсора. Ис...         0.003131  \n",
       "10568  О состоянии пострадавших в ДТП в Кызылординско...         0.003155  \n",
       "10569  Палату городов центров-субъектов России возгла...         0.003171  \n",
       "\n",
       "[10571 rows x 4 columns]"
      ]
     },
     "execution_count": 21,
     "metadata": {},
     "output_type": "execute_result"
    }
   ],
   "source": [
    "test_data['preds_titletext'] = predicts\n",
    "test_data"
   ]
  },
  {
   "cell_type": "code",
   "execution_count": 22,
   "id": "50217bcb",
   "metadata": {
    "execution": {
     "iopub.execute_input": "2022-07-22T15:47:35.697577Z",
     "iopub.status.busy": "2022-07-22T15:47:35.695535Z",
     "iopub.status.idle": "2022-07-22T15:47:35.716493Z",
     "shell.execute_reply": "2022-07-22T15:47:35.713311Z"
    },
    "papermill": {
     "duration": 0.513865,
     "end_time": "2022-07-22T15:47:35.721297",
     "exception": false,
     "start_time": "2022-07-22T15:47:35.207432",
     "status": "completed"
    },
    "tags": []
   },
   "outputs": [
    {
     "data": {
      "text/plain": [
       "435"
      ]
     },
     "execution_count": 22,
     "metadata": {},
     "output_type": "execute_result"
    }
   ],
   "source": [
    "sum(test_data['preds_titletext'] > 0.5)"
   ]
  },
  {
   "cell_type": "markdown",
   "id": "98d687a6",
   "metadata": {
    "papermill": {
     "duration": 0.505463,
     "end_time": "2022-07-22T15:47:36.712327",
     "exception": false,
     "start_time": "2022-07-22T15:47:36.206864",
     "status": "completed"
    },
    "tags": []
   },
   "source": [
    "Теперь подадим в классификатор только текст, без заголовков"
   ]
  },
  {
   "cell_type": "code",
   "execution_count": 23,
   "id": "5657136d",
   "metadata": {
    "execution": {
     "iopub.execute_input": "2022-07-22T15:47:37.274621Z",
     "iopub.status.busy": "2022-07-22T15:47:37.274220Z",
     "iopub.status.idle": "2022-07-22T15:47:37.876840Z",
     "shell.execute_reply": "2022-07-22T15:47:37.875203Z"
    },
    "papermill": {
     "duration": 0.887632,
     "end_time": "2022-07-22T15:47:37.880356",
     "exception": false,
     "start_time": "2022-07-22T15:47:36.992724",
     "status": "completed"
    },
    "tags": []
   },
   "outputs": [],
   "source": [
    "test_text = pd.read_csv('../input/sberbank/test_data.csv', index_col='id')\n",
    "test_text.fillna('текст', inplace=True)\n",
    "test = list(test_data['text'])"
   ]
  },
  {
   "cell_type": "code",
   "execution_count": 24,
   "id": "cbfb7615",
   "metadata": {
    "execution": {
     "iopub.execute_input": "2022-07-22T15:47:38.448857Z",
     "iopub.status.busy": "2022-07-22T15:47:38.448404Z",
     "iopub.status.idle": "2022-07-22T15:47:38.459495Z",
     "shell.execute_reply": "2022-07-22T15:47:38.458107Z"
    },
    "papermill": {
     "duration": 0.298476,
     "end_time": "2022-07-22T15:47:38.462223",
     "exception": false,
     "start_time": "2022-07-22T15:47:38.163747",
     "status": "completed"
    },
    "tags": []
   },
   "outputs": [],
   "source": [
    "def predict_text(text, model, tokenizer, device=device):\n",
    "        encoding = tokenizer.encode_plus(\n",
    "            text,\n",
    "            add_special_tokens=True,\n",
    "            max_length=512,\n",
    "            return_token_type_ids=False,\n",
    "            truncation=True,\n",
    "            padding='max_length',\n",
    "            return_attention_mask=True,\n",
    "            return_tensors='pt',\n",
    "        )\n",
    "        \n",
    "        out = {\n",
    "              'text': text,\n",
    "              'input_ids': encoding['input_ids'].flatten(),\n",
    "              'attention_mask': encoding['attention_mask'].flatten()\n",
    "          }\n",
    "        input_ids = out[\"input_ids\"].to(device)\n",
    "        attention_mask = out[\"attention_mask\"].to(device)\n",
    "        \n",
    "        with torch.no_grad():\n",
    "            outputs = model(\n",
    "                input_ids=input_ids.unsqueeze(0),\n",
    "                attention_mask=attention_mask.unsqueeze(0)\n",
    "            )\n",
    "        \n",
    "        preds = F.softmax(outputs, dim=1)\n",
    "        prob = preds[0][1]\n",
    "        prob = prob.cpu().numpy()\n",
    "\n",
    "        return prob"
   ]
  },
  {
   "cell_type": "code",
   "execution_count": 25,
   "id": "74f3d8e1",
   "metadata": {
    "execution": {
     "iopub.execute_input": "2022-07-22T15:47:39.037269Z",
     "iopub.status.busy": "2022-07-22T15:47:39.036863Z",
     "iopub.status.idle": "2022-07-22T15:53:37.058925Z",
     "shell.execute_reply": "2022-07-22T15:53:37.054572Z"
    },
    "papermill": {
     "duration": 358.309812,
     "end_time": "2022-07-22T15:53:37.061924",
     "exception": false,
     "start_time": "2022-07-22T15:47:38.752112",
     "status": "completed"
    },
    "tags": []
   },
   "outputs": [
    {
     "name": "stderr",
     "output_type": "stream",
     "text": [
      "100%|██████████| 10571/10571 [05:58<00:00, 29.53it/s]\n"
     ]
    }
   ],
   "source": [
    "predictions = []\n",
    "for i in tqdm(range(len(test))):\n",
    "    predictions.append(predict_text(test[i], model, tokenizer))"
   ]
  },
  {
   "cell_type": "code",
   "execution_count": 26,
   "id": "ac6ed272",
   "metadata": {
    "execution": {
     "iopub.execute_input": "2022-07-22T15:53:38.013631Z",
     "iopub.status.busy": "2022-07-22T15:53:38.013245Z",
     "iopub.status.idle": "2022-07-22T15:53:38.023176Z",
     "shell.execute_reply": "2022-07-22T15:53:38.021968Z"
    },
    "papermill": {
     "duration": 0.491758,
     "end_time": "2022-07-22T15:53:38.026284",
     "exception": false,
     "start_time": "2022-07-22T15:53:37.534526",
     "status": "completed"
    },
    "tags": []
   },
   "outputs": [],
   "source": [
    "test_data['preds_text'] = predictions"
   ]
  },
  {
   "cell_type": "code",
   "execution_count": 27,
   "id": "cbca9e86",
   "metadata": {
    "execution": {
     "iopub.execute_input": "2022-07-22T15:53:38.976644Z",
     "iopub.status.busy": "2022-07-22T15:53:38.976225Z",
     "iopub.status.idle": "2022-07-22T15:53:38.997222Z",
     "shell.execute_reply": "2022-07-22T15:53:38.995846Z"
    },
    "papermill": {
     "duration": 0.50028,
     "end_time": "2022-07-22T15:53:38.999918",
     "exception": false,
     "start_time": "2022-07-22T15:53:38.499638",
     "status": "completed"
    },
    "tags": []
   },
   "outputs": [
    {
     "data": {
      "text/html": [
       "<div>\n",
       "<style scoped>\n",
       "    .dataframe tbody tr th:only-of-type {\n",
       "        vertical-align: middle;\n",
       "    }\n",
       "\n",
       "    .dataframe tbody tr th {\n",
       "        vertical-align: top;\n",
       "    }\n",
       "\n",
       "    .dataframe thead th {\n",
       "        text-align: right;\n",
       "    }\n",
       "</style>\n",
       "<table border=\"1\" class=\"dataframe\">\n",
       "  <thead>\n",
       "    <tr style=\"text-align: right;\">\n",
       "      <th></th>\n",
       "      <th>title</th>\n",
       "      <th>text</th>\n",
       "      <th>titletext</th>\n",
       "      <th>preds_titletext</th>\n",
       "      <th>preds_text</th>\n",
       "    </tr>\n",
       "    <tr>\n",
       "      <th>id</th>\n",
       "      <th></th>\n",
       "      <th></th>\n",
       "      <th></th>\n",
       "      <th></th>\n",
       "      <th></th>\n",
       "    </tr>\n",
       "  </thead>\n",
       "  <tbody>\n",
       "    <tr>\n",
       "      <th>0</th>\n",
       "      <td>Графики обслуживания внутриквартирного и внутр...</td>\n",
       "      <td>В соответствии с п.42 Постановления Правительс...</td>\n",
       "      <td>Графики обслуживания внутриквартирного и внутр...</td>\n",
       "      <td>0.959895</td>\n",
       "      <td>0.8906526</td>\n",
       "    </tr>\n",
       "    <tr>\n",
       "      <th>1</th>\n",
       "      <td>На МЦД улучшили поезда</td>\n",
       "      <td>В Москве, на Белорусско-Савеловском центрально...</td>\n",
       "      <td>На МЦД улучшили поезда. В Москве, на Белорусск...</td>\n",
       "      <td>0.003170</td>\n",
       "      <td>0.003167653</td>\n",
       "    </tr>\n",
       "    <tr>\n",
       "      <th>2</th>\n",
       "      <td>Катастрофа SSJ 100: вина за гибель 41 человека...</td>\n",
       "      <td>Завершено расследование дела о крушении самоле...</td>\n",
       "      <td>Катастрофа SSJ 100: вина за гибель 41 человека...</td>\n",
       "      <td>0.006249</td>\n",
       "      <td>0.0034016732</td>\n",
       "    </tr>\n",
       "    <tr>\n",
       "      <th>3</th>\n",
       "      <td>С Днем юриста!</td>\n",
       "      <td>От души поздравляем сотрудников и преподавател...</td>\n",
       "      <td>С Днем юриста!. От души поздравляем сотруднико...</td>\n",
       "      <td>0.003104</td>\n",
       "      <td>0.0031039007</td>\n",
       "    </tr>\n",
       "    <tr>\n",
       "      <th>4</th>\n",
       "      <td>Охота на \"черного\" лесоруба</td>\n",
       "      <td>В Костроме прошел межрегиональный форум, посвя...</td>\n",
       "      <td>Охота на \"черного\" лесоруба. В Костроме прошел...</td>\n",
       "      <td>0.003167</td>\n",
       "      <td>0.003157932</td>\n",
       "    </tr>\n",
       "    <tr>\n",
       "      <th>...</th>\n",
       "      <td>...</td>\n",
       "      <td>...</td>\n",
       "      <td>...</td>\n",
       "      <td>...</td>\n",
       "      <td>...</td>\n",
       "    </tr>\n",
       "    <tr>\n",
       "      <th>10565</th>\n",
       "      <td>Российские гандболистки разгромили ДР Конго на...</td>\n",
       "      <td>Сборная России по гандболу одержала третью поб...</td>\n",
       "      <td>Российские гандболистки разгромили ДР Конго на...</td>\n",
       "      <td>0.003125</td>\n",
       "      <td>0.0031332</td>\n",
       "    </tr>\n",
       "    <tr>\n",
       "      <th>10566</th>\n",
       "      <td>Опоздать на смерть</td>\n",
       "      <td>Барышня, очаровательная, подходит ко мне после...</td>\n",
       "      <td>Опоздать на смерть. Барышня, очаровательная, п...</td>\n",
       "      <td>0.003108</td>\n",
       "      <td>0.0031073997</td>\n",
       "    </tr>\n",
       "    <tr>\n",
       "      <th>10567</th>\n",
       "      <td>Футбольный клуб «Ростов» оскорбил спонсора</td>\n",
       "      <td>История с многомиллионным займом, который «Гру...</td>\n",
       "      <td>Футбольный клуб «Ростов» оскорбил спонсора. Ис...</td>\n",
       "      <td>0.003131</td>\n",
       "      <td>0.0031288513</td>\n",
       "    </tr>\n",
       "    <tr>\n",
       "      <th>10568</th>\n",
       "      <td>О состоянии пострадавших в ДТП в Кызылординско...</td>\n",
       "      <td>НУР-СУЛТАН. КАЗИНФОРМ – Министр здравоохранени...</td>\n",
       "      <td>О состоянии пострадавших в ДТП в Кызылординско...</td>\n",
       "      <td>0.003155</td>\n",
       "      <td>0.0031294688</td>\n",
       "    </tr>\n",
       "    <tr>\n",
       "      <th>10569</th>\n",
       "      <td>Палату городов центров-субъектов России возгла...</td>\n",
       "      <td>Новым председателем Палаты городов центров-суб...</td>\n",
       "      <td>Палату городов центров-субъектов России возгла...</td>\n",
       "      <td>0.003171</td>\n",
       "      <td>0.0032102787</td>\n",
       "    </tr>\n",
       "  </tbody>\n",
       "</table>\n",
       "<p>10571 rows × 5 columns</p>\n",
       "</div>"
      ],
      "text/plain": [
       "                                                   title  \\\n",
       "id                                                         \n",
       "0      Графики обслуживания внутриквартирного и внутр...   \n",
       "1                                 На МЦД улучшили поезда   \n",
       "2      Катастрофа SSJ 100: вина за гибель 41 человека...   \n",
       "3                                         С Днем юриста!   \n",
       "4                            Охота на \"черного\" лесоруба   \n",
       "...                                                  ...   \n",
       "10565  Российские гандболистки разгромили ДР Конго на...   \n",
       "10566                                 Опоздать на смерть   \n",
       "10567         Футбольный клуб «Ростов» оскорбил спонсора   \n",
       "10568  О состоянии пострадавших в ДТП в Кызылординско...   \n",
       "10569  Палату городов центров-субъектов России возгла...   \n",
       "\n",
       "                                                    text  \\\n",
       "id                                                         \n",
       "0      В соответствии с п.42 Постановления Правительс...   \n",
       "1      В Москве, на Белорусско-Савеловском центрально...   \n",
       "2      Завершено расследование дела о крушении самоле...   \n",
       "3      От души поздравляем сотрудников и преподавател...   \n",
       "4      В Костроме прошел межрегиональный форум, посвя...   \n",
       "...                                                  ...   \n",
       "10565  Сборная России по гандболу одержала третью поб...   \n",
       "10566  Барышня, очаровательная, подходит ко мне после...   \n",
       "10567  История с многомиллионным займом, который «Гру...   \n",
       "10568  НУР-СУЛТАН. КАЗИНФОРМ – Министр здравоохранени...   \n",
       "10569  Новым председателем Палаты городов центров-суб...   \n",
       "\n",
       "                                               titletext  preds_titletext  \\\n",
       "id                                                                          \n",
       "0      Графики обслуживания внутриквартирного и внутр...         0.959895   \n",
       "1      На МЦД улучшили поезда. В Москве, на Белорусск...         0.003170   \n",
       "2      Катастрофа SSJ 100: вина за гибель 41 человека...         0.006249   \n",
       "3      С Днем юриста!. От души поздравляем сотруднико...         0.003104   \n",
       "4      Охота на \"черного\" лесоруба. В Костроме прошел...         0.003167   \n",
       "...                                                  ...              ...   \n",
       "10565  Российские гандболистки разгромили ДР Конго на...         0.003125   \n",
       "10566  Опоздать на смерть. Барышня, очаровательная, п...         0.003108   \n",
       "10567  Футбольный клуб «Ростов» оскорбил спонсора. Ис...         0.003131   \n",
       "10568  О состоянии пострадавших в ДТП в Кызылординско...         0.003155   \n",
       "10569  Палату городов центров-субъектов России возгла...         0.003171   \n",
       "\n",
       "         preds_text  \n",
       "id                   \n",
       "0         0.8906526  \n",
       "1       0.003167653  \n",
       "2      0.0034016732  \n",
       "3      0.0031039007  \n",
       "4       0.003157932  \n",
       "...             ...  \n",
       "10565     0.0031332  \n",
       "10566  0.0031073997  \n",
       "10567  0.0031288513  \n",
       "10568  0.0031294688  \n",
       "10569  0.0032102787  \n",
       "\n",
       "[10571 rows x 5 columns]"
      ]
     },
     "execution_count": 27,
     "metadata": {},
     "output_type": "execute_result"
    }
   ],
   "source": [
    "test_data"
   ]
  },
  {
   "cell_type": "code",
   "execution_count": 28,
   "id": "20e373d0",
   "metadata": {
    "execution": {
     "iopub.execute_input": "2022-07-22T15:53:39.995824Z",
     "iopub.status.busy": "2022-07-22T15:53:39.995404Z",
     "iopub.status.idle": "2022-07-22T15:53:40.005739Z",
     "shell.execute_reply": "2022-07-22T15:53:40.004436Z"
    },
    "papermill": {
     "duration": 0.49317,
     "end_time": "2022-07-22T15:53:40.008482",
     "exception": false,
     "start_time": "2022-07-22T15:53:39.515312",
     "status": "completed"
    },
    "tags": []
   },
   "outputs": [],
   "source": [
    "test_copy = test_data.copy()"
   ]
  },
  {
   "cell_type": "code",
   "execution_count": 29,
   "id": "b79cc6c3",
   "metadata": {
    "execution": {
     "iopub.execute_input": "2022-07-22T15:53:40.956555Z",
     "iopub.status.busy": "2022-07-22T15:53:40.956158Z",
     "iopub.status.idle": "2022-07-22T15:53:41.092764Z",
     "shell.execute_reply": "2022-07-22T15:53:41.091349Z"
    },
    "papermill": {
     "duration": 0.612831,
     "end_time": "2022-07-22T15:53:41.095520",
     "exception": false,
     "start_time": "2022-07-22T15:53:40.482689",
     "status": "completed"
    },
    "tags": []
   },
   "outputs": [],
   "source": [
    "test_copy['preds_titletext'] = test_copy['preds_titletext'].apply(lambda x: np.around(x))\n",
    "test_copy['preds_text'] = test_copy['preds_text'].apply(lambda x: np.around(x))"
   ]
  },
  {
   "cell_type": "code",
   "execution_count": 30,
   "id": "70d327fb",
   "metadata": {
    "execution": {
     "iopub.execute_input": "2022-07-22T15:53:42.138843Z",
     "iopub.status.busy": "2022-07-22T15:53:42.138426Z",
     "iopub.status.idle": "2022-07-22T15:53:42.160704Z",
     "shell.execute_reply": "2022-07-22T15:53:42.159017Z"
    },
    "papermill": {
     "duration": 0.49925,
     "end_time": "2022-07-22T15:53:42.163637",
     "exception": false,
     "start_time": "2022-07-22T15:53:41.664387",
     "status": "completed"
    },
    "tags": []
   },
   "outputs": [
    {
     "data": {
      "text/html": [
       "<div>\n",
       "<style scoped>\n",
       "    .dataframe tbody tr th:only-of-type {\n",
       "        vertical-align: middle;\n",
       "    }\n",
       "\n",
       "    .dataframe tbody tr th {\n",
       "        vertical-align: top;\n",
       "    }\n",
       "\n",
       "    .dataframe thead th {\n",
       "        text-align: right;\n",
       "    }\n",
       "</style>\n",
       "<table border=\"1\" class=\"dataframe\">\n",
       "  <thead>\n",
       "    <tr style=\"text-align: right;\">\n",
       "      <th></th>\n",
       "      <th>title</th>\n",
       "      <th>text</th>\n",
       "      <th>titletext</th>\n",
       "      <th>preds_titletext</th>\n",
       "      <th>preds_text</th>\n",
       "    </tr>\n",
       "    <tr>\n",
       "      <th>id</th>\n",
       "      <th></th>\n",
       "      <th></th>\n",
       "      <th></th>\n",
       "      <th></th>\n",
       "      <th></th>\n",
       "    </tr>\n",
       "  </thead>\n",
       "  <tbody>\n",
       "    <tr>\n",
       "      <th>0</th>\n",
       "      <td>Графики обслуживания внутриквартирного и внутр...</td>\n",
       "      <td>В соответствии с п.42 Постановления Правительс...</td>\n",
       "      <td>Графики обслуживания внутриквартирного и внутр...</td>\n",
       "      <td>1.0</td>\n",
       "      <td>1.0</td>\n",
       "    </tr>\n",
       "    <tr>\n",
       "      <th>30</th>\n",
       "      <td>В Свердловской области отложат ввод налога для...</td>\n",
       "      <td>Свердловская область может не успеть перейти н...</td>\n",
       "      <td>В Свердловской области отложат ввод налога для...</td>\n",
       "      <td>1.0</td>\n",
       "      <td>0.0</td>\n",
       "    </tr>\n",
       "    <tr>\n",
       "      <th>87</th>\n",
       "      <td>СКР возбудил уголовное дело о хищении 1,6 млрд...</td>\n",
       "      <td>В отношении руководства ООО \"Больверк\" Следств...</td>\n",
       "      <td>СКР возбудил уголовное дело о хищении 1,6 млрд...</td>\n",
       "      <td>1.0</td>\n",
       "      <td>1.0</td>\n",
       "    </tr>\n",
       "    <tr>\n",
       "      <th>179</th>\n",
       "      <td>Парк Победы после благоустройства станет одной...</td>\n",
       "      <td>Строительные работы в парке Победы в седьмом м...</td>\n",
       "      <td>Парк Победы после благоустройства станет одной...</td>\n",
       "      <td>1.0</td>\n",
       "      <td>1.0</td>\n",
       "    </tr>\n",
       "    <tr>\n",
       "      <th>243</th>\n",
       "      <td>Голубев выяснял, почему затянули реконструкцию...</td>\n",
       "      <td>Местные чиновники пожаловались на подрядчика Г...</td>\n",
       "      <td>Голубев выяснял, почему затянули реконструкцию...</td>\n",
       "      <td>1.0</td>\n",
       "      <td>1.0</td>\n",
       "    </tr>\n",
       "    <tr>\n",
       "      <th>...</th>\n",
       "      <td>...</td>\n",
       "      <td>...</td>\n",
       "      <td>...</td>\n",
       "      <td>...</td>\n",
       "      <td>...</td>\n",
       "    </tr>\n",
       "    <tr>\n",
       "      <th>10411</th>\n",
       "      <td>«АртСтрой» могут оштрафовать за опоздание с ре...</td>\n",
       "      <td>фото показано с : vechor.ru 2019-12-4 17:...</td>\n",
       "      <td>«АртСтрой» могут оштрафовать за опоздание с ре...</td>\n",
       "      <td>1.0</td>\n",
       "      <td>1.0</td>\n",
       "    </tr>\n",
       "    <tr>\n",
       "      <th>10467</th>\n",
       "      <td>Путин рассказал о взаимодействии с Китаем на о...</td>\n",
       "      <td>Владимир Путин и Си Цзиньпин в режиме телемост...</td>\n",
       "      <td>Путин рассказал о взаимодействии с Китаем на о...</td>\n",
       "      <td>1.0</td>\n",
       "      <td>1.0</td>\n",
       "    </tr>\n",
       "    <tr>\n",
       "      <th>10498</th>\n",
       "      <td>Petrobras и «Акрон» не договорились о продаже ...</td>\n",
       "      <td>Petrobras и «Акрон» не договорились о продаже ...</td>\n",
       "      <td>Petrobras и «Акрон» не договорились о продаже ...</td>\n",
       "      <td>1.0</td>\n",
       "      <td>1.0</td>\n",
       "    </tr>\n",
       "    <tr>\n",
       "      <th>10519</th>\n",
       "      <td>Городская администрация отчиталась о благоустр...</td>\n",
       "      <td>Запланированные в этом году работы по благоуст...</td>\n",
       "      <td>Городская администрация отчиталась о благоустр...</td>\n",
       "      <td>1.0</td>\n",
       "      <td>1.0</td>\n",
       "    </tr>\n",
       "    <tr>\n",
       "      <th>10532</th>\n",
       "      <td>Дом на ул. Аэродромной в Хабаровске разрешили ...</td>\n",
       "      <td>Khabara.Ru  Новости Хабаровска  Губернатор кр...</td>\n",
       "      <td>Дом на ул. Аэродромной в Хабаровске разрешили ...</td>\n",
       "      <td>1.0</td>\n",
       "      <td>1.0</td>\n",
       "    </tr>\n",
       "  </tbody>\n",
       "</table>\n",
       "<p>435 rows × 5 columns</p>\n",
       "</div>"
      ],
      "text/plain": [
       "                                                   title  \\\n",
       "id                                                         \n",
       "0      Графики обслуживания внутриквартирного и внутр...   \n",
       "30     В Свердловской области отложат ввод налога для...   \n",
       "87     СКР возбудил уголовное дело о хищении 1,6 млрд...   \n",
       "179    Парк Победы после благоустройства станет одной...   \n",
       "243    Голубев выяснял, почему затянули реконструкцию...   \n",
       "...                                                  ...   \n",
       "10411  «АртСтрой» могут оштрафовать за опоздание с ре...   \n",
       "10467  Путин рассказал о взаимодействии с Китаем на о...   \n",
       "10498  Petrobras и «Акрон» не договорились о продаже ...   \n",
       "10519  Городская администрация отчиталась о благоустр...   \n",
       "10532  Дом на ул. Аэродромной в Хабаровске разрешили ...   \n",
       "\n",
       "                                                    text  \\\n",
       "id                                                         \n",
       "0      В соответствии с п.42 Постановления Правительс...   \n",
       "30     Свердловская область может не успеть перейти н...   \n",
       "87     В отношении руководства ООО \"Больверк\" Следств...   \n",
       "179    Строительные работы в парке Победы в седьмом м...   \n",
       "243    Местные чиновники пожаловались на подрядчика Г...   \n",
       "...                                                  ...   \n",
       "10411       фото показано с : vechor.ru 2019-12-4 17:...   \n",
       "10467  Владимир Путин и Си Цзиньпин в режиме телемост...   \n",
       "10498  Petrobras и «Акрон» не договорились о продаже ...   \n",
       "10519  Запланированные в этом году работы по благоуст...   \n",
       "10532   Khabara.Ru  Новости Хабаровска  Губернатор кр...   \n",
       "\n",
       "                                               titletext  preds_titletext  \\\n",
       "id                                                                          \n",
       "0      Графики обслуживания внутриквартирного и внутр...              1.0   \n",
       "30     В Свердловской области отложат ввод налога для...              1.0   \n",
       "87     СКР возбудил уголовное дело о хищении 1,6 млрд...              1.0   \n",
       "179    Парк Победы после благоустройства станет одной...              1.0   \n",
       "243    Голубев выяснял, почему затянули реконструкцию...              1.0   \n",
       "...                                                  ...              ...   \n",
       "10411  «АртСтрой» могут оштрафовать за опоздание с ре...              1.0   \n",
       "10467  Путин рассказал о взаимодействии с Китаем на о...              1.0   \n",
       "10498  Petrobras и «Акрон» не договорились о продаже ...              1.0   \n",
       "10519  Городская администрация отчиталась о благоустр...              1.0   \n",
       "10532  Дом на ул. Аэродромной в Хабаровске разрешили ...              1.0   \n",
       "\n",
       "       preds_text  \n",
       "id                 \n",
       "0             1.0  \n",
       "30            0.0  \n",
       "87            1.0  \n",
       "179           1.0  \n",
       "243           1.0  \n",
       "...           ...  \n",
       "10411         1.0  \n",
       "10467         1.0  \n",
       "10498         1.0  \n",
       "10519         1.0  \n",
       "10532         1.0  \n",
       "\n",
       "[435 rows x 5 columns]"
      ]
     },
     "execution_count": 30,
     "metadata": {},
     "output_type": "execute_result"
    }
   ],
   "source": [
    "test_copy[test_copy['preds_titletext'] > 0.5]"
   ]
  },
  {
   "cell_type": "code",
   "execution_count": 31,
   "id": "34fe6c3e",
   "metadata": {
    "execution": {
     "iopub.execute_input": "2022-07-22T15:53:43.453152Z",
     "iopub.status.busy": "2022-07-22T15:53:43.452716Z",
     "iopub.status.idle": "2022-07-22T15:53:43.474936Z",
     "shell.execute_reply": "2022-07-22T15:53:43.473715Z"
    },
    "papermill": {
     "duration": 0.765692,
     "end_time": "2022-07-22T15:53:43.477508",
     "exception": false,
     "start_time": "2022-07-22T15:53:42.711816",
     "status": "completed"
    },
    "tags": []
   },
   "outputs": [
    {
     "data": {
      "text/html": [
       "<div>\n",
       "<style scoped>\n",
       "    .dataframe tbody tr th:only-of-type {\n",
       "        vertical-align: middle;\n",
       "    }\n",
       "\n",
       "    .dataframe tbody tr th {\n",
       "        vertical-align: top;\n",
       "    }\n",
       "\n",
       "    .dataframe thead th {\n",
       "        text-align: right;\n",
       "    }\n",
       "</style>\n",
       "<table border=\"1\" class=\"dataframe\">\n",
       "  <thead>\n",
       "    <tr style=\"text-align: right;\">\n",
       "      <th></th>\n",
       "      <th>title</th>\n",
       "      <th>text</th>\n",
       "      <th>titletext</th>\n",
       "      <th>preds_titletext</th>\n",
       "      <th>preds_text</th>\n",
       "    </tr>\n",
       "    <tr>\n",
       "      <th>id</th>\n",
       "      <th></th>\n",
       "      <th></th>\n",
       "      <th></th>\n",
       "      <th></th>\n",
       "      <th></th>\n",
       "    </tr>\n",
       "  </thead>\n",
       "  <tbody>\n",
       "    <tr>\n",
       "      <th>0</th>\n",
       "      <td>Графики обслуживания внутриквартирного и внутр...</td>\n",
       "      <td>В соответствии с п.42 Постановления Правительс...</td>\n",
       "      <td>Графики обслуживания внутриквартирного и внутр...</td>\n",
       "      <td>1.0</td>\n",
       "      <td>1.0</td>\n",
       "    </tr>\n",
       "    <tr>\n",
       "      <th>20</th>\n",
       "      <td>Путин и Си Цзиньпин 2 декабря запустят газопро...</td>\n",
       "      <td>Президент РФ Владимир Путин и председатель КНР...</td>\n",
       "      <td>Путин и Си Цзиньпин 2 декабря запустят газопро...</td>\n",
       "      <td>0.0</td>\n",
       "      <td>1.0</td>\n",
       "    </tr>\n",
       "    <tr>\n",
       "      <th>68</th>\n",
       "      <td>У разбившегося в Краснодарском крае вертолета ...</td>\n",
       "      <td>Место происшествия. Фото: Кубанские новости Ср...</td>\n",
       "      <td>У разбившегося в Краснодарском крае вертолета ...</td>\n",
       "      <td>0.0</td>\n",
       "      <td>1.0</td>\n",
       "    </tr>\n",
       "    <tr>\n",
       "      <th>87</th>\n",
       "      <td>СКР возбудил уголовное дело о хищении 1,6 млрд...</td>\n",
       "      <td>В отношении руководства ООО \"Больверк\" Следств...</td>\n",
       "      <td>СКР возбудил уголовное дело о хищении 1,6 млрд...</td>\n",
       "      <td>1.0</td>\n",
       "      <td>1.0</td>\n",
       "    </tr>\n",
       "    <tr>\n",
       "      <th>179</th>\n",
       "      <td>Парк Победы после благоустройства станет одной...</td>\n",
       "      <td>Строительные работы в парке Победы в седьмом м...</td>\n",
       "      <td>Парк Победы после благоустройства станет одной...</td>\n",
       "      <td>1.0</td>\n",
       "      <td>1.0</td>\n",
       "    </tr>\n",
       "    <tr>\n",
       "      <th>...</th>\n",
       "      <td>...</td>\n",
       "      <td>...</td>\n",
       "      <td>...</td>\n",
       "      <td>...</td>\n",
       "      <td>...</td>\n",
       "    </tr>\n",
       "    <tr>\n",
       "      <th>10467</th>\n",
       "      <td>Путин рассказал о взаимодействии с Китаем на о...</td>\n",
       "      <td>Владимир Путин и Си Цзиньпин в режиме телемост...</td>\n",
       "      <td>Путин рассказал о взаимодействии с Китаем на о...</td>\n",
       "      <td>1.0</td>\n",
       "      <td>1.0</td>\n",
       "    </tr>\n",
       "    <tr>\n",
       "      <th>10498</th>\n",
       "      <td>Petrobras и «Акрон» не договорились о продаже ...</td>\n",
       "      <td>Petrobras и «Акрон» не договорились о продаже ...</td>\n",
       "      <td>Petrobras и «Акрон» не договорились о продаже ...</td>\n",
       "      <td>1.0</td>\n",
       "      <td>1.0</td>\n",
       "    </tr>\n",
       "    <tr>\n",
       "      <th>10517</th>\n",
       "      <td>Ледоколу «Ленин» и атомному ледокольному флоту...</td>\n",
       "      <td>Санкт-Петербург, \\n        3 декабря 2019, 02:...</td>\n",
       "      <td>Ледоколу «Ленин» и атомному ледокольному флоту...</td>\n",
       "      <td>0.0</td>\n",
       "      <td>1.0</td>\n",
       "    </tr>\n",
       "    <tr>\n",
       "      <th>10519</th>\n",
       "      <td>Городская администрация отчиталась о благоустр...</td>\n",
       "      <td>Запланированные в этом году работы по благоуст...</td>\n",
       "      <td>Городская администрация отчиталась о благоустр...</td>\n",
       "      <td>1.0</td>\n",
       "      <td>1.0</td>\n",
       "    </tr>\n",
       "    <tr>\n",
       "      <th>10532</th>\n",
       "      <td>Дом на ул. Аэродромной в Хабаровске разрешили ...</td>\n",
       "      <td>Khabara.Ru  Новости Хабаровска  Губернатор кр...</td>\n",
       "      <td>Дом на ул. Аэродромной в Хабаровске разрешили ...</td>\n",
       "      <td>1.0</td>\n",
       "      <td>1.0</td>\n",
       "    </tr>\n",
       "  </tbody>\n",
       "</table>\n",
       "<p>433 rows × 5 columns</p>\n",
       "</div>"
      ],
      "text/plain": [
       "                                                   title  \\\n",
       "id                                                         \n",
       "0      Графики обслуживания внутриквартирного и внутр...   \n",
       "20     Путин и Си Цзиньпин 2 декабря запустят газопро...   \n",
       "68     У разбившегося в Краснодарском крае вертолета ...   \n",
       "87     СКР возбудил уголовное дело о хищении 1,6 млрд...   \n",
       "179    Парк Победы после благоустройства станет одной...   \n",
       "...                                                  ...   \n",
       "10467  Путин рассказал о взаимодействии с Китаем на о...   \n",
       "10498  Petrobras и «Акрон» не договорились о продаже ...   \n",
       "10517  Ледоколу «Ленин» и атомному ледокольному флоту...   \n",
       "10519  Городская администрация отчиталась о благоустр...   \n",
       "10532  Дом на ул. Аэродромной в Хабаровске разрешили ...   \n",
       "\n",
       "                                                    text  \\\n",
       "id                                                         \n",
       "0      В соответствии с п.42 Постановления Правительс...   \n",
       "20     Президент РФ Владимир Путин и председатель КНР...   \n",
       "68     Место происшествия. Фото: Кубанские новости Ср...   \n",
       "87     В отношении руководства ООО \"Больверк\" Следств...   \n",
       "179    Строительные работы в парке Победы в седьмом м...   \n",
       "...                                                  ...   \n",
       "10467  Владимир Путин и Си Цзиньпин в режиме телемост...   \n",
       "10498  Petrobras и «Акрон» не договорились о продаже ...   \n",
       "10517  Санкт-Петербург, \\n        3 декабря 2019, 02:...   \n",
       "10519  Запланированные в этом году работы по благоуст...   \n",
       "10532   Khabara.Ru  Новости Хабаровска  Губернатор кр...   \n",
       "\n",
       "                                               titletext  preds_titletext  \\\n",
       "id                                                                          \n",
       "0      Графики обслуживания внутриквартирного и внутр...              1.0   \n",
       "20     Путин и Си Цзиньпин 2 декабря запустят газопро...              0.0   \n",
       "68     У разбившегося в Краснодарском крае вертолета ...              0.0   \n",
       "87     СКР возбудил уголовное дело о хищении 1,6 млрд...              1.0   \n",
       "179    Парк Победы после благоустройства станет одной...              1.0   \n",
       "...                                                  ...              ...   \n",
       "10467  Путин рассказал о взаимодействии с Китаем на о...              1.0   \n",
       "10498  Petrobras и «Акрон» не договорились о продаже ...              1.0   \n",
       "10517  Ледоколу «Ленин» и атомному ледокольному флоту...              0.0   \n",
       "10519  Городская администрация отчиталась о благоустр...              1.0   \n",
       "10532  Дом на ул. Аэродромной в Хабаровске разрешили ...              1.0   \n",
       "\n",
       "       preds_text  \n",
       "id                 \n",
       "0             1.0  \n",
       "20            1.0  \n",
       "68            1.0  \n",
       "87            1.0  \n",
       "179           1.0  \n",
       "...           ...  \n",
       "10467         1.0  \n",
       "10498         1.0  \n",
       "10517         1.0  \n",
       "10519         1.0  \n",
       "10532         1.0  \n",
       "\n",
       "[433 rows x 5 columns]"
      ]
     },
     "execution_count": 31,
     "metadata": {},
     "output_type": "execute_result"
    }
   ],
   "source": [
    "test_copy[test_copy['preds_text'] > 0.5]"
   ]
  },
  {
   "cell_type": "code",
   "execution_count": 32,
   "id": "1f8b3b22",
   "metadata": {
    "execution": {
     "iopub.execute_input": "2022-07-22T15:53:44.426789Z",
     "iopub.status.busy": "2022-07-22T15:53:44.426351Z",
     "iopub.status.idle": "2022-07-22T15:53:44.444143Z",
     "shell.execute_reply": "2022-07-22T15:53:44.442705Z"
    },
    "papermill": {
     "duration": 0.495478,
     "end_time": "2022-07-22T15:53:44.447014",
     "exception": false,
     "start_time": "2022-07-22T15:53:43.951536",
     "status": "completed"
    },
    "tags": []
   },
   "outputs": [
    {
     "data": {
      "text/plain": [
       "0.7419354838709679"
      ]
     },
     "execution_count": 32,
     "metadata": {},
     "output_type": "execute_result"
    }
   ],
   "source": [
    "f1_score(test_copy['preds_titletext'], test_copy['preds_text'])"
   ]
  },
  {
   "cell_type": "code",
   "execution_count": 33,
   "id": "4caf81b8",
   "metadata": {
    "execution": {
     "iopub.execute_input": "2022-07-22T15:53:45.434728Z",
     "iopub.status.busy": "2022-07-22T15:53:45.434317Z",
     "iopub.status.idle": "2022-07-22T15:53:47.314459Z",
     "shell.execute_reply": "2022-07-22T15:53:47.313031Z"
    },
    "papermill": {
     "duration": 2.399557,
     "end_time": "2022-07-22T15:53:47.318560",
     "exception": false,
     "start_time": "2022-07-22T15:53:44.919003",
     "status": "completed"
    },
    "tags": []
   },
   "outputs": [],
   "source": [
    "test_copy.to_csv('text_predicted.csv')"
   ]
  }
 ],
 "metadata": {
  "kernelspec": {
   "display_name": "Python 3",
   "language": "python",
   "name": "python3"
  },
  "language_info": {
   "codemirror_mode": {
    "name": "ipython",
    "version": 3
   },
   "file_extension": ".py",
   "mimetype": "text/x-python",
   "name": "python",
   "nbconvert_exporter": "python",
   "pygments_lexer": "ipython3",
   "version": "3.7.12"
  },
  "papermill": {
   "default_parameters": {},
   "duration": 1328.649486,
   "end_time": "2022-07-22T15:53:51.112752",
   "environment_variables": {},
   "exception": null,
   "input_path": "__notebook__.ipynb",
   "output_path": "__notebook__.ipynb",
   "parameters": {},
   "start_time": "2022-07-22T15:31:42.463266",
   "version": "2.3.4"
  },
  "widgets": {
   "application/vnd.jupyter.widget-state+json": {
    "state": {
     "04fafc5616b643928000d13748058f9b": {
      "model_module": "@jupyter-widgets/controls",
      "model_module_version": "1.5.0",
      "model_name": "HBoxModel",
      "state": {
       "_dom_classes": [],
       "_model_module": "@jupyter-widgets/controls",
       "_model_module_version": "1.5.0",
       "_model_name": "HBoxModel",
       "_view_count": null,
       "_view_module": "@jupyter-widgets/controls",
       "_view_module_version": "1.5.0",
       "_view_name": "HBoxView",
       "box_style": "",
       "children": [
        "IPY_MODEL_68ca2e4dcf30467c809084e209f5fb90",
        "IPY_MODEL_c522b98d02334d02a8518a03ed8077b0",
        "IPY_MODEL_64e280ffc6d34500b3df01e23cb61b85"
       ],
       "layout": "IPY_MODEL_ee92bc981b5d4de7b47bff42aa5ce4d1"
      }
     },
     "0a79845fa2fe474782da569f778d7cb2": {
      "model_module": "@jupyter-widgets/controls",
      "model_module_version": "1.5.0",
      "model_name": "DescriptionStyleModel",
      "state": {
       "_model_module": "@jupyter-widgets/controls",
       "_model_module_version": "1.5.0",
       "_model_name": "DescriptionStyleModel",
       "_view_count": null,
       "_view_module": "@jupyter-widgets/base",
       "_view_module_version": "1.2.0",
       "_view_name": "StyleView",
       "description_width": ""
      }
     },
     "0daf41b681fa4d4bb23329b60cc6ee09": {
      "model_module": "@jupyter-widgets/controls",
      "model_module_version": "1.5.0",
      "model_name": "HBoxModel",
      "state": {
       "_dom_classes": [],
       "_model_module": "@jupyter-widgets/controls",
       "_model_module_version": "1.5.0",
       "_model_name": "HBoxModel",
       "_view_count": null,
       "_view_module": "@jupyter-widgets/controls",
       "_view_module_version": "1.5.0",
       "_view_name": "HBoxView",
       "box_style": "",
       "children": [
        "IPY_MODEL_570c32edd49e4da3b98d580d69b34635",
        "IPY_MODEL_ee418a00a4b7438fae9d8926ace92bd3",
        "IPY_MODEL_49c77e03177748808fbf338e1c940905"
       ],
       "layout": "IPY_MODEL_87332418bb904440839e0d87ecea1fbd"
      }
     },
     "1433c624feaf4d59b71fb16ae9303ffd": {
      "model_module": "@jupyter-widgets/controls",
      "model_module_version": "1.5.0",
      "model_name": "HTMLModel",
      "state": {
       "_dom_classes": [],
       "_model_module": "@jupyter-widgets/controls",
       "_model_module_version": "1.5.0",
       "_model_name": "HTMLModel",
       "_view_count": null,
       "_view_module": "@jupyter-widgets/controls",
       "_view_module_version": "1.5.0",
       "_view_name": "HTMLView",
       "description": "",
       "description_tooltip": null,
       "layout": "IPY_MODEL_ec35b68475cd4de3ace43d73b1c0dff3",
       "placeholder": "​",
       "style": "IPY_MODEL_7a92655ae4f24b2885507a3340e6fe69",
       "value": " 1.57M/1.57M [00:00&lt;00:00, 3.21MB/s]"
      }
     },
     "1f2a5b1c8f06450ca3ce87637757e0c9": {
      "model_module": "@jupyter-widgets/controls",
      "model_module_version": "1.5.0",
      "model_name": "ProgressStyleModel",
      "state": {
       "_model_module": "@jupyter-widgets/controls",
       "_model_module_version": "1.5.0",
       "_model_name": "ProgressStyleModel",
       "_view_count": null,
       "_view_module": "@jupyter-widgets/base",
       "_view_module_version": "1.2.0",
       "_view_name": "StyleView",
       "bar_color": null,
       "description_width": ""
      }
     },
     "24c1c857d94e47678f22fa74ca8c60ed": {
      "model_module": "@jupyter-widgets/controls",
      "model_module_version": "1.5.0",
      "model_name": "DescriptionStyleModel",
      "state": {
       "_model_module": "@jupyter-widgets/controls",
       "_model_module_version": "1.5.0",
       "_model_name": "DescriptionStyleModel",
       "_view_count": null,
       "_view_module": "@jupyter-widgets/base",
       "_view_module_version": "1.2.0",
       "_view_name": "StyleView",
       "description_width": ""
      }
     },
     "2522e793a36a423cbb62a510c889a8ef": {
      "model_module": "@jupyter-widgets/controls",
      "model_module_version": "1.5.0",
      "model_name": "DescriptionStyleModel",
      "state": {
       "_model_module": "@jupyter-widgets/controls",
       "_model_module_version": "1.5.0",
       "_model_name": "DescriptionStyleModel",
       "_view_count": null,
       "_view_module": "@jupyter-widgets/base",
       "_view_module_version": "1.2.0",
       "_view_name": "StyleView",
       "description_width": ""
      }
     },
     "2620dbc8cf8a4cada52614ebd35bee3b": {
      "model_module": "@jupyter-widgets/controls",
      "model_module_version": "1.5.0",
      "model_name": "FloatProgressModel",
      "state": {
       "_dom_classes": [],
       "_model_module": "@jupyter-widgets/controls",
       "_model_module_version": "1.5.0",
       "_model_name": "FloatProgressModel",
       "_view_count": null,
       "_view_module": "@jupyter-widgets/controls",
       "_view_module_version": "1.5.0",
       "_view_name": "ProgressView",
       "bar_style": "success",
       "description": "",
       "description_tooltip": null,
       "layout": "IPY_MODEL_dc37dc8d7c8d4c638cd40547bd687c82",
       "max": 1649718.0,
       "min": 0.0,
       "orientation": "horizontal",
       "style": "IPY_MODEL_f5b40edb63cb4c6a95e8af05fb87846c",
       "value": 1649718.0
      }
     },
     "2d2e1ba1acc8403ca5a56c75e19e88b2": {
      "model_module": "@jupyter-widgets/base",
      "model_module_version": "1.2.0",
      "model_name": "LayoutModel",
      "state": {
       "_model_module": "@jupyter-widgets/base",
       "_model_module_version": "1.2.0",
       "_model_name": "LayoutModel",
       "_view_count": null,
       "_view_module": "@jupyter-widgets/base",
       "_view_module_version": "1.2.0",
       "_view_name": "LayoutView",
       "align_content": null,
       "align_items": null,
       "align_self": null,
       "border": null,
       "bottom": null,
       "display": null,
       "flex": null,
       "flex_flow": null,
       "grid_area": null,
       "grid_auto_columns": null,
       "grid_auto_flow": null,
       "grid_auto_rows": null,
       "grid_column": null,
       "grid_gap": null,
       "grid_row": null,
       "grid_template_areas": null,
       "grid_template_columns": null,
       "grid_template_rows": null,
       "height": null,
       "justify_content": null,
       "justify_items": null,
       "left": null,
       "margin": null,
       "max_height": null,
       "max_width": null,
       "min_height": null,
       "min_width": null,
       "object_fit": null,
       "object_position": null,
       "order": null,
       "overflow": null,
       "overflow_x": null,
       "overflow_y": null,
       "padding": null,
       "right": null,
       "top": null,
       "visibility": null,
       "width": null
      }
     },
     "32178920ab8645b69d35ce7fa800980f": {
      "model_module": "@jupyter-widgets/controls",
      "model_module_version": "1.5.0",
      "model_name": "HTMLModel",
      "state": {
       "_dom_classes": [],
       "_model_module": "@jupyter-widgets/controls",
       "_model_module_version": "1.5.0",
       "_model_name": "HTMLModel",
       "_view_count": null,
       "_view_module": "@jupyter-widgets/controls",
       "_view_module_version": "1.5.0",
       "_view_name": "HTMLView",
       "description": "",
       "description_tooltip": null,
       "layout": "IPY_MODEL_a937b4bdf36a4204ba0597582759cc6d",
       "placeholder": "​",
       "style": "IPY_MODEL_5ce0f953fc8d41458897739759e838c6",
       "value": "Downloading: 100%"
      }
     },
     "388a332c6cb942cb9d9a3c145da38862": {
      "model_module": "@jupyter-widgets/base",
      "model_module_version": "1.2.0",
      "model_name": "LayoutModel",
      "state": {
       "_model_module": "@jupyter-widgets/base",
       "_model_module_version": "1.2.0",
       "_model_name": "LayoutModel",
       "_view_count": null,
       "_view_module": "@jupyter-widgets/base",
       "_view_module_version": "1.2.0",
       "_view_name": "LayoutView",
       "align_content": null,
       "align_items": null,
       "align_self": null,
       "border": null,
       "bottom": null,
       "display": null,
       "flex": null,
       "flex_flow": null,
       "grid_area": null,
       "grid_auto_columns": null,
       "grid_auto_flow": null,
       "grid_auto_rows": null,
       "grid_column": null,
       "grid_gap": null,
       "grid_row": null,
       "grid_template_areas": null,
       "grid_template_columns": null,
       "grid_template_rows": null,
       "height": null,
       "justify_content": null,
       "justify_items": null,
       "left": null,
       "margin": null,
       "max_height": null,
       "max_width": null,
       "min_height": null,
       "min_width": null,
       "object_fit": null,
       "object_position": null,
       "order": null,
       "overflow": null,
       "overflow_x": null,
       "overflow_y": null,
       "padding": null,
       "right": null,
       "top": null,
       "visibility": null,
       "width": null
      }
     },
     "3a57c0872f7c4a5386c69a8479cd2b1f": {
      "model_module": "@jupyter-widgets/base",
      "model_module_version": "1.2.0",
      "model_name": "LayoutModel",
      "state": {
       "_model_module": "@jupyter-widgets/base",
       "_model_module_version": "1.2.0",
       "_model_name": "LayoutModel",
       "_view_count": null,
       "_view_module": "@jupyter-widgets/base",
       "_view_module_version": "1.2.0",
       "_view_name": "LayoutView",
       "align_content": null,
       "align_items": null,
       "align_self": null,
       "border": null,
       "bottom": null,
       "display": null,
       "flex": null,
       "flex_flow": null,
       "grid_area": null,
       "grid_auto_columns": null,
       "grid_auto_flow": null,
       "grid_auto_rows": null,
       "grid_column": null,
       "grid_gap": null,
       "grid_row": null,
       "grid_template_areas": null,
       "grid_template_columns": null,
       "grid_template_rows": null,
       "height": null,
       "justify_content": null,
       "justify_items": null,
       "left": null,
       "margin": null,
       "max_height": null,
       "max_width": null,
       "min_height": null,
       "min_width": null,
       "object_fit": null,
       "object_position": null,
       "order": null,
       "overflow": null,
       "overflow_x": null,
       "overflow_y": null,
       "padding": null,
       "right": null,
       "top": null,
       "visibility": null,
       "width": null
      }
     },
     "3b65d5f69b3c4897bb4e9aa7bee05857": {
      "model_module": "@jupyter-widgets/controls",
      "model_module_version": "1.5.0",
      "model_name": "HBoxModel",
      "state": {
       "_dom_classes": [],
       "_model_module": "@jupyter-widgets/controls",
       "_model_module_version": "1.5.0",
       "_model_name": "HBoxModel",
       "_view_count": null,
       "_view_module": "@jupyter-widgets/controls",
       "_view_module_version": "1.5.0",
       "_view_name": "HBoxView",
       "box_style": "",
       "children": [
        "IPY_MODEL_4f54388639354d8abbb870b29f7445ce",
        "IPY_MODEL_f4b57ea7499c4b29b55348472e520320",
        "IPY_MODEL_bae31d3f0af3446a875f53cd94e09975"
       ],
       "layout": "IPY_MODEL_3a57c0872f7c4a5386c69a8479cd2b1f"
      }
     },
     "49c77e03177748808fbf338e1c940905": {
      "model_module": "@jupyter-widgets/controls",
      "model_module_version": "1.5.0",
      "model_name": "HTMLModel",
      "state": {
       "_dom_classes": [],
       "_model_module": "@jupyter-widgets/controls",
       "_model_module_version": "1.5.0",
       "_model_name": "HTMLModel",
       "_view_count": null,
       "_view_module": "@jupyter-widgets/controls",
       "_view_module_version": "1.5.0",
       "_view_name": "HTMLView",
       "description": "",
       "description_tooltip": null,
       "layout": "IPY_MODEL_69edcb5dd0e845c6a8690e71a559bf38",
       "placeholder": "​",
       "style": "IPY_MODEL_0a79845fa2fe474782da569f778d7cb2",
       "value": " 24.0/24.0 [00:00&lt;00:00, 284B/s]"
      }
     },
     "4f54388639354d8abbb870b29f7445ce": {
      "model_module": "@jupyter-widgets/controls",
      "model_module_version": "1.5.0",
      "model_name": "HTMLModel",
      "state": {
       "_dom_classes": [],
       "_model_module": "@jupyter-widgets/controls",
       "_model_module_version": "1.5.0",
       "_model_name": "HTMLModel",
       "_view_count": null,
       "_view_module": "@jupyter-widgets/controls",
       "_view_module_version": "1.5.0",
       "_view_name": "HTMLView",
       "description": "",
       "description_tooltip": null,
       "layout": "IPY_MODEL_2d2e1ba1acc8403ca5a56c75e19e88b2",
       "placeholder": "​",
       "style": "IPY_MODEL_d76c1a8efa6f407ba2af97de7b81ec27",
       "value": "Downloading: 100%"
      }
     },
     "570c32edd49e4da3b98d580d69b34635": {
      "model_module": "@jupyter-widgets/controls",
      "model_module_version": "1.5.0",
      "model_name": "HTMLModel",
      "state": {
       "_dom_classes": [],
       "_model_module": "@jupyter-widgets/controls",
       "_model_module_version": "1.5.0",
       "_model_name": "HTMLModel",
       "_view_count": null,
       "_view_module": "@jupyter-widgets/controls",
       "_view_module_version": "1.5.0",
       "_view_name": "HTMLView",
       "description": "",
       "description_tooltip": null,
       "layout": "IPY_MODEL_6842ee91998f4d7c83cdf38c5dde0918",
       "placeholder": "​",
       "style": "IPY_MODEL_24c1c857d94e47678f22fa74ca8c60ed",
       "value": "Downloading: 100%"
      }
     },
     "5ce0f953fc8d41458897739759e838c6": {
      "model_module": "@jupyter-widgets/controls",
      "model_module_version": "1.5.0",
      "model_name": "DescriptionStyleModel",
      "state": {
       "_model_module": "@jupyter-widgets/controls",
       "_model_module_version": "1.5.0",
       "_model_name": "DescriptionStyleModel",
       "_view_count": null,
       "_view_module": "@jupyter-widgets/base",
       "_view_module_version": "1.2.0",
       "_view_name": "StyleView",
       "description_width": ""
      }
     },
     "64e280ffc6d34500b3df01e23cb61b85": {
      "model_module": "@jupyter-widgets/controls",
      "model_module_version": "1.5.0",
      "model_name": "HTMLModel",
      "state": {
       "_dom_classes": [],
       "_model_module": "@jupyter-widgets/controls",
       "_model_module_version": "1.5.0",
       "_model_name": "HTMLModel",
       "_view_count": null,
       "_view_module": "@jupyter-widgets/controls",
       "_view_module_version": "1.5.0",
       "_view_name": "HTMLView",
       "description": "",
       "description_tooltip": null,
       "layout": "IPY_MODEL_388a332c6cb942cb9d9a3c145da38862",
       "placeholder": "​",
       "style": "IPY_MODEL_c30195012b6e46349534593cb3d2df3a",
       "value": " 642/642 [00:00&lt;00:00, 16.2kB/s]"
      }
     },
     "6842ee91998f4d7c83cdf38c5dde0918": {
      "model_module": "@jupyter-widgets/base",
      "model_module_version": "1.2.0",
      "model_name": "LayoutModel",
      "state": {
       "_model_module": "@jupyter-widgets/base",
       "_model_module_version": "1.2.0",
       "_model_name": "LayoutModel",
       "_view_count": null,
       "_view_module": "@jupyter-widgets/base",
       "_view_module_version": "1.2.0",
       "_view_name": "LayoutView",
       "align_content": null,
       "align_items": null,
       "align_self": null,
       "border": null,
       "bottom": null,
       "display": null,
       "flex": null,
       "flex_flow": null,
       "grid_area": null,
       "grid_auto_columns": null,
       "grid_auto_flow": null,
       "grid_auto_rows": null,
       "grid_column": null,
       "grid_gap": null,
       "grid_row": null,
       "grid_template_areas": null,
       "grid_template_columns": null,
       "grid_template_rows": null,
       "height": null,
       "justify_content": null,
       "justify_items": null,
       "left": null,
       "margin": null,
       "max_height": null,
       "max_width": null,
       "min_height": null,
       "min_width": null,
       "object_fit": null,
       "object_position": null,
       "order": null,
       "overflow": null,
       "overflow_x": null,
       "overflow_y": null,
       "padding": null,
       "right": null,
       "top": null,
       "visibility": null,
       "width": null
      }
     },
     "68ca2e4dcf30467c809084e209f5fb90": {
      "model_module": "@jupyter-widgets/controls",
      "model_module_version": "1.5.0",
      "model_name": "HTMLModel",
      "state": {
       "_dom_classes": [],
       "_model_module": "@jupyter-widgets/controls",
       "_model_module_version": "1.5.0",
       "_model_name": "HTMLModel",
       "_view_count": null,
       "_view_module": "@jupyter-widgets/controls",
       "_view_module_version": "1.5.0",
       "_view_name": "HTMLView",
       "description": "",
       "description_tooltip": null,
       "layout": "IPY_MODEL_c60ac7cb1c764718981275140041f82f",
       "placeholder": "​",
       "style": "IPY_MODEL_2522e793a36a423cbb62a510c889a8ef",
       "value": "Downloading: 100%"
      }
     },
     "69edcb5dd0e845c6a8690e71a559bf38": {
      "model_module": "@jupyter-widgets/base",
      "model_module_version": "1.2.0",
      "model_name": "LayoutModel",
      "state": {
       "_model_module": "@jupyter-widgets/base",
       "_model_module_version": "1.2.0",
       "_model_name": "LayoutModel",
       "_view_count": null,
       "_view_module": "@jupyter-widgets/base",
       "_view_module_version": "1.2.0",
       "_view_name": "LayoutView",
       "align_content": null,
       "align_items": null,
       "align_self": null,
       "border": null,
       "bottom": null,
       "display": null,
       "flex": null,
       "flex_flow": null,
       "grid_area": null,
       "grid_auto_columns": null,
       "grid_auto_flow": null,
       "grid_auto_rows": null,
       "grid_column": null,
       "grid_gap": null,
       "grid_row": null,
       "grid_template_areas": null,
       "grid_template_columns": null,
       "grid_template_rows": null,
       "height": null,
       "justify_content": null,
       "justify_items": null,
       "left": null,
       "margin": null,
       "max_height": null,
       "max_width": null,
       "min_height": null,
       "min_width": null,
       "object_fit": null,
       "object_position": null,
       "order": null,
       "overflow": null,
       "overflow_x": null,
       "overflow_y": null,
       "padding": null,
       "right": null,
       "top": null,
       "visibility": null,
       "width": null
      }
     },
     "7024884612104351bf5268cf72b1dd03": {
      "model_module": "@jupyter-widgets/controls",
      "model_module_version": "1.5.0",
      "model_name": "HTMLModel",
      "state": {
       "_dom_classes": [],
       "_model_module": "@jupyter-widgets/controls",
       "_model_module_version": "1.5.0",
       "_model_name": "HTMLModel",
       "_view_count": null,
       "_view_module": "@jupyter-widgets/controls",
       "_view_module_version": "1.5.0",
       "_view_name": "HTMLView",
       "description": "",
       "description_tooltip": null,
       "layout": "IPY_MODEL_a8b0a1e3cfe34f4e9d2cfed8f82e8924",
       "placeholder": "​",
       "style": "IPY_MODEL_75ec2241f67146df82156e41ac7b6f63",
       "value": " 678M/678M [01:01&lt;00:00, 12.1MB/s]"
      }
     },
     "71e34e671d234679ab83f9d359a22c34": {
      "model_module": "@jupyter-widgets/controls",
      "model_module_version": "1.5.0",
      "model_name": "DescriptionStyleModel",
      "state": {
       "_model_module": "@jupyter-widgets/controls",
       "_model_module_version": "1.5.0",
       "_model_name": "DescriptionStyleModel",
       "_view_count": null,
       "_view_module": "@jupyter-widgets/base",
       "_view_module_version": "1.2.0",
       "_view_name": "StyleView",
       "description_width": ""
      }
     },
     "75ec2241f67146df82156e41ac7b6f63": {
      "model_module": "@jupyter-widgets/controls",
      "model_module_version": "1.5.0",
      "model_name": "DescriptionStyleModel",
      "state": {
       "_model_module": "@jupyter-widgets/controls",
       "_model_module_version": "1.5.0",
       "_model_name": "DescriptionStyleModel",
       "_view_count": null,
       "_view_module": "@jupyter-widgets/base",
       "_view_module_version": "1.2.0",
       "_view_name": "StyleView",
       "description_width": ""
      }
     },
     "7a92655ae4f24b2885507a3340e6fe69": {
      "model_module": "@jupyter-widgets/controls",
      "model_module_version": "1.5.0",
      "model_name": "DescriptionStyleModel",
      "state": {
       "_model_module": "@jupyter-widgets/controls",
       "_model_module_version": "1.5.0",
       "_model_name": "DescriptionStyleModel",
       "_view_count": null,
       "_view_module": "@jupyter-widgets/base",
       "_view_module_version": "1.2.0",
       "_view_name": "StyleView",
       "description_width": ""
      }
     },
     "7b8bbf16973c4e2695d3b376a4089481": {
      "model_module": "@jupyter-widgets/base",
      "model_module_version": "1.2.0",
      "model_name": "LayoutModel",
      "state": {
       "_model_module": "@jupyter-widgets/base",
       "_model_module_version": "1.2.0",
       "_model_name": "LayoutModel",
       "_view_count": null,
       "_view_module": "@jupyter-widgets/base",
       "_view_module_version": "1.2.0",
       "_view_name": "LayoutView",
       "align_content": null,
       "align_items": null,
       "align_self": null,
       "border": null,
       "bottom": null,
       "display": null,
       "flex": null,
       "flex_flow": null,
       "grid_area": null,
       "grid_auto_columns": null,
       "grid_auto_flow": null,
       "grid_auto_rows": null,
       "grid_column": null,
       "grid_gap": null,
       "grid_row": null,
       "grid_template_areas": null,
       "grid_template_columns": null,
       "grid_template_rows": null,
       "height": null,
       "justify_content": null,
       "justify_items": null,
       "left": null,
       "margin": null,
       "max_height": null,
       "max_width": null,
       "min_height": null,
       "min_width": null,
       "object_fit": null,
       "object_position": null,
       "order": null,
       "overflow": null,
       "overflow_x": null,
       "overflow_y": null,
       "padding": null,
       "right": null,
       "top": null,
       "visibility": null,
       "width": null
      }
     },
     "7f57456f56eb4557b4363970be79c394": {
      "model_module": "@jupyter-widgets/base",
      "model_module_version": "1.2.0",
      "model_name": "LayoutModel",
      "state": {
       "_model_module": "@jupyter-widgets/base",
       "_model_module_version": "1.2.0",
       "_model_name": "LayoutModel",
       "_view_count": null,
       "_view_module": "@jupyter-widgets/base",
       "_view_module_version": "1.2.0",
       "_view_name": "LayoutView",
       "align_content": null,
       "align_items": null,
       "align_self": null,
       "border": null,
       "bottom": null,
       "display": null,
       "flex": null,
       "flex_flow": null,
       "grid_area": null,
       "grid_auto_columns": null,
       "grid_auto_flow": null,
       "grid_auto_rows": null,
       "grid_column": null,
       "grid_gap": null,
       "grid_row": null,
       "grid_template_areas": null,
       "grid_template_columns": null,
       "grid_template_rows": null,
       "height": null,
       "justify_content": null,
       "justify_items": null,
       "left": null,
       "margin": null,
       "max_height": null,
       "max_width": null,
       "min_height": null,
       "min_width": null,
       "object_fit": null,
       "object_position": null,
       "order": null,
       "overflow": null,
       "overflow_x": null,
       "overflow_y": null,
       "padding": null,
       "right": null,
       "top": null,
       "visibility": null,
       "width": null
      }
     },
     "87332418bb904440839e0d87ecea1fbd": {
      "model_module": "@jupyter-widgets/base",
      "model_module_version": "1.2.0",
      "model_name": "LayoutModel",
      "state": {
       "_model_module": "@jupyter-widgets/base",
       "_model_module_version": "1.2.0",
       "_model_name": "LayoutModel",
       "_view_count": null,
       "_view_module": "@jupyter-widgets/base",
       "_view_module_version": "1.2.0",
       "_view_name": "LayoutView",
       "align_content": null,
       "align_items": null,
       "align_self": null,
       "border": null,
       "bottom": null,
       "display": null,
       "flex": null,
       "flex_flow": null,
       "grid_area": null,
       "grid_auto_columns": null,
       "grid_auto_flow": null,
       "grid_auto_rows": null,
       "grid_column": null,
       "grid_gap": null,
       "grid_row": null,
       "grid_template_areas": null,
       "grid_template_columns": null,
       "grid_template_rows": null,
       "height": null,
       "justify_content": null,
       "justify_items": null,
       "left": null,
       "margin": null,
       "max_height": null,
       "max_width": null,
       "min_height": null,
       "min_width": null,
       "object_fit": null,
       "object_position": null,
       "order": null,
       "overflow": null,
       "overflow_x": null,
       "overflow_y": null,
       "padding": null,
       "right": null,
       "top": null,
       "visibility": null,
       "width": null
      }
     },
     "8a8c772040874d209a9701b788979907": {
      "model_module": "@jupyter-widgets/controls",
      "model_module_version": "1.5.0",
      "model_name": "ProgressStyleModel",
      "state": {
       "_model_module": "@jupyter-widgets/controls",
       "_model_module_version": "1.5.0",
       "_model_name": "ProgressStyleModel",
       "_view_count": null,
       "_view_module": "@jupyter-widgets/base",
       "_view_module_version": "1.2.0",
       "_view_name": "StyleView",
       "bar_color": null,
       "description_width": ""
      }
     },
     "91523feb1d53477cb61dad2ef108da8b": {
      "model_module": "@jupyter-widgets/base",
      "model_module_version": "1.2.0",
      "model_name": "LayoutModel",
      "state": {
       "_model_module": "@jupyter-widgets/base",
       "_model_module_version": "1.2.0",
       "_model_name": "LayoutModel",
       "_view_count": null,
       "_view_module": "@jupyter-widgets/base",
       "_view_module_version": "1.2.0",
       "_view_name": "LayoutView",
       "align_content": null,
       "align_items": null,
       "align_self": null,
       "border": null,
       "bottom": null,
       "display": null,
       "flex": null,
       "flex_flow": null,
       "grid_area": null,
       "grid_auto_columns": null,
       "grid_auto_flow": null,
       "grid_auto_rows": null,
       "grid_column": null,
       "grid_gap": null,
       "grid_row": null,
       "grid_template_areas": null,
       "grid_template_columns": null,
       "grid_template_rows": null,
       "height": null,
       "justify_content": null,
       "justify_items": null,
       "left": null,
       "margin": null,
       "max_height": null,
       "max_width": null,
       "min_height": null,
       "min_width": null,
       "object_fit": null,
       "object_position": null,
       "order": null,
       "overflow": null,
       "overflow_x": null,
       "overflow_y": null,
       "padding": null,
       "right": null,
       "top": null,
       "visibility": null,
       "width": null
      }
     },
     "a7b5bd4cc8a64c14baa04228e646b5d3": {
      "model_module": "@jupyter-widgets/controls",
      "model_module_version": "1.5.0",
      "model_name": "ProgressStyleModel",
      "state": {
       "_model_module": "@jupyter-widgets/controls",
       "_model_module_version": "1.5.0",
       "_model_name": "ProgressStyleModel",
       "_view_count": null,
       "_view_module": "@jupyter-widgets/base",
       "_view_module_version": "1.2.0",
       "_view_name": "StyleView",
       "bar_color": null,
       "description_width": ""
      }
     },
     "a8b0a1e3cfe34f4e9d2cfed8f82e8924": {
      "model_module": "@jupyter-widgets/base",
      "model_module_version": "1.2.0",
      "model_name": "LayoutModel",
      "state": {
       "_model_module": "@jupyter-widgets/base",
       "_model_module_version": "1.2.0",
       "_model_name": "LayoutModel",
       "_view_count": null,
       "_view_module": "@jupyter-widgets/base",
       "_view_module_version": "1.2.0",
       "_view_name": "LayoutView",
       "align_content": null,
       "align_items": null,
       "align_self": null,
       "border": null,
       "bottom": null,
       "display": null,
       "flex": null,
       "flex_flow": null,
       "grid_area": null,
       "grid_auto_columns": null,
       "grid_auto_flow": null,
       "grid_auto_rows": null,
       "grid_column": null,
       "grid_gap": null,
       "grid_row": null,
       "grid_template_areas": null,
       "grid_template_columns": null,
       "grid_template_rows": null,
       "height": null,
       "justify_content": null,
       "justify_items": null,
       "left": null,
       "margin": null,
       "max_height": null,
       "max_width": null,
       "min_height": null,
       "min_width": null,
       "object_fit": null,
       "object_position": null,
       "order": null,
       "overflow": null,
       "overflow_x": null,
       "overflow_y": null,
       "padding": null,
       "right": null,
       "top": null,
       "visibility": null,
       "width": null
      }
     },
     "a937b4bdf36a4204ba0597582759cc6d": {
      "model_module": "@jupyter-widgets/base",
      "model_module_version": "1.2.0",
      "model_name": "LayoutModel",
      "state": {
       "_model_module": "@jupyter-widgets/base",
       "_model_module_version": "1.2.0",
       "_model_name": "LayoutModel",
       "_view_count": null,
       "_view_module": "@jupyter-widgets/base",
       "_view_module_version": "1.2.0",
       "_view_name": "LayoutView",
       "align_content": null,
       "align_items": null,
       "align_self": null,
       "border": null,
       "bottom": null,
       "display": null,
       "flex": null,
       "flex_flow": null,
       "grid_area": null,
       "grid_auto_columns": null,
       "grid_auto_flow": null,
       "grid_auto_rows": null,
       "grid_column": null,
       "grid_gap": null,
       "grid_row": null,
       "grid_template_areas": null,
       "grid_template_columns": null,
       "grid_template_rows": null,
       "height": null,
       "justify_content": null,
       "justify_items": null,
       "left": null,
       "margin": null,
       "max_height": null,
       "max_width": null,
       "min_height": null,
       "min_width": null,
       "object_fit": null,
       "object_position": null,
       "order": null,
       "overflow": null,
       "overflow_x": null,
       "overflow_y": null,
       "padding": null,
       "right": null,
       "top": null,
       "visibility": null,
       "width": null
      }
     },
     "b4c107b2a7fb42f38f08d70815b45ca5": {
      "model_module": "@jupyter-widgets/base",
      "model_module_version": "1.2.0",
      "model_name": "LayoutModel",
      "state": {
       "_model_module": "@jupyter-widgets/base",
       "_model_module_version": "1.2.0",
       "_model_name": "LayoutModel",
       "_view_count": null,
       "_view_module": "@jupyter-widgets/base",
       "_view_module_version": "1.2.0",
       "_view_name": "LayoutView",
       "align_content": null,
       "align_items": null,
       "align_self": null,
       "border": null,
       "bottom": null,
       "display": null,
       "flex": null,
       "flex_flow": null,
       "grid_area": null,
       "grid_auto_columns": null,
       "grid_auto_flow": null,
       "grid_auto_rows": null,
       "grid_column": null,
       "grid_gap": null,
       "grid_row": null,
       "grid_template_areas": null,
       "grid_template_columns": null,
       "grid_template_rows": null,
       "height": null,
       "justify_content": null,
       "justify_items": null,
       "left": null,
       "margin": null,
       "max_height": null,
       "max_width": null,
       "min_height": null,
       "min_width": null,
       "object_fit": null,
       "object_position": null,
       "order": null,
       "overflow": null,
       "overflow_x": null,
       "overflow_y": null,
       "padding": null,
       "right": null,
       "top": null,
       "visibility": null,
       "width": null
      }
     },
     "bae31d3f0af3446a875f53cd94e09975": {
      "model_module": "@jupyter-widgets/controls",
      "model_module_version": "1.5.0",
      "model_name": "HTMLModel",
      "state": {
       "_dom_classes": [],
       "_model_module": "@jupyter-widgets/controls",
       "_model_module_version": "1.5.0",
       "_model_name": "HTMLModel",
       "_view_count": null,
       "_view_module": "@jupyter-widgets/controls",
       "_view_module_version": "1.5.0",
       "_view_name": "HTMLView",
       "description": "",
       "description_tooltip": null,
       "layout": "IPY_MODEL_f62a9ce8fd9f4e15bb7e1766f4613a0e",
       "placeholder": "​",
       "style": "IPY_MODEL_71e34e671d234679ab83f9d359a22c34",
       "value": " 112/112 [00:00&lt;00:00, 3.33kB/s]"
      }
     },
     "bc31e5fb7dd94a97b9e954299c324543": {
      "model_module": "@jupyter-widgets/base",
      "model_module_version": "1.2.0",
      "model_name": "LayoutModel",
      "state": {
       "_model_module": "@jupyter-widgets/base",
       "_model_module_version": "1.2.0",
       "_model_name": "LayoutModel",
       "_view_count": null,
       "_view_module": "@jupyter-widgets/base",
       "_view_module_version": "1.2.0",
       "_view_name": "LayoutView",
       "align_content": null,
       "align_items": null,
       "align_self": null,
       "border": null,
       "bottom": null,
       "display": null,
       "flex": null,
       "flex_flow": null,
       "grid_area": null,
       "grid_auto_columns": null,
       "grid_auto_flow": null,
       "grid_auto_rows": null,
       "grid_column": null,
       "grid_gap": null,
       "grid_row": null,
       "grid_template_areas": null,
       "grid_template_columns": null,
       "grid_template_rows": null,
       "height": null,
       "justify_content": null,
       "justify_items": null,
       "left": null,
       "margin": null,
       "max_height": null,
       "max_width": null,
       "min_height": null,
       "min_width": null,
       "object_fit": null,
       "object_position": null,
       "order": null,
       "overflow": null,
       "overflow_x": null,
       "overflow_y": null,
       "padding": null,
       "right": null,
       "top": null,
       "visibility": null,
       "width": null
      }
     },
     "be57725623b540a389ac3e656c3a9aa6": {
      "model_module": "@jupyter-widgets/controls",
      "model_module_version": "1.5.0",
      "model_name": "DescriptionStyleModel",
      "state": {
       "_model_module": "@jupyter-widgets/controls",
       "_model_module_version": "1.5.0",
       "_model_name": "DescriptionStyleModel",
       "_view_count": null,
       "_view_module": "@jupyter-widgets/base",
       "_view_module_version": "1.2.0",
       "_view_name": "StyleView",
       "description_width": ""
      }
     },
     "c30195012b6e46349534593cb3d2df3a": {
      "model_module": "@jupyter-widgets/controls",
      "model_module_version": "1.5.0",
      "model_name": "DescriptionStyleModel",
      "state": {
       "_model_module": "@jupyter-widgets/controls",
       "_model_module_version": "1.5.0",
       "_model_name": "DescriptionStyleModel",
       "_view_count": null,
       "_view_module": "@jupyter-widgets/base",
       "_view_module_version": "1.2.0",
       "_view_name": "StyleView",
       "description_width": ""
      }
     },
     "c522b98d02334d02a8518a03ed8077b0": {
      "model_module": "@jupyter-widgets/controls",
      "model_module_version": "1.5.0",
      "model_name": "FloatProgressModel",
      "state": {
       "_dom_classes": [],
       "_model_module": "@jupyter-widgets/controls",
       "_model_module_version": "1.5.0",
       "_model_name": "FloatProgressModel",
       "_view_count": null,
       "_view_module": "@jupyter-widgets/controls",
       "_view_module_version": "1.5.0",
       "_view_name": "ProgressView",
       "bar_style": "success",
       "description": "",
       "description_tooltip": null,
       "layout": "IPY_MODEL_bc31e5fb7dd94a97b9e954299c324543",
       "max": 642.0,
       "min": 0.0,
       "orientation": "horizontal",
       "style": "IPY_MODEL_8a8c772040874d209a9701b788979907",
       "value": 642.0
      }
     },
     "c60ac7cb1c764718981275140041f82f": {
      "model_module": "@jupyter-widgets/base",
      "model_module_version": "1.2.0",
      "model_name": "LayoutModel",
      "state": {
       "_model_module": "@jupyter-widgets/base",
       "_model_module_version": "1.2.0",
       "_model_name": "LayoutModel",
       "_view_count": null,
       "_view_module": "@jupyter-widgets/base",
       "_view_module_version": "1.2.0",
       "_view_name": "LayoutView",
       "align_content": null,
       "align_items": null,
       "align_self": null,
       "border": null,
       "bottom": null,
       "display": null,
       "flex": null,
       "flex_flow": null,
       "grid_area": null,
       "grid_auto_columns": null,
       "grid_auto_flow": null,
       "grid_auto_rows": null,
       "grid_column": null,
       "grid_gap": null,
       "grid_row": null,
       "grid_template_areas": null,
       "grid_template_columns": null,
       "grid_template_rows": null,
       "height": null,
       "justify_content": null,
       "justify_items": null,
       "left": null,
       "margin": null,
       "max_height": null,
       "max_width": null,
       "min_height": null,
       "min_width": null,
       "object_fit": null,
       "object_position": null,
       "order": null,
       "overflow": null,
       "overflow_x": null,
       "overflow_y": null,
       "padding": null,
       "right": null,
       "top": null,
       "visibility": null,
       "width": null
      }
     },
     "d76c1a8efa6f407ba2af97de7b81ec27": {
      "model_module": "@jupyter-widgets/controls",
      "model_module_version": "1.5.0",
      "model_name": "DescriptionStyleModel",
      "state": {
       "_model_module": "@jupyter-widgets/controls",
       "_model_module_version": "1.5.0",
       "_model_name": "DescriptionStyleModel",
       "_view_count": null,
       "_view_module": "@jupyter-widgets/base",
       "_view_module_version": "1.2.0",
       "_view_name": "StyleView",
       "description_width": ""
      }
     },
     "dc37dc8d7c8d4c638cd40547bd687c82": {
      "model_module": "@jupyter-widgets/base",
      "model_module_version": "1.2.0",
      "model_name": "LayoutModel",
      "state": {
       "_model_module": "@jupyter-widgets/base",
       "_model_module_version": "1.2.0",
       "_model_name": "LayoutModel",
       "_view_count": null,
       "_view_module": "@jupyter-widgets/base",
       "_view_module_version": "1.2.0",
       "_view_name": "LayoutView",
       "align_content": null,
       "align_items": null,
       "align_self": null,
       "border": null,
       "bottom": null,
       "display": null,
       "flex": null,
       "flex_flow": null,
       "grid_area": null,
       "grid_auto_columns": null,
       "grid_auto_flow": null,
       "grid_auto_rows": null,
       "grid_column": null,
       "grid_gap": null,
       "grid_row": null,
       "grid_template_areas": null,
       "grid_template_columns": null,
       "grid_template_rows": null,
       "height": null,
       "justify_content": null,
       "justify_items": null,
       "left": null,
       "margin": null,
       "max_height": null,
       "max_width": null,
       "min_height": null,
       "min_width": null,
       "object_fit": null,
       "object_position": null,
       "order": null,
       "overflow": null,
       "overflow_x": null,
       "overflow_y": null,
       "padding": null,
       "right": null,
       "top": null,
       "visibility": null,
       "width": null
      }
     },
     "e0ecf01c38b346c8a59e7b7c1e447e3f": {
      "model_module": "@jupyter-widgets/controls",
      "model_module_version": "1.5.0",
      "model_name": "HTMLModel",
      "state": {
       "_dom_classes": [],
       "_model_module": "@jupyter-widgets/controls",
       "_model_module_version": "1.5.0",
       "_model_name": "HTMLModel",
       "_view_count": null,
       "_view_module": "@jupyter-widgets/controls",
       "_view_module_version": "1.5.0",
       "_view_name": "HTMLView",
       "description": "",
       "description_tooltip": null,
       "layout": "IPY_MODEL_b4c107b2a7fb42f38f08d70815b45ca5",
       "placeholder": "​",
       "style": "IPY_MODEL_be57725623b540a389ac3e656c3a9aa6",
       "value": "Downloading: 100%"
      }
     },
     "e40f74bbad214c4aa6b7890b74ef2a05": {
      "model_module": "@jupyter-widgets/controls",
      "model_module_version": "1.5.0",
      "model_name": "FloatProgressModel",
      "state": {
       "_dom_classes": [],
       "_model_module": "@jupyter-widgets/controls",
       "_model_module_version": "1.5.0",
       "_model_name": "FloatProgressModel",
       "_view_count": null,
       "_view_module": "@jupyter-widgets/controls",
       "_view_module_version": "1.5.0",
       "_view_name": "ProgressView",
       "bar_style": "success",
       "description": "",
       "description_tooltip": null,
       "layout": "IPY_MODEL_f6fd34e65e6b4159b16921be876f28f4",
       "max": 711456784.0,
       "min": 0.0,
       "orientation": "horizontal",
       "style": "IPY_MODEL_e9654d004b104fa8a888a98ec78f9d96",
       "value": 711456784.0
      }
     },
     "e5548ba341b74ac988d37985203dbc3a": {
      "model_module": "@jupyter-widgets/controls",
      "model_module_version": "1.5.0",
      "model_name": "HBoxModel",
      "state": {
       "_dom_classes": [],
       "_model_module": "@jupyter-widgets/controls",
       "_model_module_version": "1.5.0",
       "_model_name": "HBoxModel",
       "_view_count": null,
       "_view_module": "@jupyter-widgets/controls",
       "_view_module_version": "1.5.0",
       "_view_name": "HBoxView",
       "box_style": "",
       "children": [
        "IPY_MODEL_e0ecf01c38b346c8a59e7b7c1e447e3f",
        "IPY_MODEL_2620dbc8cf8a4cada52614ebd35bee3b",
        "IPY_MODEL_1433c624feaf4d59b71fb16ae9303ffd"
       ],
       "layout": "IPY_MODEL_7b8bbf16973c4e2695d3b376a4089481"
      }
     },
     "e9654d004b104fa8a888a98ec78f9d96": {
      "model_module": "@jupyter-widgets/controls",
      "model_module_version": "1.5.0",
      "model_name": "ProgressStyleModel",
      "state": {
       "_model_module": "@jupyter-widgets/controls",
       "_model_module_version": "1.5.0",
       "_model_name": "ProgressStyleModel",
       "_view_count": null,
       "_view_module": "@jupyter-widgets/base",
       "_view_module_version": "1.2.0",
       "_view_name": "StyleView",
       "bar_color": null,
       "description_width": ""
      }
     },
     "ec35b68475cd4de3ace43d73b1c0dff3": {
      "model_module": "@jupyter-widgets/base",
      "model_module_version": "1.2.0",
      "model_name": "LayoutModel",
      "state": {
       "_model_module": "@jupyter-widgets/base",
       "_model_module_version": "1.2.0",
       "_model_name": "LayoutModel",
       "_view_count": null,
       "_view_module": "@jupyter-widgets/base",
       "_view_module_version": "1.2.0",
       "_view_name": "LayoutView",
       "align_content": null,
       "align_items": null,
       "align_self": null,
       "border": null,
       "bottom": null,
       "display": null,
       "flex": null,
       "flex_flow": null,
       "grid_area": null,
       "grid_auto_columns": null,
       "grid_auto_flow": null,
       "grid_auto_rows": null,
       "grid_column": null,
       "grid_gap": null,
       "grid_row": null,
       "grid_template_areas": null,
       "grid_template_columns": null,
       "grid_template_rows": null,
       "height": null,
       "justify_content": null,
       "justify_items": null,
       "left": null,
       "margin": null,
       "max_height": null,
       "max_width": null,
       "min_height": null,
       "min_width": null,
       "object_fit": null,
       "object_position": null,
       "order": null,
       "overflow": null,
       "overflow_x": null,
       "overflow_y": null,
       "padding": null,
       "right": null,
       "top": null,
       "visibility": null,
       "width": null
      }
     },
     "ee418a00a4b7438fae9d8926ace92bd3": {
      "model_module": "@jupyter-widgets/controls",
      "model_module_version": "1.5.0",
      "model_name": "FloatProgressModel",
      "state": {
       "_dom_classes": [],
       "_model_module": "@jupyter-widgets/controls",
       "_model_module_version": "1.5.0",
       "_model_name": "FloatProgressModel",
       "_view_count": null,
       "_view_module": "@jupyter-widgets/controls",
       "_view_module_version": "1.5.0",
       "_view_name": "ProgressView",
       "bar_style": "success",
       "description": "",
       "description_tooltip": null,
       "layout": "IPY_MODEL_7f57456f56eb4557b4363970be79c394",
       "max": 24.0,
       "min": 0.0,
       "orientation": "horizontal",
       "style": "IPY_MODEL_a7b5bd4cc8a64c14baa04228e646b5d3",
       "value": 24.0
      }
     },
     "ee92bc981b5d4de7b47bff42aa5ce4d1": {
      "model_module": "@jupyter-widgets/base",
      "model_module_version": "1.2.0",
      "model_name": "LayoutModel",
      "state": {
       "_model_module": "@jupyter-widgets/base",
       "_model_module_version": "1.2.0",
       "_model_name": "LayoutModel",
       "_view_count": null,
       "_view_module": "@jupyter-widgets/base",
       "_view_module_version": "1.2.0",
       "_view_name": "LayoutView",
       "align_content": null,
       "align_items": null,
       "align_self": null,
       "border": null,
       "bottom": null,
       "display": null,
       "flex": null,
       "flex_flow": null,
       "grid_area": null,
       "grid_auto_columns": null,
       "grid_auto_flow": null,
       "grid_auto_rows": null,
       "grid_column": null,
       "grid_gap": null,
       "grid_row": null,
       "grid_template_areas": null,
       "grid_template_columns": null,
       "grid_template_rows": null,
       "height": null,
       "justify_content": null,
       "justify_items": null,
       "left": null,
       "margin": null,
       "max_height": null,
       "max_width": null,
       "min_height": null,
       "min_width": null,
       "object_fit": null,
       "object_position": null,
       "order": null,
       "overflow": null,
       "overflow_x": null,
       "overflow_y": null,
       "padding": null,
       "right": null,
       "top": null,
       "visibility": null,
       "width": null
      }
     },
     "f0f43cb286ec49dab908f7608351aa83": {
      "model_module": "@jupyter-widgets/base",
      "model_module_version": "1.2.0",
      "model_name": "LayoutModel",
      "state": {
       "_model_module": "@jupyter-widgets/base",
       "_model_module_version": "1.2.0",
       "_model_name": "LayoutModel",
       "_view_count": null,
       "_view_module": "@jupyter-widgets/base",
       "_view_module_version": "1.2.0",
       "_view_name": "LayoutView",
       "align_content": null,
       "align_items": null,
       "align_self": null,
       "border": null,
       "bottom": null,
       "display": null,
       "flex": null,
       "flex_flow": null,
       "grid_area": null,
       "grid_auto_columns": null,
       "grid_auto_flow": null,
       "grid_auto_rows": null,
       "grid_column": null,
       "grid_gap": null,
       "grid_row": null,
       "grid_template_areas": null,
       "grid_template_columns": null,
       "grid_template_rows": null,
       "height": null,
       "justify_content": null,
       "justify_items": null,
       "left": null,
       "margin": null,
       "max_height": null,
       "max_width": null,
       "min_height": null,
       "min_width": null,
       "object_fit": null,
       "object_position": null,
       "order": null,
       "overflow": null,
       "overflow_x": null,
       "overflow_y": null,
       "padding": null,
       "right": null,
       "top": null,
       "visibility": null,
       "width": null
      }
     },
     "f4b57ea7499c4b29b55348472e520320": {
      "model_module": "@jupyter-widgets/controls",
      "model_module_version": "1.5.0",
      "model_name": "FloatProgressModel",
      "state": {
       "_dom_classes": [],
       "_model_module": "@jupyter-widgets/controls",
       "_model_module_version": "1.5.0",
       "_model_name": "FloatProgressModel",
       "_view_count": null,
       "_view_module": "@jupyter-widgets/controls",
       "_view_module_version": "1.5.0",
       "_view_name": "ProgressView",
       "bar_style": "success",
       "description": "",
       "description_tooltip": null,
       "layout": "IPY_MODEL_91523feb1d53477cb61dad2ef108da8b",
       "max": 112.0,
       "min": 0.0,
       "orientation": "horizontal",
       "style": "IPY_MODEL_1f2a5b1c8f06450ca3ce87637757e0c9",
       "value": 112.0
      }
     },
     "f5b40edb63cb4c6a95e8af05fb87846c": {
      "model_module": "@jupyter-widgets/controls",
      "model_module_version": "1.5.0",
      "model_name": "ProgressStyleModel",
      "state": {
       "_model_module": "@jupyter-widgets/controls",
       "_model_module_version": "1.5.0",
       "_model_name": "ProgressStyleModel",
       "_view_count": null,
       "_view_module": "@jupyter-widgets/base",
       "_view_module_version": "1.2.0",
       "_view_name": "StyleView",
       "bar_color": null,
       "description_width": ""
      }
     },
     "f62a9ce8fd9f4e15bb7e1766f4613a0e": {
      "model_module": "@jupyter-widgets/base",
      "model_module_version": "1.2.0",
      "model_name": "LayoutModel",
      "state": {
       "_model_module": "@jupyter-widgets/base",
       "_model_module_version": "1.2.0",
       "_model_name": "LayoutModel",
       "_view_count": null,
       "_view_module": "@jupyter-widgets/base",
       "_view_module_version": "1.2.0",
       "_view_name": "LayoutView",
       "align_content": null,
       "align_items": null,
       "align_self": null,
       "border": null,
       "bottom": null,
       "display": null,
       "flex": null,
       "flex_flow": null,
       "grid_area": null,
       "grid_auto_columns": null,
       "grid_auto_flow": null,
       "grid_auto_rows": null,
       "grid_column": null,
       "grid_gap": null,
       "grid_row": null,
       "grid_template_areas": null,
       "grid_template_columns": null,
       "grid_template_rows": null,
       "height": null,
       "justify_content": null,
       "justify_items": null,
       "left": null,
       "margin": null,
       "max_height": null,
       "max_width": null,
       "min_height": null,
       "min_width": null,
       "object_fit": null,
       "object_position": null,
       "order": null,
       "overflow": null,
       "overflow_x": null,
       "overflow_y": null,
       "padding": null,
       "right": null,
       "top": null,
       "visibility": null,
       "width": null
      }
     },
     "f6fd34e65e6b4159b16921be876f28f4": {
      "model_module": "@jupyter-widgets/base",
      "model_module_version": "1.2.0",
      "model_name": "LayoutModel",
      "state": {
       "_model_module": "@jupyter-widgets/base",
       "_model_module_version": "1.2.0",
       "_model_name": "LayoutModel",
       "_view_count": null,
       "_view_module": "@jupyter-widgets/base",
       "_view_module_version": "1.2.0",
       "_view_name": "LayoutView",
       "align_content": null,
       "align_items": null,
       "align_self": null,
       "border": null,
       "bottom": null,
       "display": null,
       "flex": null,
       "flex_flow": null,
       "grid_area": null,
       "grid_auto_columns": null,
       "grid_auto_flow": null,
       "grid_auto_rows": null,
       "grid_column": null,
       "grid_gap": null,
       "grid_row": null,
       "grid_template_areas": null,
       "grid_template_columns": null,
       "grid_template_rows": null,
       "height": null,
       "justify_content": null,
       "justify_items": null,
       "left": null,
       "margin": null,
       "max_height": null,
       "max_width": null,
       "min_height": null,
       "min_width": null,
       "object_fit": null,
       "object_position": null,
       "order": null,
       "overflow": null,
       "overflow_x": null,
       "overflow_y": null,
       "padding": null,
       "right": null,
       "top": null,
       "visibility": null,
       "width": null
      }
     },
     "fd2f0ae0498a4216b8d1d98581c448f9": {
      "model_module": "@jupyter-widgets/controls",
      "model_module_version": "1.5.0",
      "model_name": "HBoxModel",
      "state": {
       "_dom_classes": [],
       "_model_module": "@jupyter-widgets/controls",
       "_model_module_version": "1.5.0",
       "_model_name": "HBoxModel",
       "_view_count": null,
       "_view_module": "@jupyter-widgets/controls",
       "_view_module_version": "1.5.0",
       "_view_name": "HBoxView",
       "box_style": "",
       "children": [
        "IPY_MODEL_32178920ab8645b69d35ce7fa800980f",
        "IPY_MODEL_e40f74bbad214c4aa6b7890b74ef2a05",
        "IPY_MODEL_7024884612104351bf5268cf72b1dd03"
       ],
       "layout": "IPY_MODEL_f0f43cb286ec49dab908f7608351aa83"
      }
     }
    },
    "version_major": 2,
    "version_minor": 0
   }
  }
 },
 "nbformat": 4,
 "nbformat_minor": 5
}
