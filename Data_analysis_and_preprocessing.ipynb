{
  "nbformat": 4,
  "nbformat_minor": 0,
  "metadata": {
    "colab": {
      "name": "Data analysis and preprocessing.ipynb",
      "provenance": [],
      "collapsed_sections": []
    },
    "kernelspec": {
      "name": "python3",
      "display_name": "Python 3"
    },
    "language_info": {
      "name": "python"
    }
  },
  "cells": [
    {
      "cell_type": "code",
      "source": [
        "!pip install pymorphy2"
      ],
      "metadata": {
        "colab": {
          "base_uri": "https://localhost:8080/"
        },
        "id": "2MXtTkXUv32M",
        "outputId": "4b3c084f-af27-41b6-dcac-5fd943709c01"
      },
      "execution_count": 1,
      "outputs": [
        {
          "output_type": "stream",
          "name": "stdout",
          "text": [
            "Looking in indexes: https://pypi.org/simple, https://us-python.pkg.dev/colab-wheels/public/simple/\n",
            "Collecting pymorphy2\n",
            "  Downloading pymorphy2-0.9.1-py3-none-any.whl (55 kB)\n",
            "\u001b[K     |████████████████████████████████| 55 kB 1.5 MB/s \n",
            "\u001b[?25hRequirement already satisfied: docopt>=0.6 in /usr/local/lib/python3.7/dist-packages (from pymorphy2) (0.6.2)\n",
            "Collecting pymorphy2-dicts-ru<3.0,>=2.4\n",
            "  Downloading pymorphy2_dicts_ru-2.4.417127.4579844-py2.py3-none-any.whl (8.2 MB)\n",
            "\u001b[K     |████████████████████████████████| 8.2 MB 29.9 MB/s \n",
            "\u001b[?25hCollecting dawg-python>=0.7.1\n",
            "  Downloading DAWG_Python-0.7.2-py2.py3-none-any.whl (11 kB)\n",
            "Installing collected packages: pymorphy2-dicts-ru, dawg-python, pymorphy2\n",
            "Successfully installed dawg-python-0.7.2 pymorphy2-0.9.1 pymorphy2-dicts-ru-2.4.417127.4579844\n"
          ]
        }
      ]
    },
    {
      "cell_type": "code",
      "execution_count": 2,
      "metadata": {
        "id": "uqS81QtlIX96"
      },
      "outputs": [],
      "source": [
        "import pandas as pd\n",
        "import matplotlib.pyplot as plt\n",
        "import seaborn as sns\n",
        "from google.colab import drive\n",
        "import re\n",
        "import nltk\n",
        "from pymorphy2 import MorphAnalyzer\n",
        "from nltk.corpus import stopwords\n",
        "from sklearn.feature_extraction.text import CountVectorizer\n",
        "from sklearn.metrics.pairwise import cosine_similarity\n",
        "from tqdm import tqdm"
      ]
    },
    {
      "cell_type": "code",
      "source": [
        "nltk.download('stopwords')\n",
        "stopwords_ru = stopwords.words(\"russian\")"
      ],
      "metadata": {
        "colab": {
          "base_uri": "https://localhost:8080/"
        },
        "id": "W1_eU3ZGvm_D",
        "outputId": "10abd049-7567-488a-ee2a-32375b1342dc"
      },
      "execution_count": 3,
      "outputs": [
        {
          "output_type": "stream",
          "name": "stderr",
          "text": [
            "[nltk_data] Downloading package stopwords to /root/nltk_data...\n",
            "[nltk_data]   Unzipping corpora/stopwords.zip.\n"
          ]
        }
      ]
    },
    {
      "cell_type": "markdown",
      "source": [
        "#Анализ данных"
      ],
      "metadata": {
        "id": "7IDUieTxukAq"
      }
    },
    {
      "cell_type": "code",
      "source": [
        "drive.mount('/content/drive/')\n",
        "train = pd.read_csv('/content/drive/MyDrive/Sber/train_data.csv', index_col=0)\n",
        "test = pd.read_csv('/content/drive/MyDrive/Sber/test_data.csv', index_col='id')"
      ],
      "metadata": {
        "colab": {
          "base_uri": "https://localhost:8080/"
        },
        "id": "UdYUixJiMzFt",
        "outputId": "8b7acb95-0721-40a9-c72e-9705aad9ad0e"
      },
      "execution_count": 4,
      "outputs": [
        {
          "output_type": "stream",
          "name": "stdout",
          "text": [
            "Mounted at /content/drive/\n"
          ]
        }
      ]
    },
    {
      "cell_type": "code",
      "source": [
        "train.info()"
      ],
      "metadata": {
        "colab": {
          "base_uri": "https://localhost:8080/"
        },
        "id": "7k0_ZZTkMzIc",
        "outputId": "efbf67d7-72d3-4d6a-c1e8-1461ef9ea6d5"
      },
      "execution_count": 5,
      "outputs": [
        {
          "output_type": "stream",
          "name": "stdout",
          "text": [
            "<class 'pandas.core.frame.DataFrame'>\n",
            "Int64Index: 1669 entries, 0 to 1668\n",
            "Data columns (total 2 columns):\n",
            " #   Column    Non-Null Count  Dtype \n",
            "---  ------    --------------  ----- \n",
            " 0   sentence  1669 non-null   object\n",
            " 1   label     1669 non-null   int64 \n",
            "dtypes: int64(1), object(1)\n",
            "memory usage: 39.1+ KB\n"
          ]
        }
      ]
    },
    {
      "cell_type": "code",
      "source": [
        "test.info()"
      ],
      "metadata": {
        "colab": {
          "base_uri": "https://localhost:8080/"
        },
        "id": "-OKH6vNiMzLM",
        "outputId": "95dfa137-f9ad-445e-b804-84f221f09bc6"
      },
      "execution_count": 6,
      "outputs": [
        {
          "output_type": "stream",
          "name": "stdout",
          "text": [
            "<class 'pandas.core.frame.DataFrame'>\n",
            "Index: 10571 entries, 0 to 10569\n",
            "Data columns (total 3 columns):\n",
            " #   Column      Non-Null Count  Dtype  \n",
            "---  ------      --------------  -----  \n",
            " 0   Unnamed: 0  10570 non-null  float64\n",
            " 1   title       10364 non-null  object \n",
            " 2   text        10569 non-null  object \n",
            "dtypes: float64(1), object(2)\n",
            "memory usage: 330.3+ KB\n"
          ]
        }
      ]
    },
    {
      "cell_type": "code",
      "source": [
        "train['label'].value_counts()"
      ],
      "metadata": {
        "colab": {
          "base_uri": "https://localhost:8080/"
        },
        "id": "yh9QxO-UMzN8",
        "outputId": "c8312d1f-7572-4805-c04a-e4edfdaf452e"
      },
      "execution_count": 7,
      "outputs": [
        {
          "output_type": "execute_result",
          "data": {
            "text/plain": [
              "0    1340\n",
              "1     329\n",
              "Name: label, dtype: int64"
            ]
          },
          "metadata": {},
          "execution_count": 7
        }
      ]
    },
    {
      "cell_type": "markdown",
      "source": [
        "Первая проблема тренировочной выборки, которая бросается в глаза: это дисбаланс классов. Для улучшения качества необходимо устранить эту проблему. В другом ноутбуке я решаю её при помощи перефразирования."
      ],
      "metadata": {
        "id": "8ZremyHLTirT"
      }
    },
    {
      "cell_type": "markdown",
      "source": [
        "Необходимо узнать длину строк в тренировочной и тестовой частях, чтобы понять, какое значение max_len утсанавливать для BERT"
      ],
      "metadata": {
        "id": "iXKctf9Qs5wM"
      }
    },
    {
      "cell_type": "code",
      "source": [
        "train_len = [len(i.split()) for i in train['sentence']]\n",
        "\n",
        "print('Max len train:', max(train_len))\n",
        "plt.hist(train_len, bins=30, alpha=0.8)\n",
        "plt.title('Len distribution')\n",
        "plt.xlabel('String len')\n",
        "plt.ylabel('Number of strings');"
      ],
      "metadata": {
        "colab": {
          "base_uri": "https://localhost:8080/",
          "height": 312
        },
        "id": "IRAqcI2PMzQk",
        "outputId": "33329872-3a83-4f2a-ebb0-f75d9ffef603"
      },
      "execution_count": 8,
      "outputs": [
        {
          "output_type": "stream",
          "name": "stdout",
          "text": [
            "Max len train: 120\n"
          ]
        },
        {
          "output_type": "display_data",
          "data": {
            "text/plain": [
              "<Figure size 432x288 with 1 Axes>"
            ],
            "image/png": "[encoded data removed]"
          },
          "metadata": {
            "needs_background": "light"
          }
        }
      ]
    },
    {
      "cell_type": "code",
      "source": [
        "test_len = [len(str(i).split()) for i in test['text']]\n",
        "\n",
        "print('Max len texts in test:', max(test_len))\n",
        "plt.hist(test_len, bins=30, alpha=0.8)\n",
        "plt.title('Len distribution')\n",
        "plt.xlabel('String len')\n",
        "plt.ylabel('Number of strings');"
      ],
      "metadata": {
        "colab": {
          "base_uri": "https://localhost:8080/",
          "height": 312
        },
        "id": "AHGEqs3ZMzTF",
        "outputId": "bddc111a-9bc9-4dca-f4fc-9c7984f4ec3c"
      },
      "execution_count": 9,
      "outputs": [
        {
          "output_type": "stream",
          "name": "stdout",
          "text": [
            "Max len texts in test: 1489\n"
          ]
        },
        {
          "output_type": "display_data",
          "data": {
            "text/plain": [
              "<Figure size 432x288 with 1 Axes>"
            ],
            "image/png": "[encoded data removed]"
          },
          "metadata": {
            "needs_background": "light"
          }
        }
      ]
    },
    {
      "cell_type": "code",
      "source": [
        "test_title_len = [len(str(i).split()) for i in test['title']]\n",
        "\n",
        "print('Max len texts in test:', max(test_title_len))\n",
        "plt.hist(test_title_len, bins=30, alpha=0.8)\n",
        "plt.title('Len distribution')\n",
        "plt.xlabel('String len')\n",
        "plt.ylabel('Number of strings');"
      ],
      "metadata": {
        "colab": {
          "base_uri": "https://localhost:8080/",
          "height": 312
        },
        "id": "OBtzbpnkuEl9",
        "outputId": "91b5a9c6-99ed-4ba6-ae70-bdcdf9b19940"
      },
      "execution_count": 11,
      "outputs": [
        {
          "output_type": "stream",
          "name": "stdout",
          "text": [
            "Max len texts in test: 39\n"
          ]
        },
        {
          "output_type": "display_data",
          "data": {
            "text/plain": [
              "<Figure size 432x288 with 1 Axes>"
            ],
            "image/png": "[encoded data removed]"
          },
          "metadata": {
            "needs_background": "light"
          }
        }
      ]
    },
    {
      "cell_type": "markdown",
      "source": [
        "Некоторые строки в тестовой части получаются слишком длинными. Но BERT может принимать на вход только 512 токенов, эту проблему я буду решать при помощи разбиения длинных строк на мини-батчи по 512 токенов."
      ],
      "metadata": {
        "id": "_hNMsSxBuQWy"
      }
    },
    {
      "cell_type": "markdown",
      "source": [
        "#Очистка данных"
      ],
      "metadata": {
        "id": "uS-1awKduhA7"
      }
    },
    {
      "cell_type": "code",
      "source": [
        "train_copy = train.copy()\n",
        "test_copy = test.copy()"
      ],
      "metadata": {
        "id": "8JtQHOJQCAQX"
      },
      "execution_count": 126,
      "outputs": []
    },
    {
      "cell_type": "markdown",
      "source": [
        "Проверим, есть ли пустые строки"
      ],
      "metadata": {
        "id": "OKTmvkf0rFeN"
      }
    },
    {
      "cell_type": "code",
      "source": [
        "train_copy[train_copy['sentence'] == ' '].index"
      ],
      "metadata": {
        "colab": {
          "base_uri": "https://localhost:8080/"
        },
        "id": "1oYQ2fJPF-3P",
        "outputId": "b4a0094b-93df-4e05-c8f0-adb4f2b15c4e"
      },
      "execution_count": 146,
      "outputs": [
        {
          "output_type": "execute_result",
          "data": {
            "text/plain": [
              "Int64Index([], dtype='int64')"
            ]
          },
          "metadata": {},
          "execution_count": 146
        }
      ]
    },
    {
      "cell_type": "code",
      "source": [
        "test_copy[test_copy['text'] == ' '].index"
      ],
      "metadata": {
        "colab": {
          "base_uri": "https://localhost:8080/"
        },
        "id": "M5uovCwNGbgG",
        "outputId": "e0a19800-0b44-4813-eb2f-da5d04591012"
      },
      "execution_count": 147,
      "outputs": [
        {
          "output_type": "execute_result",
          "data": {
            "text/plain": [
              "Index([], dtype='object', name='id')"
            ]
          },
          "metadata": {},
          "execution_count": 147
        }
      ]
    },
    {
      "cell_type": "code",
      "source": [
        "test_copy[test_copy['title'] == ' '].index"
      ],
      "metadata": {
        "colab": {
          "base_uri": "https://localhost:8080/"
        },
        "id": "WuLQiiaKrCOU",
        "outputId": "b55d247c-e900-4444-a9a8-19830db87c39"
      },
      "execution_count": 148,
      "outputs": [
        {
          "output_type": "execute_result",
          "data": {
            "text/plain": [
              "Index([], dtype='object', name='id')"
            ]
          },
          "metadata": {},
          "execution_count": 148
        }
      ]
    },
    {
      "cell_type": "markdown",
      "source": [
        "Функция для лемматизации и удаления стоп-слов"
      ],
      "metadata": {
        "id": "4wQqYVJMrJ7V"
      }
    },
    {
      "cell_type": "code",
      "source": [
        "patterns = \"[A-Za-z0-9!#$%&'()*+,./:;<=>?@[\\]^_`{|}~—\\\"\\-]+\"\n",
        "stopwords_ru = stopwords.words(\"russian\")\n",
        "morph = MorphAnalyzer()\n",
        "\n",
        "def lemmatize(doc):\n",
        "    doc = re.sub(patterns, ' ', str(doc))\n",
        "    tokens = []\n",
        "    for token in doc.split():\n",
        "        if token and token not in stopwords_ru:\n",
        "            token = token.strip()\n",
        "            token = morph.normal_forms(token)[0]\n",
        "            \n",
        "            tokens.append(token)\n",
        "    if len(tokens) > 2:\n",
        "        return tokens\n",
        "    return None"
      ],
      "metadata": {
        "id": "HpBZmKFx09I6"
      },
      "execution_count": 69,
      "outputs": []
    },
    {
      "cell_type": "code",
      "source": [
        "train_copy['sentence'] = train_copy['sentence'].apply(lemmatize)\n",
        "test_copy['text'] = test_copy['text'].apply(lemmatize)\n",
        "test_copy['title'] = test_copy['title'].apply(lemmatize)"
      ],
      "metadata": {
        "id": "bcVD_YyoDx9n"
      },
      "execution_count": 128,
      "outputs": []
    },
    {
      "cell_type": "code",
      "source": [
        "train_copy.to_csv('train_cleaned.csv')\n",
        "test_copy.to_csv('test_cleaned.csv')"
      ],
      "metadata": {
        "id": "qalqm_K5qpEE"
      },
      "execution_count": 144,
      "outputs": []
    },
    {
      "cell_type": "markdown",
      "source": [
        "#Вычисляем схожесть текстов новостей и заголовков"
      ],
      "metadata": {
        "id": "uIt_s5MFusES"
      }
    },
    {
      "cell_type": "markdown",
      "source": [
        "Как видно, в тестовых данных помимо текста новостей есть ещё и заголовок. Моя идея заключается в том, чтобы при классификации использовать и текст новости, и заголовок одновременно, как одну последовательность. Такой подход может ухудшить качество модели, если заголовки и новости слишком схожи между собой. Проверим сходство заголовков и текстов при помощи косинусного расстояния."
      ],
      "metadata": {
        "id": "-Npl4u3RVCPK"
      }
    },
    {
      "cell_type": "code",
      "source": [
        "train_copy.fillna('текст', inplace=True)\n",
        "test_copy.fillna('текст', inplace=True)"
      ],
      "metadata": {
        "id": "Za6Ne3BKKnRG"
      },
      "execution_count": 130,
      "outputs": []
    },
    {
      "cell_type": "code",
      "source": [
        "def concatenate(x):\n",
        "  string = ' '.join(x)\n",
        "  return string"
      ],
      "metadata": {
        "id": "QZ_0r8SqFFxY"
      },
      "execution_count": 127,
      "outputs": []
    },
    {
      "cell_type": "code",
      "source": [
        "train_copy['sentence'] = train_copy['sentence'].apply(concatenate)\n",
        "test_copy['text'] = test_copy['text'].apply(concatenate)\n",
        "test_copy['title'] = test_copy['title'].apply(concatenate)"
      ],
      "metadata": {
        "id": "4tRX7n85EIWm"
      },
      "execution_count": 131,
      "outputs": []
    },
    {
      "cell_type": "code",
      "source": [
        "texts = test_copy['text'].to_list()\n",
        "titles = test_copy['title'].to_list()"
      ],
      "metadata": {
        "id": "tGlP-a44MNEO"
      },
      "execution_count": 133,
      "outputs": []
    },
    {
      "cell_type": "code",
      "source": [
        "def cosine(text, title):\n",
        "  text_title = [text, title]\n",
        "  vectorizer = CountVectorizer().fit_transform(text_title)\n",
        "  vecs = vectorizer.toarray()\n",
        "  text_vec, title_vec = vecs[0].reshape(1, -1), vecs[1].reshape(1, -1)\n",
        "  csim = cosine_similarity(text_vec, title_vec)\n",
        "  return csim[0][0]"
      ],
      "metadata": {
        "id": "M03CL33bxWHx"
      },
      "execution_count": 115,
      "outputs": []
    },
    {
      "cell_type": "code",
      "source": [
        "cosines = []\n",
        "for i in tqdm(range(len(texts))):\n",
        "  cosine_sim = cosine(texts[i], titles[i])\n",
        "  cosines.append(cosine_sim)"
      ],
      "metadata": {
        "colab": {
          "base_uri": "https://localhost:8080/"
        },
        "id": "p31Mtg4KOYkF",
        "outputId": "01ab2937-59cf-4aae-8653-b9674b1294e2"
      },
      "execution_count": 140,
      "outputs": [
        {
          "output_type": "stream",
          "name": "stderr",
          "text": [
            "100%|██████████| 10571/10571 [00:15<00:00, 687.06it/s]\n"
          ]
        }
      ]
    },
    {
      "cell_type": "markdown",
      "source": [
        "Посчитаем среднее косинусное расстояние. Оно получилось не очень большим. Помимо этого проверим сколько есть экземпляров с высоким косинусным расстоянием"
      ],
      "metadata": {
        "id": "Ijq5tkRrqQhm"
      }
    },
    {
      "cell_type": "code",
      "source": [
        "sum(cosines) / len(cosines)"
      ],
      "metadata": {
        "colab": {
          "base_uri": "https://localhost:8080/"
        },
        "id": "xDKounKLqEuV",
        "outputId": "e60cd7b7-eefa-4921-b921-a86d73f25209"
      },
      "execution_count": 143,
      "outputs": [
        {
          "output_type": "execute_result",
          "data": {
            "text/plain": [
              "0.29506576419198893"
            ]
          },
          "metadata": {},
          "execution_count": 143
        }
      ]
    },
    {
      "cell_type": "code",
      "source": [
        "big_cosines = len([item for item in cosines if item > 0.7])\n",
        "big_cosines"
      ],
      "metadata": {
        "colab": {
          "base_uri": "https://localhost:8080/"
        },
        "id": "f4kOG9-RqhON",
        "outputId": "359af266-6414-4107-8a9f-40687d888bda"
      },
      "execution_count": 153,
      "outputs": [
        {
          "output_type": "execute_result",
          "data": {
            "text/plain": [
              "78"
            ]
          },
          "metadata": {},
          "execution_count": 153
        }
      ]
    },
    {
      "cell_type": "markdown",
      "source": [
        "Из 10 тысяч высокая схожесть есть только у 78 пар, это маленькое значение, которое существенно не повлияет на качество модели. Из этого можно сделать вывод, что заголовки и тексты новостей содержат разные слова, которые будут полезны для модели. Поэтому в модель можно подавать текст и заголовок как разные последовательности"
      ],
      "metadata": {
        "id": "1fD_KRror51e"
      }
    }
  ]
}